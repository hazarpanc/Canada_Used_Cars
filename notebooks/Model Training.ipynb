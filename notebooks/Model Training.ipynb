{
 "cells": [
  {
   "cell_type": "code",
   "execution_count": 4,
   "id": "069982ec-b5da-478f-866b-831c4a6349c4",
   "metadata": {},
   "outputs": [],
   "source": [
    "import pandas as pd\n",
    "import numpy as np\n",
    "import os\n",
    "import datetime\n",
    "import warnings\n",
    "import logging\n",
    "import boto3\n",
    "import optuna\n",
    "import joblib\n",
    "from sklearn.model_selection import train_test_split\n",
    "from model_training import *\n",
    "from preprocessing import read_csv_file, save_file_to_s3\n",
    "warnings.filterwarnings(\"ignore\")"
   ]
  },
  {
   "cell_type": "code",
   "execution_count": 5,
   "id": "1c2b1388-fed8-4f21-a5f1-b7f3a478ed64",
   "metadata": {
    "tags": []
   },
   "outputs": [
    {
     "data": {
      "text/html": [
       "<div>\n",
       "<style scoped>\n",
       "    .dataframe tbody tr th:only-of-type {\n",
       "        vertical-align: middle;\n",
       "    }\n",
       "\n",
       "    .dataframe tbody tr th {\n",
       "        vertical-align: top;\n",
       "    }\n",
       "\n",
       "    .dataframe thead th {\n",
       "        text-align: right;\n",
       "    }\n",
       "</style>\n",
       "<table border=\"1\" class=\"dataframe\">\n",
       "  <thead>\n",
       "    <tr style=\"text-align: right;\">\n",
       "      <th></th>\n",
       "      <th>make</th>\n",
       "      <th>model</th>\n",
       "      <th>odometer</th>\n",
       "      <th>price</th>\n",
       "      <th>bodytype</th>\n",
       "      <th>trim</th>\n",
       "      <th>year</th>\n",
       "      <th>drivetrain</th>\n",
       "      <th>fetchdate</th>\n",
       "      <th>transmission_manual</th>\n",
       "      <th>province</th>\n",
       "      <th>days_since_reference</th>\n",
       "      <th>car_age</th>\n",
       "    </tr>\n",
       "  </thead>\n",
       "  <tbody>\n",
       "    <tr>\n",
       "      <th>0</th>\n",
       "      <td>audi</td>\n",
       "      <td>s5</td>\n",
       "      <td>145396</td>\n",
       "      <td>30999</td>\n",
       "      <td>coupe</td>\n",
       "      <td>s5-progressiv</td>\n",
       "      <td>2016</td>\n",
       "      <td>AWD</td>\n",
       "      <td>2022-05-17</td>\n",
       "      <td>0</td>\n",
       "      <td>quebec</td>\n",
       "      <td>136</td>\n",
       "      <td>6.378082</td>\n",
       "    </tr>\n",
       "    <tr>\n",
       "      <th>1</th>\n",
       "      <td>audi</td>\n",
       "      <td>q3</td>\n",
       "      <td>20443</td>\n",
       "      <td>33499</td>\n",
       "      <td>suv</td>\n",
       "      <td>q3-2.0 tfsi komfort</td>\n",
       "      <td>2018</td>\n",
       "      <td>AWD</td>\n",
       "      <td>2022-05-17</td>\n",
       "      <td>0</td>\n",
       "      <td>quebec</td>\n",
       "      <td>136</td>\n",
       "      <td>4.375342</td>\n",
       "    </tr>\n",
       "    <tr>\n",
       "      <th>2</th>\n",
       "      <td>audi</td>\n",
       "      <td>a4</td>\n",
       "      <td>108716</td>\n",
       "      <td>14495</td>\n",
       "      <td>sedan</td>\n",
       "      <td>a4-unknown</td>\n",
       "      <td>2013</td>\n",
       "      <td>AWD</td>\n",
       "      <td>2022-05-17</td>\n",
       "      <td>0</td>\n",
       "      <td>quebec</td>\n",
       "      <td>136</td>\n",
       "      <td>9.378082</td>\n",
       "    </tr>\n",
       "    <tr>\n",
       "      <th>3</th>\n",
       "      <td>audi</td>\n",
       "      <td>s6</td>\n",
       "      <td>213077</td>\n",
       "      <td>20890</td>\n",
       "      <td>sedan</td>\n",
       "      <td>s6-unknown</td>\n",
       "      <td>2013</td>\n",
       "      <td>AWD</td>\n",
       "      <td>2022-05-17</td>\n",
       "      <td>0</td>\n",
       "      <td>quebec</td>\n",
       "      <td>136</td>\n",
       "      <td>9.378082</td>\n",
       "    </tr>\n",
       "    <tr>\n",
       "      <th>4</th>\n",
       "      <td>audi</td>\n",
       "      <td>a4</td>\n",
       "      <td>148477</td>\n",
       "      <td>13989</td>\n",
       "      <td>sedan</td>\n",
       "      <td>a4-premium plus s-line</td>\n",
       "      <td>2013</td>\n",
       "      <td>AWD</td>\n",
       "      <td>2022-05-17</td>\n",
       "      <td>1</td>\n",
       "      <td>quebec</td>\n",
       "      <td>136</td>\n",
       "      <td>9.378082</td>\n",
       "    </tr>\n",
       "    <tr>\n",
       "      <th>...</th>\n",
       "      <td>...</td>\n",
       "      <td>...</td>\n",
       "      <td>...</td>\n",
       "      <td>...</td>\n",
       "      <td>...</td>\n",
       "      <td>...</td>\n",
       "      <td>...</td>\n",
       "      <td>...</td>\n",
       "      <td>...</td>\n",
       "      <td>...</td>\n",
       "      <td>...</td>\n",
       "      <td>...</td>\n",
       "      <td>...</td>\n",
       "    </tr>\n",
       "    <tr>\n",
       "      <th>194763</th>\n",
       "      <td>volvo</td>\n",
       "      <td>xc90</td>\n",
       "      <td>52040</td>\n",
       "      <td>52880</td>\n",
       "      <td>suv</td>\n",
       "      <td>xc90-t6 inscription</td>\n",
       "      <td>2019</td>\n",
       "      <td>AWD</td>\n",
       "      <td>2023-07-20</td>\n",
       "      <td>0</td>\n",
       "      <td>ontario</td>\n",
       "      <td>565</td>\n",
       "      <td>4.550685</td>\n",
       "    </tr>\n",
       "    <tr>\n",
       "      <th>194764</th>\n",
       "      <td>volvo</td>\n",
       "      <td>s60</td>\n",
       "      <td>73000</td>\n",
       "      <td>20900</td>\n",
       "      <td>sedan</td>\n",
       "      <td>s60-unknown</td>\n",
       "      <td>2015</td>\n",
       "      <td>AWD</td>\n",
       "      <td>2023-07-20</td>\n",
       "      <td>0</td>\n",
       "      <td>quebec</td>\n",
       "      <td>565</td>\n",
       "      <td>8.553425</td>\n",
       "    </tr>\n",
       "    <tr>\n",
       "      <th>194765</th>\n",
       "      <td>volvo</td>\n",
       "      <td>xc60</td>\n",
       "      <td>29915</td>\n",
       "      <td>49990</td>\n",
       "      <td>suv</td>\n",
       "      <td>xc60-momentum t6</td>\n",
       "      <td>2021</td>\n",
       "      <td>AWD</td>\n",
       "      <td>2023-07-20</td>\n",
       "      <td>0</td>\n",
       "      <td>ontario</td>\n",
       "      <td>565</td>\n",
       "      <td>2.547945</td>\n",
       "    </tr>\n",
       "    <tr>\n",
       "      <th>194766</th>\n",
       "      <td>volvo</td>\n",
       "      <td>xc90</td>\n",
       "      <td>71165</td>\n",
       "      <td>46988</td>\n",
       "      <td>suv</td>\n",
       "      <td>xc90-t6 inscription</td>\n",
       "      <td>2019</td>\n",
       "      <td>AWD</td>\n",
       "      <td>2023-07-20</td>\n",
       "      <td>0</td>\n",
       "      <td>ontario</td>\n",
       "      <td>565</td>\n",
       "      <td>4.550685</td>\n",
       "    </tr>\n",
       "    <tr>\n",
       "      <th>194767</th>\n",
       "      <td>volvo</td>\n",
       "      <td>xc90</td>\n",
       "      <td>44183</td>\n",
       "      <td>53990</td>\n",
       "      <td>suv</td>\n",
       "      <td>xc90-inscription t6</td>\n",
       "      <td>2019</td>\n",
       "      <td>AWD</td>\n",
       "      <td>2023-07-20</td>\n",
       "      <td>0</td>\n",
       "      <td>ontario</td>\n",
       "      <td>565</td>\n",
       "      <td>4.550685</td>\n",
       "    </tr>\n",
       "  </tbody>\n",
       "</table>\n",
       "<p>194768 rows × 13 columns</p>\n",
       "</div>"
      ],
      "text/plain": [
       "         make model  odometer  price bodytype                    trim  year  \\\n",
       "0        audi    s5    145396  30999    coupe           s5-progressiv  2016   \n",
       "1        audi    q3     20443  33499      suv     q3-2.0 tfsi komfort  2018   \n",
       "2        audi    a4    108716  14495    sedan              a4-unknown  2013   \n",
       "3        audi    s6    213077  20890    sedan              s6-unknown  2013   \n",
       "4        audi    a4    148477  13989    sedan  a4-premium plus s-line  2013   \n",
       "...       ...   ...       ...    ...      ...                     ...   ...   \n",
       "194763  volvo  xc90     52040  52880      suv     xc90-t6 inscription  2019   \n",
       "194764  volvo   s60     73000  20900    sedan             s60-unknown  2015   \n",
       "194765  volvo  xc60     29915  49990      suv        xc60-momentum t6  2021   \n",
       "194766  volvo  xc90     71165  46988      suv     xc90-t6 inscription  2019   \n",
       "194767  volvo  xc90     44183  53990      suv     xc90-inscription t6  2019   \n",
       "\n",
       "       drivetrain   fetchdate  transmission_manual province  \\\n",
       "0             AWD  2022-05-17                    0   quebec   \n",
       "1             AWD  2022-05-17                    0   quebec   \n",
       "2             AWD  2022-05-17                    0   quebec   \n",
       "3             AWD  2022-05-17                    0   quebec   \n",
       "4             AWD  2022-05-17                    1   quebec   \n",
       "...           ...         ...                  ...      ...   \n",
       "194763        AWD  2023-07-20                    0  ontario   \n",
       "194764        AWD  2023-07-20                    0   quebec   \n",
       "194765        AWD  2023-07-20                    0  ontario   \n",
       "194766        AWD  2023-07-20                    0  ontario   \n",
       "194767        AWD  2023-07-20                    0  ontario   \n",
       "\n",
       "        days_since_reference   car_age  \n",
       "0                        136  6.378082  \n",
       "1                        136  4.375342  \n",
       "2                        136  9.378082  \n",
       "3                        136  9.378082  \n",
       "4                        136  9.378082  \n",
       "...                      ...       ...  \n",
       "194763                   565  4.550685  \n",
       "194764                   565  8.553425  \n",
       "194765                   565  2.547945  \n",
       "194766                   565  4.550685  \n",
       "194767                   565  4.550685  \n",
       "\n",
       "[194768 rows x 13 columns]"
      ]
     },
     "execution_count": 5,
     "metadata": {},
     "output_type": "execute_result"
    }
   ],
   "source": [
    "# Load data\n",
    "df = read_csv_file(\"Data/processed/data_clean.csv\")\n",
    "\n",
    "df"
   ]
  },
  {
   "cell_type": "markdown",
   "id": "8b628306-8a2b-46f5-957e-25e1e8714908",
   "metadata": {
    "tags": []
   },
   "source": [
    "## Split Data"
   ]
  },
  {
   "cell_type": "code",
   "execution_count": 4,
   "id": "f17d8dfa-c299-41bc-b0ff-9f72e51c72d1",
   "metadata": {
    "tags": []
   },
   "outputs": [
    {
     "name": "stdout",
     "output_type": "stream",
     "text": [
      "Validation set cutoff date: 2023-04-30 - Rows: 38954\n"
     ]
    }
   ],
   "source": [
    "test_set_size = 0\n",
    "\n",
    "# Split data into train, validation and test sets\n",
    "X_train, X_val, X_test, y_train, y_val, y_test = split_data_by_date(df, 'fetchdate', 'price',\n",
    "                                                                    val_size=0.2, test_size=test_set_size,\n",
    "                                                                    random_state=42)"
   ]
  },
  {
   "cell_type": "code",
   "execution_count": 5,
   "id": "87e47854-5c11-4c44-808c-479c4ce073f1",
   "metadata": {
    "tags": []
   },
   "outputs": [
    {
     "name": "stdout",
     "output_type": "stream",
     "text": [
      "[LightGBM] [Warning] Auto-choosing row-wise multi-threading, the overhead of testing was 0.005194 seconds.\n",
      "You can set `force_row_wise=true` to remove the overhead.\n",
      "And if memory is not enough, you can set `force_col_wise=true`.\n",
      "[LightGBM] [Info] Total Bins 996\n",
      "[LightGBM] [Info] Number of data points in the train set: 155814, number of used features: 11\n",
      "[LightGBM] [Info] Start training from score 35872.872412\n",
      "Model training complete.\n"
     ]
    }
   ],
   "source": [
    "import lightgbm as lgb\n",
    "import category_encoders as ce\n",
    "from sklearn.preprocessing import LabelEncoder\n",
    "\n",
    "# Encode the categorical columns\n",
    "\n",
    "# Target encode\n",
    "targetenc_cols = ['model', 'trim']\n",
    "target_encoder = ce.TargetEncoder(cols=targetenc_cols)\n",
    "X_train = target_encoder.fit_transform(X_train, y_train)\n",
    "X_val = target_encoder.transform(X_val)\n",
    "\n",
    "# Label encode\n",
    "labelenc_cols = ['make', 'bodytype', 'drivetrain', 'province']\n",
    "ordinal_encoder = ce.OrdinalEncoder(cols=labelenc_cols)\n",
    "X_train[labelenc_cols] = ordinal_encoder.fit_transform(X_train[labelenc_cols])\n",
    "X_val[labelenc_cols] = ordinal_encoder.transform(X_val[labelenc_cols])\n",
    "\n",
    "# Create the lightgbm dataset\n",
    "train_dataset = lgb.Dataset(X_train, label=y_train, free_raw_data=False)\n",
    "val_dataset = lgb.Dataset(X_val, label=y_val, free_raw_data=False, reference=train_dataset)\n",
    "\n",
    "# Define the LightGBM parameters\n",
    "params = {\n",
    "    'objective': 'regression',\n",
    "    'metric': 'mape',\n",
    "    'seed': 42\n",
    "}\n",
    "\n",
    "num_boost_round = 200\n",
    "\n",
    "# Train the LightGBM model\n",
    "model = lgb.train(params, train_dataset, num_boost_round=num_boost_round, valid_sets=[train_dataset, val_dataset], categorical_feature=labelenc_cols)\n",
    "\n",
    "print(\"Model training complete.\")"
   ]
  },
  {
   "cell_type": "markdown",
   "id": "f0324387-889d-416a-8da1-90b0088ae45f",
   "metadata": {},
   "source": [
    "## Evaluate on test set"
   ]
  },
  {
   "cell_type": "code",
   "execution_count": 6,
   "id": "4a27d696-91ca-4b53-94c2-a359e13a25b1",
   "metadata": {
    "tags": []
   },
   "outputs": [],
   "source": [
    "if test_set_size > 0:\n",
    "    # Category encode the test set\n",
    "    X_test = target_encoder.transform(X_test)\n",
    "    X_test[labelenc_cols] = ordinal_encoder.transform(X_test[labelenc_cols])\n",
    "\n",
    "    # Evaluate the model on the test set\n",
    "    test_mape = evaluate_model(model, X_test, y_test)\n",
    "    test_mape = round(test_mape,4)\n",
    "    print(\"Test MAPE Value: \", test_mape)"
   ]
  },
  {
   "cell_type": "markdown",
   "id": "fbf730fc-c946-45de-9a85-d0e8cdbc166c",
   "metadata": {},
   "source": [
    "## Hyperparameter Tuning"
   ]
  },
  {
   "cell_type": "code",
   "execution_count": null,
   "id": "87f78f36-1eec-46dd-a810-505969fbc055",
   "metadata": {
    "tags": []
   },
   "outputs": [],
   "source": [
    "def objective(trial):\n",
    "    # Define the hyperparameters to optimize\n",
    "    params = {\n",
    "        'objective': 'regression',\n",
    "        'metric': 'mape',\n",
    "        'num_leaves': trial.suggest_int('num_leaves', 2, 80),\n",
    "        'n_estimators': trial.suggest_int('n_estimators', 500, 3000, step=100),\n",
    "        'learning_rate': trial.suggest_loguniform('learning_rate', 0.001, 0.1),\n",
    "        'max_depth': trial.suggest_int('max_depth', 5, 15),\n",
    "        'min_data_in_leaf': trial.suggest_int('min_data_in_leaf', 1, 50),\n",
    "        'feature_fraction': trial.suggest_uniform('feature_fraction', 0.4, 1.0),\n",
    "        'lambda_l1': trial.suggest_loguniform('lambda_l1', 0.001, 10.0),\n",
    "        'min_child_samples': trial.suggest_int('min_child_samples', 5, 100),\n",
    "        'bagging_fraction': trial.suggest_uniform('bagging_fraction', 0.4, 1.0),\n",
    "        'bagging_freq': trial.suggest_int('bagging_freq', 1, 7),\n",
    "        'verbose': -1\n",
    "    }\n",
    "    \n",
    "    # Label encoded columns\n",
    "    labelenc_cols = ['make', 'bodytype', 'drivetrain', 'province']\n",
    "\n",
    "    # Train the LightGBM model with the given hyperparameters\n",
    "    model = lgb.train(params, train_dataset, num_boost_round=num_boost_round, valid_sets=[train_dataset, val_dataset], categorical_feature=labelenc_cols)\n",
    "\n",
    "    # Make predictions on the validation set\n",
    "    y_pred = model.predict(X_val)\n",
    "\n",
    "    # Calculate the evaluation metric (MAPE)\n",
    "    mape = mean_absolute_percentage_error(y_val, y_pred)\n",
    "\n",
    "    return mape\n",
    "\n",
    "# Create the Optuna study\n",
    "study = optuna.create_study(direction='minimize')\n",
    "\n",
    "# Run the optimization trials\n",
    "study.optimize(objective, n_trials=35)\n",
    "\n",
    "# Get the best hyperparameters and the best objective value\n",
    "best_params = study.best_params\n",
    "best_value = study.best_value\n",
    "print(\"Best Hyperparameters: \", best_params)\n",
    "print(\"Best MAPE Value: \", best_value)"
   ]
  },
  {
   "cell_type": "markdown",
   "id": "617a1fdb-6c50-4794-af89-46878a622a84",
   "metadata": {},
   "source": [
    "## Visualization"
   ]
  },
  {
   "cell_type": "code",
   "execution_count": 8,
   "id": "e58b7593-1ef4-4d26-b14e-e80248f4e11a",
   "metadata": {
    "tags": []
   },
   "outputs": [],
   "source": [
    "visualize_hyperparams = False\n",
    "\n",
    "if visualize_hyperparams:\n",
    "    # Plotting the relationship between parameters\n",
    "    fig_slice_plot = optuna.visualization.plot_slice(study)\n",
    "    fig_slice_plot.show()"
   ]
  },
  {
   "cell_type": "code",
   "execution_count": 9,
   "id": "cd666275-7738-4428-98e5-bf64f6481e64",
   "metadata": {
    "tags": []
   },
   "outputs": [],
   "source": [
    "if visualize_hyperparams:\n",
    "    # Plotting the importance of parameters\n",
    "    fig_param_importances = optuna.visualization.plot_param_importances(study)\n",
    "    fig_param_importances.show()"
   ]
  },
  {
   "cell_type": "markdown",
   "id": "70ff160f-d6cb-445a-8591-034d92c17e78",
   "metadata": {},
   "source": [
    "## Train on the whole dataset"
   ]
  },
  {
   "cell_type": "code",
   "execution_count": 23,
   "id": "df283aaf-28b3-4487-94f6-a227e6c1e020",
   "metadata": {
    "tags": []
   },
   "outputs": [],
   "source": [
    "def fit_encode_data(X, y, targetenc_cols, labelenc_cols):\n",
    "    \"\"\"\n",
    "    Encodes the training data.\n",
    "\n",
    "    Parameters:\n",
    "    - X (pd.DataFrame): Training features.\n",
    "    - y (pd.Series or np.array): Training target.\n",
    "    - targetenc_cols (list): List of columns to be target encoded.\n",
    "    - labelenc_cols (list): List of columns to be encoded using LabelEncoder.\n",
    "\n",
    "    Returns:\n",
    "    - pd.DataFrame: Encoded training features.\n",
    "\n",
    "    \"\"\"\n",
    "    # Target encode the specified columns\n",
    "    target_encoder = ce.TargetEncoder(cols=targetenc_cols)\n",
    "    X_encoded = target_encoder.fit_transform(X, y)\n",
    "\n",
    "    # Label (Ordinal) encode the specified columns\n",
    "    ordinal_encoder = ce.OrdinalEncoder(cols=labelenc_cols)\n",
    "    X_encoded[labelenc_cols] = ordinal_encoder.fit_transform(X_encoded[labelenc_cols])\n",
    "\n",
    "    return X_encoded, target_encoder, ordinal_encoder"
   ]
  },
  {
   "cell_type": "code",
   "execution_count": null,
   "id": "df41c0c5-2f8f-4645-8fbb-03fdd2d874c1",
   "metadata": {
    "tags": []
   },
   "outputs": [],
   "source": [
    "X = df.drop(['price', 'fetchdate'], axis=1)\n",
    "y = df['price']\n",
    "\n",
    "targetenc_cols = ['model', 'trim']\n",
    "labelenc_cols = ['make', 'bodytype', 'drivetrain', 'province'] # ,'fueltype'\n",
    "X_encoded, target_encoder, ordinal_encoder = fit_encode_data(X, y, targetenc_cols, labelenc_cols)\n",
    "\n",
    "# Create the lightgbm dataset using all of the data\n",
    "train_dataset = lgb.Dataset(X_encoded, label=y, free_raw_data=False)\n",
    "\n",
    "# Train the LightGBM model on the whole dataset\n",
    "model = lgb.train(best_params, train_dataset, categorical_feature=labelenc_cols)\n",
    "\n",
    "print(\"Model training complete.\")"
   ]
  },
  {
   "cell_type": "code",
   "execution_count": 27,
   "id": "021a2298-deaa-4ebf-b65a-6624d304bbe1",
   "metadata": {
    "tags": []
   },
   "outputs": [
    {
     "name": "stdout",
     "output_type": "stream",
     "text": [
      "Model saved.\n",
      "Target encoder saved.\n",
      "Ordinal encoder saved.\n"
     ]
    }
   ],
   "source": [
    "# Save the LightGBM model to a file\n",
    "model.save_model('models/lightgbm/lightgbm_model.txt')\n",
    "print(\"Model saved.\")\n",
    "\n",
    "# Save the fitted target encoder to a separate file\n",
    "joblib.dump(target_encoder, 'models/lightgbm/target_encoder.joblib')\n",
    "print(\"Target encoder saved.\")\n",
    "\n",
    "# Save the fitted OrdinalEncoder to a file\n",
    "joblib.dump(ordinal_encoder, 'models/lightgbm/ordinal_encoder.joblib')\n",
    "print(\"Ordinal encoder saved.\")"
   ]
  },
  {
   "cell_type": "code",
   "execution_count": 28,
   "id": "3954056b-5901-41fd-aeac-3025ad7d6401",
   "metadata": {},
   "outputs": [
    {
     "name": "stdout",
     "output_type": "stream",
     "text": [
      "File saved to S3 bucket.\n",
      "File saved to S3 bucket.\n",
      "File saved to S3 bucket.\n"
     ]
    },
    {
     "data": {
      "text/plain": [
       "True"
      ]
     },
     "execution_count": 28,
     "metadata": {},
     "output_type": "execute_result"
    }
   ],
   "source": [
    "from preprocessing import *\n",
    "# Save model to S3\n",
    "# Get the execution role (only in SageMaker)\n",
    "role = get_execution_role()\n",
    "\n",
    "# Save to S3\n",
    "save_file_to_s3('models/lightgbm/lightgbm_model.txt', 'hazar-ml-bucket', 'carvalu/models/lightgbm_model.txt')\n",
    "save_file_to_s3('models/lightgbm/target_encoder.joblib', 'hazar-ml-bucket', 'carvalu/models/target_encoder.joblib')\n",
    "save_file_to_s3('models/lightgbm/ordinal_encoder.joblib', 'hazar-ml-bucket', 'carvalu/models/ordinal_encoder.joblib')"
   ]
  },
  {
   "cell_type": "markdown",
   "id": "2092a1c7-a72f-4e4d-a7fc-1281c0378618",
   "metadata": {
    "tags": []
   },
   "source": [
    "# Predict the Test Set"
   ]
  },
  {
   "cell_type": "markdown",
   "id": "36d9e35e-d27f-4234-839d-feae7ed6f2f8",
   "metadata": {},
   "source": [
    "## Preprocess Test Data"
   ]
  },
  {
   "cell_type": "code",
   "execution_count": 29,
   "id": "8ec0a824-6192-4bc2-8814-63cd08fb5011",
   "metadata": {
    "tags": []
   },
   "outputs": [
    {
     "name": "stdout",
     "output_type": "stream",
     "text": [
      "File downloaded successfully.\n",
      "Initial row count: 10863\n",
      "Filtering some rows\n",
      "--Row count:10810\n",
      "Dropping unnecessary columns\n",
      "--Row count:10810\n",
      "Processing make\n",
      "--Row count:10810\n",
      "Processing model\n",
      "--Row count:10647\n",
      "Processing trim\n",
      "Trims: Starting to process individual makes\n",
      "--Processing bmw\n",
      "--Processing toyota\n",
      "--Processing audi\n",
      "--Processing honda\n",
      "--Processing ford\n",
      "--Processing porsche\n",
      "--Processing chevrolet\n",
      "--Processing chrysler\n",
      "--Processing dodge\n",
      "--Processing hyundai\n",
      "--Processing land rover\n",
      "--Processing tesla\n",
      "--Processing nissan\n",
      "--Processing kia\n",
      "--Processing ram\n",
      "--Processing subaru\n",
      "--Processing mini\n",
      "--Processing cadillac\n",
      "--Processing infiniti\n",
      "--Processing mercedes-benz\n",
      "--Processing gmc\n",
      "--Processing volkswagen\n",
      "--Processing mazda\n",
      "--Processing mitsubishi\n",
      "--Processing jeep\n",
      "--Processing lexus\n",
      "--Processing lincoln\n",
      "--Processing volvo\n",
      "Trims of all makes processed\n",
      "Number of unique trims: 2090\n",
      "--Row count:10647\n",
      "Processing transmission\n",
      "--Row count:10647\n",
      "Processing drivetrain\n",
      "--Row count:10647\n",
      "Processing bodytype\n",
      "--Row count:10647\n",
      "Processing odometer\n",
      "--Row count:10545\n",
      "Processing price\n",
      "--Row count:10526\n",
      "Processing year\n",
      "--Row count:10525\n",
      "Finalizing dataframe\n",
      "Removed 40 duplicates.\n",
      "Final row count: 10133\n",
      "DataFrame saved to CSV file.\n"
     ]
    }
   ],
   "source": [
    "from preprocessing import *\n",
    "\n",
    "# Get the execution role (only in SageMaker)\n",
    "role = get_execution_role()\n",
    "\n",
    "# Declare bucket name, remote file, and destination\n",
    "my_bucket = 'hazar-ml-bucket'\n",
    "filename = 'carvalu/test_data/test_data_2023_07_30.csv'\n",
    "local_file = 'Data/raw/test_data_2023_07_30.csv'\n",
    "\n",
    "# Download the file from S3\n",
    "download_file_from_s3(my_bucket, filename, local_file)\n",
    "\n",
    "# Load the data\n",
    "df = read_csv_file(local_file, index_col=0)\n",
    "\n",
    "# Preprocess the DataFrame\n",
    "df = preprocess_dataframe(df, trim_min_occurrences=2,model_min_occurrences=2, trim_combine_with_modelname=True, remove_outliers=False)\n",
    "\n",
    "# Save to local as csv\n",
    "save_dataframe_to_csv(df, 'Data/processed/test_data_clean.csv')"
   ]
  },
  {
   "cell_type": "markdown",
   "id": "e27c0fc9-a93c-47ad-9d5a-dcb63ea7c999",
   "metadata": {},
   "source": [
    "## Predict"
   ]
  },
  {
   "cell_type": "code",
   "execution_count": 31,
   "id": "1b94eb1c-ad02-4d19-8079-691693aeaaee",
   "metadata": {
    "tags": []
   },
   "outputs": [
    {
     "name": "stdout",
     "output_type": "stream",
     "text": [
      "Test set MAPE: 5.50%\n"
     ]
    }
   ],
   "source": [
    "import lightgbm as lgb\n",
    "import category_encoders as ce\n",
    "import pandas as pd\n",
    "import joblib\n",
    "\n",
    "# Load the LightGBM model and encoders from the files\n",
    "lgb_model = lgb.Booster(model_file='models/lightgbm/lightgbm_model.txt')\n",
    "target_encoder = joblib.load('models/lightgbm/target_encoder.joblib')\n",
    "ordinal_encoder = joblib.load('models/lightgbm/ordinal_encoder.joblib')\n",
    "\n",
    "y_test = df['price']\n",
    "X_test = df.drop([\"fetchdate\",\"price\"],axis=1)\n",
    "\n",
    "# Apply target encoding\n",
    "X_test_encoded = target_encoder.transform(X_test)\n",
    "\n",
    "# Apply ordinal encoder\n",
    "labelenc_cols = ['make', 'bodytype', 'drivetrain', 'province']\n",
    "X_test_encoded[labelenc_cols] = ordinal_encoder.transform(X_test_encoded[labelenc_cols])\n",
    "\n",
    "# Predict test data\n",
    "y_pred = lgb_model.predict(X_test_encoded)\n",
    "\n",
    "from training_helpers import mean_absolute_percentage_error\n",
    "\n",
    "# Evaluate the model on the test set\n",
    "mape = mean_absolute_percentage_error(y_test, y_pred)\n",
    "print(\"Test set MAPE: {:.2f}%\".format(mape * 100))"
   ]
  },
  {
   "cell_type": "code",
   "execution_count": 32,
   "id": "810179d2-6c61-4c8d-917f-6246307545a5",
   "metadata": {
    "tags": []
   },
   "outputs": [
    {
     "data": {
      "text/html": [
       "<div>\n",
       "<style scoped>\n",
       "    .dataframe tbody tr th:only-of-type {\n",
       "        vertical-align: middle;\n",
       "    }\n",
       "\n",
       "    .dataframe tbody tr th {\n",
       "        vertical-align: top;\n",
       "    }\n",
       "\n",
       "    .dataframe thead th {\n",
       "        text-align: right;\n",
       "    }\n",
       "</style>\n",
       "<table border=\"1\" class=\"dataframe\">\n",
       "  <thead>\n",
       "    <tr style=\"text-align: right;\">\n",
       "      <th></th>\n",
       "      <th>pct_error</th>\n",
       "    </tr>\n",
       "    <tr>\n",
       "      <th>real_make</th>\n",
       "      <th></th>\n",
       "    </tr>\n",
       "  </thead>\n",
       "  <tbody>\n",
       "    <tr>\n",
       "      <th>tesla</th>\n",
       "      <td>2.743678</td>\n",
       "    </tr>\n",
       "    <tr>\n",
       "      <th>cadillac</th>\n",
       "      <td>3.552685</td>\n",
       "    </tr>\n",
       "    <tr>\n",
       "      <th>lexus</th>\n",
       "      <td>3.725402</td>\n",
       "    </tr>\n",
       "    <tr>\n",
       "      <th>volvo</th>\n",
       "      <td>3.814190</td>\n",
       "    </tr>\n",
       "    <tr>\n",
       "      <th>lincoln</th>\n",
       "      <td>4.042441</td>\n",
       "    </tr>\n",
       "    <tr>\n",
       "      <th>infiniti</th>\n",
       "      <td>4.196404</td>\n",
       "    </tr>\n",
       "    <tr>\n",
       "      <th>toyota</th>\n",
       "      <td>4.339412</td>\n",
       "    </tr>\n",
       "    <tr>\n",
       "      <th>honda</th>\n",
       "      <td>4.348687</td>\n",
       "    </tr>\n",
       "    <tr>\n",
       "      <th>porsche</th>\n",
       "      <td>4.548816</td>\n",
       "    </tr>\n",
       "    <tr>\n",
       "      <th>land rover</th>\n",
       "      <td>4.816886</td>\n",
       "    </tr>\n",
       "    <tr>\n",
       "      <th>bmw</th>\n",
       "      <td>4.834278</td>\n",
       "    </tr>\n",
       "    <tr>\n",
       "      <th>chrysler</th>\n",
       "      <td>4.956735</td>\n",
       "    </tr>\n",
       "    <tr>\n",
       "      <th>mazda</th>\n",
       "      <td>4.994966</td>\n",
       "    </tr>\n",
       "    <tr>\n",
       "      <th>volkswagen</th>\n",
       "      <td>5.209500</td>\n",
       "    </tr>\n",
       "    <tr>\n",
       "      <th>mitsubishi</th>\n",
       "      <td>5.268011</td>\n",
       "    </tr>\n",
       "    <tr>\n",
       "      <th>mercedes-benz</th>\n",
       "      <td>5.421068</td>\n",
       "    </tr>\n",
       "    <tr>\n",
       "      <th>jeep</th>\n",
       "      <td>5.476796</td>\n",
       "    </tr>\n",
       "    <tr>\n",
       "      <th>audi</th>\n",
       "      <td>5.506780</td>\n",
       "    </tr>\n",
       "    <tr>\n",
       "      <th>kia</th>\n",
       "      <td>5.680452</td>\n",
       "    </tr>\n",
       "    <tr>\n",
       "      <th>chevrolet</th>\n",
       "      <td>5.872196</td>\n",
       "    </tr>\n",
       "    <tr>\n",
       "      <th>subaru</th>\n",
       "      <td>6.176863</td>\n",
       "    </tr>\n",
       "    <tr>\n",
       "      <th>hyundai</th>\n",
       "      <td>6.179456</td>\n",
       "    </tr>\n",
       "    <tr>\n",
       "      <th>ford</th>\n",
       "      <td>6.530619</td>\n",
       "    </tr>\n",
       "    <tr>\n",
       "      <th>gmc</th>\n",
       "      <td>6.674864</td>\n",
       "    </tr>\n",
       "    <tr>\n",
       "      <th>nissan</th>\n",
       "      <td>6.834881</td>\n",
       "    </tr>\n",
       "    <tr>\n",
       "      <th>mini</th>\n",
       "      <td>7.419443</td>\n",
       "    </tr>\n",
       "    <tr>\n",
       "      <th>ram</th>\n",
       "      <td>8.291951</td>\n",
       "    </tr>\n",
       "    <tr>\n",
       "      <th>dodge</th>\n",
       "      <td>8.389786</td>\n",
       "    </tr>\n",
       "  </tbody>\n",
       "</table>\n",
       "</div>"
      ],
      "text/plain": [
       "               pct_error\n",
       "real_make               \n",
       "tesla           2.743678\n",
       "cadillac        3.552685\n",
       "lexus           3.725402\n",
       "volvo           3.814190\n",
       "lincoln         4.042441\n",
       "infiniti        4.196404\n",
       "toyota          4.339412\n",
       "honda           4.348687\n",
       "porsche         4.548816\n",
       "land rover      4.816886\n",
       "bmw             4.834278\n",
       "chrysler        4.956735\n",
       "mazda           4.994966\n",
       "volkswagen      5.209500\n",
       "mitsubishi      5.268011\n",
       "mercedes-benz   5.421068\n",
       "jeep            5.476796\n",
       "audi            5.506780\n",
       "kia             5.680452\n",
       "chevrolet       5.872196\n",
       "subaru          6.176863\n",
       "hyundai         6.179456\n",
       "ford            6.530619\n",
       "gmc             6.674864\n",
       "nissan          6.834881\n",
       "mini            7.419443\n",
       "ram             8.291951\n",
       "dodge           8.389786"
      ]
     },
     "execution_count": 32,
     "metadata": {},
     "output_type": "execute_result"
    }
   ],
   "source": [
    "X_test_encoded['real_make'] = df.make\n",
    "X_test_encoded['price'] = y_test\n",
    "X_test_encoded['prediction'] = y_pred\n",
    "X_test_encoded['pct_error'] = X_test_encoded.apply(lambda row: abs(row['price']-row['prediction'])/row['price']*100,axis=1)\n",
    "\n",
    "error_table = X_test_encoded.groupby(by=\"real_make\").mean()\n",
    "error_table = error_table[['pct_error']]\n",
    "error_table.sort_values('pct_error')"
   ]
  },
  {
   "cell_type": "markdown",
   "id": "ab99fd3b-a5c0-4a54-9c43-dff047e4f2f7",
   "metadata": {},
   "source": [
    "## Model Performance on Clean Test Data"
   ]
  },
  {
   "cell_type": "code",
   "execution_count": 35,
   "id": "59786f12-66b9-4481-939f-cbbda4b6527d",
   "metadata": {
    "tags": []
   },
   "outputs": [],
   "source": [
    "indexes_to_remove = df[df['trim'].str.contains('unknown')].index"
   ]
  },
  {
   "cell_type": "code",
   "execution_count": 36,
   "id": "1ed29b0e-d525-42e2-a7d4-8c5d1058a3db",
   "metadata": {
    "tags": []
   },
   "outputs": [],
   "source": [
    "X_test_no_unknowns = X_test.drop(indexes_to_remove)\n",
    "y_test_no_unknowns = y_test.drop(indexes_to_remove)"
   ]
  },
  {
   "cell_type": "code",
   "execution_count": 37,
   "id": "092d4d1e-3902-4a31-9dfd-65e774848ce1",
   "metadata": {
    "tags": []
   },
   "outputs": [
    {
     "name": "stdout",
     "output_type": "stream",
     "text": [
      "Test set MAPE: 4.98%\n"
     ]
    }
   ],
   "source": [
    "# Apply target encoding\n",
    "X_test_no_unknowns_encoded = target_encoder.transform(X_test_no_unknowns)\n",
    "\n",
    "# Apply ordinal encoder\n",
    "labelenc_cols = ['make', 'bodytype', 'drivetrain', 'province']\n",
    "X_test_no_unknowns_encoded[labelenc_cols] = ordinal_encoder.transform(X_test_no_unknowns_encoded[labelenc_cols])\n",
    "\n",
    "# Predict test data\n",
    "y_pred = lgb_model.predict(X_test_no_unknowns_encoded)\n",
    "\n",
    "from training_helpers import mean_absolute_percentage_error\n",
    "\n",
    "# Evaluate the model on the test set\n",
    "mape = mean_absolute_percentage_error(y_test_no_unknowns, y_pred)\n",
    "print(\"Test set MAPE: {:.2f}%\".format(mape * 100))"
   ]
  }
 ],
 "metadata": {
  "availableInstances": [
   {
    "_defaultOrder": 0,
    "_isFastLaunch": true,
    "category": "General purpose",
    "gpuNum": 0,
    "hideHardwareSpecs": false,
    "memoryGiB": 4,
    "name": "ml.t3.medium",
    "vcpuNum": 2
   },
   {
    "_defaultOrder": 1,
    "_isFastLaunch": false,
    "category": "General purpose",
    "gpuNum": 0,
    "hideHardwareSpecs": false,
    "memoryGiB": 8,
    "name": "ml.t3.large",
    "vcpuNum": 2
   },
   {
    "_defaultOrder": 2,
    "_isFastLaunch": false,
    "category": "General purpose",
    "gpuNum": 0,
    "hideHardwareSpecs": false,
    "memoryGiB": 16,
    "name": "ml.t3.xlarge",
    "vcpuNum": 4
   },
   {
    "_defaultOrder": 3,
    "_isFastLaunch": false,
    "category": "General purpose",
    "gpuNum": 0,
    "hideHardwareSpecs": false,
    "memoryGiB": 32,
    "name": "ml.t3.2xlarge",
    "vcpuNum": 8
   },
   {
    "_defaultOrder": 4,
    "_isFastLaunch": true,
    "category": "General purpose",
    "gpuNum": 0,
    "hideHardwareSpecs": false,
    "memoryGiB": 8,
    "name": "ml.m5.large",
    "vcpuNum": 2
   },
   {
    "_defaultOrder": 5,
    "_isFastLaunch": false,
    "category": "General purpose",
    "gpuNum": 0,
    "hideHardwareSpecs": false,
    "memoryGiB": 16,
    "name": "ml.m5.xlarge",
    "vcpuNum": 4
   },
   {
    "_defaultOrder": 6,
    "_isFastLaunch": false,
    "category": "General purpose",
    "gpuNum": 0,
    "hideHardwareSpecs": false,
    "memoryGiB": 32,
    "name": "ml.m5.2xlarge",
    "vcpuNum": 8
   },
   {
    "_defaultOrder": 7,
    "_isFastLaunch": false,
    "category": "General purpose",
    "gpuNum": 0,
    "hideHardwareSpecs": false,
    "memoryGiB": 64,
    "name": "ml.m5.4xlarge",
    "vcpuNum": 16
   },
   {
    "_defaultOrder": 8,
    "_isFastLaunch": false,
    "category": "General purpose",
    "gpuNum": 0,
    "hideHardwareSpecs": false,
    "memoryGiB": 128,
    "name": "ml.m5.8xlarge",
    "vcpuNum": 32
   },
   {
    "_defaultOrder": 9,
    "_isFastLaunch": false,
    "category": "General purpose",
    "gpuNum": 0,
    "hideHardwareSpecs": false,
    "memoryGiB": 192,
    "name": "ml.m5.12xlarge",
    "vcpuNum": 48
   },
   {
    "_defaultOrder": 10,
    "_isFastLaunch": false,
    "category": "General purpose",
    "gpuNum": 0,
    "hideHardwareSpecs": false,
    "memoryGiB": 256,
    "name": "ml.m5.16xlarge",
    "vcpuNum": 64
   },
   {
    "_defaultOrder": 11,
    "_isFastLaunch": false,
    "category": "General purpose",
    "gpuNum": 0,
    "hideHardwareSpecs": false,
    "memoryGiB": 384,
    "name": "ml.m5.24xlarge",
    "vcpuNum": 96
   },
   {
    "_defaultOrder": 12,
    "_isFastLaunch": false,
    "category": "General purpose",
    "gpuNum": 0,
    "hideHardwareSpecs": false,
    "memoryGiB": 8,
    "name": "ml.m5d.large",
    "vcpuNum": 2
   },
   {
    "_defaultOrder": 13,
    "_isFastLaunch": false,
    "category": "General purpose",
    "gpuNum": 0,
    "hideHardwareSpecs": false,
    "memoryGiB": 16,
    "name": "ml.m5d.xlarge",
    "vcpuNum": 4
   },
   {
    "_defaultOrder": 14,
    "_isFastLaunch": false,
    "category": "General purpose",
    "gpuNum": 0,
    "hideHardwareSpecs": false,
    "memoryGiB": 32,
    "name": "ml.m5d.2xlarge",
    "vcpuNum": 8
   },
   {
    "_defaultOrder": 15,
    "_isFastLaunch": false,
    "category": "General purpose",
    "gpuNum": 0,
    "hideHardwareSpecs": false,
    "memoryGiB": 64,
    "name": "ml.m5d.4xlarge",
    "vcpuNum": 16
   },
   {
    "_defaultOrder": 16,
    "_isFastLaunch": false,
    "category": "General purpose",
    "gpuNum": 0,
    "hideHardwareSpecs": false,
    "memoryGiB": 128,
    "name": "ml.m5d.8xlarge",
    "vcpuNum": 32
   },
   {
    "_defaultOrder": 17,
    "_isFastLaunch": false,
    "category": "General purpose",
    "gpuNum": 0,
    "hideHardwareSpecs": false,
    "memoryGiB": 192,
    "name": "ml.m5d.12xlarge",
    "vcpuNum": 48
   },
   {
    "_defaultOrder": 18,
    "_isFastLaunch": false,
    "category": "General purpose",
    "gpuNum": 0,
    "hideHardwareSpecs": false,
    "memoryGiB": 256,
    "name": "ml.m5d.16xlarge",
    "vcpuNum": 64
   },
   {
    "_defaultOrder": 19,
    "_isFastLaunch": false,
    "category": "General purpose",
    "gpuNum": 0,
    "hideHardwareSpecs": false,
    "memoryGiB": 384,
    "name": "ml.m5d.24xlarge",
    "vcpuNum": 96
   },
   {
    "_defaultOrder": 20,
    "_isFastLaunch": false,
    "category": "General purpose",
    "gpuNum": 0,
    "hideHardwareSpecs": true,
    "memoryGiB": 0,
    "name": "ml.geospatial.interactive",
    "supportedImageNames": [
     "sagemaker-geospatial-v1-0"
    ],
    "vcpuNum": 0
   },
   {
    "_defaultOrder": 21,
    "_isFastLaunch": true,
    "category": "Compute optimized",
    "gpuNum": 0,
    "hideHardwareSpecs": false,
    "memoryGiB": 4,
    "name": "ml.c5.large",
    "vcpuNum": 2
   },
   {
    "_defaultOrder": 22,
    "_isFastLaunch": false,
    "category": "Compute optimized",
    "gpuNum": 0,
    "hideHardwareSpecs": false,
    "memoryGiB": 8,
    "name": "ml.c5.xlarge",
    "vcpuNum": 4
   },
   {
    "_defaultOrder": 23,
    "_isFastLaunch": false,
    "category": "Compute optimized",
    "gpuNum": 0,
    "hideHardwareSpecs": false,
    "memoryGiB": 16,
    "name": "ml.c5.2xlarge",
    "vcpuNum": 8
   },
   {
    "_defaultOrder": 24,
    "_isFastLaunch": false,
    "category": "Compute optimized",
    "gpuNum": 0,
    "hideHardwareSpecs": false,
    "memoryGiB": 32,
    "name": "ml.c5.4xlarge",
    "vcpuNum": 16
   },
   {
    "_defaultOrder": 25,
    "_isFastLaunch": false,
    "category": "Compute optimized",
    "gpuNum": 0,
    "hideHardwareSpecs": false,
    "memoryGiB": 72,
    "name": "ml.c5.9xlarge",
    "vcpuNum": 36
   },
   {
    "_defaultOrder": 26,
    "_isFastLaunch": false,
    "category": "Compute optimized",
    "gpuNum": 0,
    "hideHardwareSpecs": false,
    "memoryGiB": 96,
    "name": "ml.c5.12xlarge",
    "vcpuNum": 48
   },
   {
    "_defaultOrder": 27,
    "_isFastLaunch": false,
    "category": "Compute optimized",
    "gpuNum": 0,
    "hideHardwareSpecs": false,
    "memoryGiB": 144,
    "name": "ml.c5.18xlarge",
    "vcpuNum": 72
   },
   {
    "_defaultOrder": 28,
    "_isFastLaunch": false,
    "category": "Compute optimized",
    "gpuNum": 0,
    "hideHardwareSpecs": false,
    "memoryGiB": 192,
    "name": "ml.c5.24xlarge",
    "vcpuNum": 96
   },
   {
    "_defaultOrder": 29,
    "_isFastLaunch": true,
    "category": "Accelerated computing",
    "gpuNum": 1,
    "hideHardwareSpecs": false,
    "memoryGiB": 16,
    "name": "ml.g4dn.xlarge",
    "vcpuNum": 4
   },
   {
    "_defaultOrder": 30,
    "_isFastLaunch": false,
    "category": "Accelerated computing",
    "gpuNum": 1,
    "hideHardwareSpecs": false,
    "memoryGiB": 32,
    "name": "ml.g4dn.2xlarge",
    "vcpuNum": 8
   },
   {
    "_defaultOrder": 31,
    "_isFastLaunch": false,
    "category": "Accelerated computing",
    "gpuNum": 1,
    "hideHardwareSpecs": false,
    "memoryGiB": 64,
    "name": "ml.g4dn.4xlarge",
    "vcpuNum": 16
   },
   {
    "_defaultOrder": 32,
    "_isFastLaunch": false,
    "category": "Accelerated computing",
    "gpuNum": 1,
    "hideHardwareSpecs": false,
    "memoryGiB": 128,
    "name": "ml.g4dn.8xlarge",
    "vcpuNum": 32
   },
   {
    "_defaultOrder": 33,
    "_isFastLaunch": false,
    "category": "Accelerated computing",
    "gpuNum": 4,
    "hideHardwareSpecs": false,
    "memoryGiB": 192,
    "name": "ml.g4dn.12xlarge",
    "vcpuNum": 48
   },
   {
    "_defaultOrder": 34,
    "_isFastLaunch": false,
    "category": "Accelerated computing",
    "gpuNum": 1,
    "hideHardwareSpecs": false,
    "memoryGiB": 256,
    "name": "ml.g4dn.16xlarge",
    "vcpuNum": 64
   },
   {
    "_defaultOrder": 35,
    "_isFastLaunch": false,
    "category": "Accelerated computing",
    "gpuNum": 1,
    "hideHardwareSpecs": false,
    "memoryGiB": 61,
    "name": "ml.p3.2xlarge",
    "vcpuNum": 8
   },
   {
    "_defaultOrder": 36,
    "_isFastLaunch": false,
    "category": "Accelerated computing",
    "gpuNum": 4,
    "hideHardwareSpecs": false,
    "memoryGiB": 244,
    "name": "ml.p3.8xlarge",
    "vcpuNum": 32
   },
   {
    "_defaultOrder": 37,
    "_isFastLaunch": false,
    "category": "Accelerated computing",
    "gpuNum": 8,
    "hideHardwareSpecs": false,
    "memoryGiB": 488,
    "name": "ml.p3.16xlarge",
    "vcpuNum": 64
   },
   {
    "_defaultOrder": 38,
    "_isFastLaunch": false,
    "category": "Accelerated computing",
    "gpuNum": 8,
    "hideHardwareSpecs": false,
    "memoryGiB": 768,
    "name": "ml.p3dn.24xlarge",
    "vcpuNum": 96
   },
   {
    "_defaultOrder": 39,
    "_isFastLaunch": false,
    "category": "Memory Optimized",
    "gpuNum": 0,
    "hideHardwareSpecs": false,
    "memoryGiB": 16,
    "name": "ml.r5.large",
    "vcpuNum": 2
   },
   {
    "_defaultOrder": 40,
    "_isFastLaunch": false,
    "category": "Memory Optimized",
    "gpuNum": 0,
    "hideHardwareSpecs": false,
    "memoryGiB": 32,
    "name": "ml.r5.xlarge",
    "vcpuNum": 4
   },
   {
    "_defaultOrder": 41,
    "_isFastLaunch": false,
    "category": "Memory Optimized",
    "gpuNum": 0,
    "hideHardwareSpecs": false,
    "memoryGiB": 64,
    "name": "ml.r5.2xlarge",
    "vcpuNum": 8
   },
   {
    "_defaultOrder": 42,
    "_isFastLaunch": false,
    "category": "Memory Optimized",
    "gpuNum": 0,
    "hideHardwareSpecs": false,
    "memoryGiB": 128,
    "name": "ml.r5.4xlarge",
    "vcpuNum": 16
   },
   {
    "_defaultOrder": 43,
    "_isFastLaunch": false,
    "category": "Memory Optimized",
    "gpuNum": 0,
    "hideHardwareSpecs": false,
    "memoryGiB": 256,
    "name": "ml.r5.8xlarge",
    "vcpuNum": 32
   },
   {
    "_defaultOrder": 44,
    "_isFastLaunch": false,
    "category": "Memory Optimized",
    "gpuNum": 0,
    "hideHardwareSpecs": false,
    "memoryGiB": 384,
    "name": "ml.r5.12xlarge",
    "vcpuNum": 48
   },
   {
    "_defaultOrder": 45,
    "_isFastLaunch": false,
    "category": "Memory Optimized",
    "gpuNum": 0,
    "hideHardwareSpecs": false,
    "memoryGiB": 512,
    "name": "ml.r5.16xlarge",
    "vcpuNum": 64
   },
   {
    "_defaultOrder": 46,
    "_isFastLaunch": false,
    "category": "Memory Optimized",
    "gpuNum": 0,
    "hideHardwareSpecs": false,
    "memoryGiB": 768,
    "name": "ml.r5.24xlarge",
    "vcpuNum": 96
   },
   {
    "_defaultOrder": 47,
    "_isFastLaunch": false,
    "category": "Accelerated computing",
    "gpuNum": 1,
    "hideHardwareSpecs": false,
    "memoryGiB": 16,
    "name": "ml.g5.xlarge",
    "vcpuNum": 4
   },
   {
    "_defaultOrder": 48,
    "_isFastLaunch": false,
    "category": "Accelerated computing",
    "gpuNum": 1,
    "hideHardwareSpecs": false,
    "memoryGiB": 32,
    "name": "ml.g5.2xlarge",
    "vcpuNum": 8
   },
   {
    "_defaultOrder": 49,
    "_isFastLaunch": false,
    "category": "Accelerated computing",
    "gpuNum": 1,
    "hideHardwareSpecs": false,
    "memoryGiB": 64,
    "name": "ml.g5.4xlarge",
    "vcpuNum": 16
   },
   {
    "_defaultOrder": 50,
    "_isFastLaunch": false,
    "category": "Accelerated computing",
    "gpuNum": 1,
    "hideHardwareSpecs": false,
    "memoryGiB": 128,
    "name": "ml.g5.8xlarge",
    "vcpuNum": 32
   },
   {
    "_defaultOrder": 51,
    "_isFastLaunch": false,
    "category": "Accelerated computing",
    "gpuNum": 1,
    "hideHardwareSpecs": false,
    "memoryGiB": 256,
    "name": "ml.g5.16xlarge",
    "vcpuNum": 64
   },
   {
    "_defaultOrder": 52,
    "_isFastLaunch": false,
    "category": "Accelerated computing",
    "gpuNum": 4,
    "hideHardwareSpecs": false,
    "memoryGiB": 192,
    "name": "ml.g5.12xlarge",
    "vcpuNum": 48
   },
   {
    "_defaultOrder": 53,
    "_isFastLaunch": false,
    "category": "Accelerated computing",
    "gpuNum": 4,
    "hideHardwareSpecs": false,
    "memoryGiB": 384,
    "name": "ml.g5.24xlarge",
    "vcpuNum": 96
   },
   {
    "_defaultOrder": 54,
    "_isFastLaunch": false,
    "category": "Accelerated computing",
    "gpuNum": 8,
    "hideHardwareSpecs": false,
    "memoryGiB": 768,
    "name": "ml.g5.48xlarge",
    "vcpuNum": 192
   },
   {
    "_defaultOrder": 55,
    "_isFastLaunch": false,
    "category": "Accelerated computing",
    "gpuNum": 8,
    "hideHardwareSpecs": false,
    "memoryGiB": 1152,
    "name": "ml.p4d.24xlarge",
    "vcpuNum": 96
   },
   {
    "_defaultOrder": 56,
    "_isFastLaunch": false,
    "category": "Accelerated computing",
    "gpuNum": 8,
    "hideHardwareSpecs": false,
    "memoryGiB": 1152,
    "name": "ml.p4de.24xlarge",
    "vcpuNum": 96
   }
  ],
  "instance_type": "ml.t3.medium",
  "kernelspec": {
   "display_name": "Python 3 (Data Science)",
   "language": "python",
   "name": "python3__SAGEMAKER_INTERNAL__arn:aws:sagemaker:us-east-1:081325390199:image/datascience-1.0"
  },
  "language_info": {
   "codemirror_mode": {
    "name": "ipython",
    "version": 3
   },
   "file_extension": ".py",
   "mimetype": "text/x-python",
   "name": "python",
   "nbconvert_exporter": "python",
   "pygments_lexer": "ipython3",
   "version": "3.7.10"
  }
 },
 "nbformat": 4,
 "nbformat_minor": 5
}
