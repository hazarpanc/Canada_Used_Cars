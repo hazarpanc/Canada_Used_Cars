{
  "nbformat": 4,
  "nbformat_minor": 0,
  "metadata": {
    "colab": {
      "name": "Preprocessing.ipynb",
      "provenance": []
    },
    "kernelspec": {
      "name": "python3",
      "display_name": "Python 3"
    },
    "language_info": {
      "name": "python"
    }
  },
  "cells": [
    {
      "cell_type": "code",
      "execution_count": 1,
      "metadata": {
        "id": "27945b18"
      },
      "outputs": [],
      "source": [
        "__author__ = 'Hazar Panc'\n",
        "__email__ = 'hello@hazarpanc.com'\n",
        "__website__ = 'www.hazarpanc.com'"
      ]
    },
    {
      "cell_type": "code",
      "execution_count": 3,
      "metadata": {
        "id": "e171a37d",
        "colab": {
          "base_uri": "https://localhost:8080/"
        },
        "outputId": "b80d2e64-84e6-411d-9695-a7db9a450a00"
      },
      "outputs": [
        {
          "output_type": "stream",
          "name": "stdout",
          "text": [
            "Drive already mounted at drive; to attempt to forcibly remount, call drive.mount(\"drive\", force_remount=True).\n"
          ]
        }
      ],
      "source": [
        "import pandas as pd\n",
        "import numpy as np\n",
        "import os\n",
        "import gc\n",
        "import warnings\n",
        "from google.colab import drive\n",
        "warnings.filterwarnings(\"ignore\")\n",
        "\n",
        "drive.mount('drive') # , force_remount=True"
      ]
    },
    {
      "cell_type": "markdown",
      "metadata": {
        "id": "5c66c7e2"
      },
      "source": [
        "## Load and display data"
      ]
    },
    {
      "cell_type": "code",
      "source": [
        "def import_data(file):\n",
        "    \"\"\"create a dataframe and load csv file\"\"\"\n",
        "    df = pd.read_csv(file, index_col=0)\n",
        "    return df"
      ],
      "metadata": {
        "id": "bthEV4ojRGuj"
      },
      "execution_count": 4,
      "outputs": []
    },
    {
      "cell_type": "code",
      "execution_count": 5,
      "metadata": {
        "id": "5ebfabdd"
      },
      "outputs": [],
      "source": [
        "filepath = \"drive/MyDrive/Colab Notebooks/Portfolio/train.csv\"\n",
        "df = import_data(filepath)"
      ]
    },
    {
      "cell_type": "code",
      "execution_count": 6,
      "metadata": {
        "colab": {
          "base_uri": "https://localhost:8080/",
          "height": 624
        },
        "id": "b10c5ade",
        "outputId": "990a3c0e-c22b-481e-d331-57d770e37e0f"
      },
      "outputs": [
        {
          "output_type": "execute_result",
          "data": {
            "text/plain": [
              "        make model    odometer   price bodytype status  \\\n",
              "1399    Audi    S5  145,396 KM  30,999    coupe   Used   \n",
              "1400    Audi    Q3   20,443 KM  33,499      suv   Used   \n",
              "1401    Audi    A4  108,716 KM  14,495    sedan   Used   \n",
              "1407    Audi    S6  213,077 KM  20,890    sedan   Used   \n",
              "1412    Audi    A4  148,477 KM  13,989    sedan   Used   \n",
              "...      ...   ...         ...     ...      ...    ...   \n",
              "67864  Volvo  Xc60   31,678 KM  65,990      suv   Used   \n",
              "67865  Volvo  Xc60   43,124 KM  45,999      suv   Used   \n",
              "67866  Volvo  Xc60   27,371 KM  52,900      suv   Used   \n",
              "67867  Volvo  Xc40   40,377 KM  39,551      suv   Used   \n",
              "67868  Volvo  Xc90   15,723 KM  75,242      suv   Used   \n",
              "\n",
              "                                                    trim  year  vehicleAge  \\\n",
              "1399                 2dr Cpe Auto Progressiv -Ltd Avail-  2016         NaN   \n",
              "1400                  2.0 TFSI quattro Komfort Tiptronic  2018         NaN   \n",
              "1401   PREMIUM PLUS QUATTRO NAV CUIR TOIT CAM DE RECU...  2013         NaN   \n",
              "1407                                                 NaN  2013         NaN   \n",
              "1412                PREMIUM PLUS S-LINE QUATTRO + WOW !!  2013         NaN   \n",
              "...                                                  ...   ...         ...   \n",
              "67864   *HYBRID*PRICED TO SELL*WARRANTY UNTIL 160K*0.99%  2020         NaN   \n",
              "67865        T6 Momentum - warranty till 2024 /160,000km  2019         NaN   \n",
              "67866                                    T6 AWD Momentum  2020         NaN   \n",
              "67867                 MOMENTUM | ONE OWNER | NO ACCIDENT  2019         NaN   \n",
              "67868                           T6 AWD R-Design 7-Seater  2021         NaN   \n",
              "\n",
              "      drivetrain       transmission  \\\n",
              "1399         AWD          Automatic   \n",
              "1400         AWD          Automatic   \n",
              "1401         AWD          Automatic   \n",
              "1407         AWD          Automatic   \n",
              "1412         AWD             Manual   \n",
              "...          ...                ...   \n",
              "67864        AWD  8 Speed Automatic   \n",
              "67865        AWD  8 Speed Automatic   \n",
              "67866        AWD  8 Speed Automatic   \n",
              "67867        AWD  8 Speed Automatic   \n",
              "67868        AWD          Automatic   \n",
              "\n",
              "                                             description province  \n",
              "1399   Traction intégrale, système de navigation, toi...   quebec  \n",
              "1400   Traction intégrale, toit panoramique, sièges c...   quebec  \n",
              "1401   ***FINANCEMENT RAPIDE ET FACILE | APPROBATION ...   quebec  \n",
              "1407   - 1 seul propriétaire mature depuis neuf\\n\\n- ...   quebec  \n",
              "1412   * * MANUELLE RARE, WOW FAITES-VITE !! * * \\n\\n...   quebec  \n",
              "...                                                  ...      ...  \n",
              "67864  VOLVO WARRANTY UNTIL DECEMBER 2026 OR 160,000K...  ontario  \n",
              "67865  Black 2019 Volvo XC60 T6 Momentum AWD Automati...  ontario  \n",
              "67866  CPO Warranty until April 2026 or 160,000km.  C...  ontario  \n",
              "67867  CARFAX Canada No Reported Accidents\\nCARFAX Ca...  ontario  \n",
              "67868  Odometer is 1125 kilometers below market avera...  ontario  \n",
              "\n",
              "[54761 rows x 13 columns]"
            ],
            "text/html": [
              "\n",
              "  <div id=\"df-07d0e407-c522-45b8-b4e4-d736081ec4f5\">\n",
              "    <div class=\"colab-df-container\">\n",
              "      <div>\n",
              "<style scoped>\n",
              "    .dataframe tbody tr th:only-of-type {\n",
              "        vertical-align: middle;\n",
              "    }\n",
              "\n",
              "    .dataframe tbody tr th {\n",
              "        vertical-align: top;\n",
              "    }\n",
              "\n",
              "    .dataframe thead th {\n",
              "        text-align: right;\n",
              "    }\n",
              "</style>\n",
              "<table border=\"1\" class=\"dataframe\">\n",
              "  <thead>\n",
              "    <tr style=\"text-align: right;\">\n",
              "      <th></th>\n",
              "      <th>make</th>\n",
              "      <th>model</th>\n",
              "      <th>odometer</th>\n",
              "      <th>price</th>\n",
              "      <th>bodytype</th>\n",
              "      <th>status</th>\n",
              "      <th>trim</th>\n",
              "      <th>year</th>\n",
              "      <th>vehicleAge</th>\n",
              "      <th>drivetrain</th>\n",
              "      <th>transmission</th>\n",
              "      <th>description</th>\n",
              "      <th>province</th>\n",
              "    </tr>\n",
              "  </thead>\n",
              "  <tbody>\n",
              "    <tr>\n",
              "      <th>1399</th>\n",
              "      <td>Audi</td>\n",
              "      <td>S5</td>\n",
              "      <td>145,396 KM</td>\n",
              "      <td>30,999</td>\n",
              "      <td>coupe</td>\n",
              "      <td>Used</td>\n",
              "      <td>2dr Cpe Auto Progressiv -Ltd Avail-</td>\n",
              "      <td>2016</td>\n",
              "      <td>NaN</td>\n",
              "      <td>AWD</td>\n",
              "      <td>Automatic</td>\n",
              "      <td>Traction intégrale, système de navigation, toi...</td>\n",
              "      <td>quebec</td>\n",
              "    </tr>\n",
              "    <tr>\n",
              "      <th>1400</th>\n",
              "      <td>Audi</td>\n",
              "      <td>Q3</td>\n",
              "      <td>20,443 KM</td>\n",
              "      <td>33,499</td>\n",
              "      <td>suv</td>\n",
              "      <td>Used</td>\n",
              "      <td>2.0 TFSI quattro Komfort Tiptronic</td>\n",
              "      <td>2018</td>\n",
              "      <td>NaN</td>\n",
              "      <td>AWD</td>\n",
              "      <td>Automatic</td>\n",
              "      <td>Traction intégrale, toit panoramique, sièges c...</td>\n",
              "      <td>quebec</td>\n",
              "    </tr>\n",
              "    <tr>\n",
              "      <th>1401</th>\n",
              "      <td>Audi</td>\n",
              "      <td>A4</td>\n",
              "      <td>108,716 KM</td>\n",
              "      <td>14,495</td>\n",
              "      <td>sedan</td>\n",
              "      <td>Used</td>\n",
              "      <td>PREMIUM PLUS QUATTRO NAV CUIR TOIT CAM DE RECU...</td>\n",
              "      <td>2013</td>\n",
              "      <td>NaN</td>\n",
              "      <td>AWD</td>\n",
              "      <td>Automatic</td>\n",
              "      <td>***FINANCEMENT RAPIDE ET FACILE | APPROBATION ...</td>\n",
              "      <td>quebec</td>\n",
              "    </tr>\n",
              "    <tr>\n",
              "      <th>1407</th>\n",
              "      <td>Audi</td>\n",
              "      <td>S6</td>\n",
              "      <td>213,077 KM</td>\n",
              "      <td>20,890</td>\n",
              "      <td>sedan</td>\n",
              "      <td>Used</td>\n",
              "      <td>NaN</td>\n",
              "      <td>2013</td>\n",
              "      <td>NaN</td>\n",
              "      <td>AWD</td>\n",
              "      <td>Automatic</td>\n",
              "      <td>- 1 seul propriétaire mature depuis neuf\\n\\n- ...</td>\n",
              "      <td>quebec</td>\n",
              "    </tr>\n",
              "    <tr>\n",
              "      <th>1412</th>\n",
              "      <td>Audi</td>\n",
              "      <td>A4</td>\n",
              "      <td>148,477 KM</td>\n",
              "      <td>13,989</td>\n",
              "      <td>sedan</td>\n",
              "      <td>Used</td>\n",
              "      <td>PREMIUM PLUS S-LINE QUATTRO + WOW !!</td>\n",
              "      <td>2013</td>\n",
              "      <td>NaN</td>\n",
              "      <td>AWD</td>\n",
              "      <td>Manual</td>\n",
              "      <td>* * MANUELLE RARE, WOW FAITES-VITE !! * * \\n\\n...</td>\n",
              "      <td>quebec</td>\n",
              "    </tr>\n",
              "    <tr>\n",
              "      <th>...</th>\n",
              "      <td>...</td>\n",
              "      <td>...</td>\n",
              "      <td>...</td>\n",
              "      <td>...</td>\n",
              "      <td>...</td>\n",
              "      <td>...</td>\n",
              "      <td>...</td>\n",
              "      <td>...</td>\n",
              "      <td>...</td>\n",
              "      <td>...</td>\n",
              "      <td>...</td>\n",
              "      <td>...</td>\n",
              "      <td>...</td>\n",
              "    </tr>\n",
              "    <tr>\n",
              "      <th>67864</th>\n",
              "      <td>Volvo</td>\n",
              "      <td>Xc60</td>\n",
              "      <td>31,678 KM</td>\n",
              "      <td>65,990</td>\n",
              "      <td>suv</td>\n",
              "      <td>Used</td>\n",
              "      <td>*HYBRID*PRICED TO SELL*WARRANTY UNTIL 160K*0.99%</td>\n",
              "      <td>2020</td>\n",
              "      <td>NaN</td>\n",
              "      <td>AWD</td>\n",
              "      <td>8 Speed Automatic</td>\n",
              "      <td>VOLVO WARRANTY UNTIL DECEMBER 2026 OR 160,000K...</td>\n",
              "      <td>ontario</td>\n",
              "    </tr>\n",
              "    <tr>\n",
              "      <th>67865</th>\n",
              "      <td>Volvo</td>\n",
              "      <td>Xc60</td>\n",
              "      <td>43,124 KM</td>\n",
              "      <td>45,999</td>\n",
              "      <td>suv</td>\n",
              "      <td>Used</td>\n",
              "      <td>T6 Momentum - warranty till 2024 /160,000km</td>\n",
              "      <td>2019</td>\n",
              "      <td>NaN</td>\n",
              "      <td>AWD</td>\n",
              "      <td>8 Speed Automatic</td>\n",
              "      <td>Black 2019 Volvo XC60 T6 Momentum AWD Automati...</td>\n",
              "      <td>ontario</td>\n",
              "    </tr>\n",
              "    <tr>\n",
              "      <th>67866</th>\n",
              "      <td>Volvo</td>\n",
              "      <td>Xc60</td>\n",
              "      <td>27,371 KM</td>\n",
              "      <td>52,900</td>\n",
              "      <td>suv</td>\n",
              "      <td>Used</td>\n",
              "      <td>T6 AWD Momentum</td>\n",
              "      <td>2020</td>\n",
              "      <td>NaN</td>\n",
              "      <td>AWD</td>\n",
              "      <td>8 Speed Automatic</td>\n",
              "      <td>CPO Warranty until April 2026 or 160,000km.  C...</td>\n",
              "      <td>ontario</td>\n",
              "    </tr>\n",
              "    <tr>\n",
              "      <th>67867</th>\n",
              "      <td>Volvo</td>\n",
              "      <td>Xc40</td>\n",
              "      <td>40,377 KM</td>\n",
              "      <td>39,551</td>\n",
              "      <td>suv</td>\n",
              "      <td>Used</td>\n",
              "      <td>MOMENTUM | ONE OWNER | NO ACCIDENT</td>\n",
              "      <td>2019</td>\n",
              "      <td>NaN</td>\n",
              "      <td>AWD</td>\n",
              "      <td>8 Speed Automatic</td>\n",
              "      <td>CARFAX Canada No Reported Accidents\\nCARFAX Ca...</td>\n",
              "      <td>ontario</td>\n",
              "    </tr>\n",
              "    <tr>\n",
              "      <th>67868</th>\n",
              "      <td>Volvo</td>\n",
              "      <td>Xc90</td>\n",
              "      <td>15,723 KM</td>\n",
              "      <td>75,242</td>\n",
              "      <td>suv</td>\n",
              "      <td>Used</td>\n",
              "      <td>T6 AWD R-Design 7-Seater</td>\n",
              "      <td>2021</td>\n",
              "      <td>NaN</td>\n",
              "      <td>AWD</td>\n",
              "      <td>Automatic</td>\n",
              "      <td>Odometer is 1125 kilometers below market avera...</td>\n",
              "      <td>ontario</td>\n",
              "    </tr>\n",
              "  </tbody>\n",
              "</table>\n",
              "<p>54761 rows × 13 columns</p>\n",
              "</div>\n",
              "      <button class=\"colab-df-convert\" onclick=\"convertToInteractive('df-07d0e407-c522-45b8-b4e4-d736081ec4f5')\"\n",
              "              title=\"Convert this dataframe to an interactive table.\"\n",
              "              style=\"display:none;\">\n",
              "        \n",
              "  <svg xmlns=\"http://www.w3.org/2000/svg\" height=\"24px\"viewBox=\"0 0 24 24\"\n",
              "       width=\"24px\">\n",
              "    <path d=\"M0 0h24v24H0V0z\" fill=\"none\"/>\n",
              "    <path d=\"M18.56 5.44l.94 2.06.94-2.06 2.06-.94-2.06-.94-.94-2.06-.94 2.06-2.06.94zm-11 1L8.5 8.5l.94-2.06 2.06-.94-2.06-.94L8.5 2.5l-.94 2.06-2.06.94zm10 10l.94 2.06.94-2.06 2.06-.94-2.06-.94-.94-2.06-.94 2.06-2.06.94z\"/><path d=\"M17.41 7.96l-1.37-1.37c-.4-.4-.92-.59-1.43-.59-.52 0-1.04.2-1.43.59L10.3 9.45l-7.72 7.72c-.78.78-.78 2.05 0 2.83L4 21.41c.39.39.9.59 1.41.59.51 0 1.02-.2 1.41-.59l7.78-7.78 2.81-2.81c.8-.78.8-2.07 0-2.86zM5.41 20L4 18.59l7.72-7.72 1.47 1.35L5.41 20z\"/>\n",
              "  </svg>\n",
              "      </button>\n",
              "      \n",
              "  <style>\n",
              "    .colab-df-container {\n",
              "      display:flex;\n",
              "      flex-wrap:wrap;\n",
              "      gap: 12px;\n",
              "    }\n",
              "\n",
              "    .colab-df-convert {\n",
              "      background-color: #E8F0FE;\n",
              "      border: none;\n",
              "      border-radius: 50%;\n",
              "      cursor: pointer;\n",
              "      display: none;\n",
              "      fill: #1967D2;\n",
              "      height: 32px;\n",
              "      padding: 0 0 0 0;\n",
              "      width: 32px;\n",
              "    }\n",
              "\n",
              "    .colab-df-convert:hover {\n",
              "      background-color: #E2EBFA;\n",
              "      box-shadow: 0px 1px 2px rgba(60, 64, 67, 0.3), 0px 1px 3px 1px rgba(60, 64, 67, 0.15);\n",
              "      fill: #174EA6;\n",
              "    }\n",
              "\n",
              "    [theme=dark] .colab-df-convert {\n",
              "      background-color: #3B4455;\n",
              "      fill: #D2E3FC;\n",
              "    }\n",
              "\n",
              "    [theme=dark] .colab-df-convert:hover {\n",
              "      background-color: #434B5C;\n",
              "      box-shadow: 0px 1px 3px 1px rgba(0, 0, 0, 0.15);\n",
              "      filter: drop-shadow(0px 1px 2px rgba(0, 0, 0, 0.3));\n",
              "      fill: #FFFFFF;\n",
              "    }\n",
              "  </style>\n",
              "\n",
              "      <script>\n",
              "        const buttonEl =\n",
              "          document.querySelector('#df-07d0e407-c522-45b8-b4e4-d736081ec4f5 button.colab-df-convert');\n",
              "        buttonEl.style.display =\n",
              "          google.colab.kernel.accessAllowed ? 'block' : 'none';\n",
              "\n",
              "        async function convertToInteractive(key) {\n",
              "          const element = document.querySelector('#df-07d0e407-c522-45b8-b4e4-d736081ec4f5');\n",
              "          const dataTable =\n",
              "            await google.colab.kernel.invokeFunction('convertToInteractive',\n",
              "                                                     [key], {});\n",
              "          if (!dataTable) return;\n",
              "\n",
              "          const docLinkHtml = 'Like what you see? Visit the ' +\n",
              "            '<a target=\"_blank\" href=https://colab.research.google.com/notebooks/data_table.ipynb>data table notebook</a>'\n",
              "            + ' to learn more about interactive tables.';\n",
              "          element.innerHTML = '';\n",
              "          dataTable['output_type'] = 'display_data';\n",
              "          await google.colab.output.renderOutput(dataTable, element);\n",
              "          const docLink = document.createElement('div');\n",
              "          docLink.innerHTML = docLinkHtml;\n",
              "          element.appendChild(docLink);\n",
              "        }\n",
              "      </script>\n",
              "    </div>\n",
              "  </div>\n",
              "  "
            ]
          },
          "metadata": {},
          "execution_count": 6
        }
      ],
      "source": [
        "df"
      ]
    },
    {
      "cell_type": "code",
      "execution_count": 7,
      "metadata": {
        "colab": {
          "base_uri": "https://localhost:8080/"
        },
        "id": "02d87d64",
        "outputId": "c2586758-c456-4933-8f76-20a722b7c728"
      },
      "outputs": [
        {
          "output_type": "stream",
          "name": "stdout",
          "text": [
            "<class 'pandas.core.frame.DataFrame'>\n",
            "Int64Index: 54761 entries, 1399 to 67868\n",
            "Data columns (total 13 columns):\n",
            " #   Column        Non-Null Count  Dtype  \n",
            "---  ------        --------------  -----  \n",
            " 0   make          54761 non-null  object \n",
            " 1   model         54761 non-null  object \n",
            " 2   odometer      54557 non-null  object \n",
            " 3   price         54759 non-null  object \n",
            " 4   bodytype      54023 non-null  object \n",
            " 5   status        54761 non-null  object \n",
            " 6   trim          52575 non-null  object \n",
            " 7   year          54761 non-null  int64  \n",
            " 8   vehicleAge    0 non-null      float64\n",
            " 9   drivetrain    53346 non-null  object \n",
            " 10  transmission  53191 non-null  object \n",
            " 11  description   49854 non-null  object \n",
            " 12  province      54680 non-null  object \n",
            "dtypes: float64(1), int64(1), object(11)\n",
            "memory usage: 5.8+ MB\n"
          ]
        }
      ],
      "source": [
        "df.info()"
      ]
    },
    {
      "cell_type": "markdown",
      "metadata": {
        "id": "cea516ad"
      },
      "source": [
        "# Data Preprocessing"
      ]
    },
    {
      "cell_type": "markdown",
      "metadata": {
        "id": "dc70ef01"
      },
      "source": [
        "Drop columns that doesn't contain useful informaton\n",
        "- All of the values in the status column is the same: \"Used\"\n",
        "- vehicleAge column contains only null values\n",
        "- description column contains long text data that dealers wrote for the listing. We are not planning to use text data at this stage."
      ]
    },
    {
      "cell_type": "code",
      "execution_count": 8,
      "metadata": {
        "colab": {
          "base_uri": "https://localhost:8080/"
        },
        "id": "42b595b3",
        "outputId": "ea4d8d52-81b3-42dd-ddd1-f3e9a5c34b13"
      },
      "outputs": [
        {
          "output_type": "execute_result",
          "data": {
            "text/plain": [
              "Used    54761\n",
              "Name: status, dtype: int64"
            ]
          },
          "metadata": {},
          "execution_count": 8
        }
      ],
      "source": [
        "df.status.value_counts()"
      ]
    },
    {
      "cell_type": "code",
      "execution_count": 9,
      "metadata": {
        "id": "63d639c3"
      },
      "outputs": [],
      "source": [
        "df.drop(['description','status','vehicleAge'],axis=1,inplace=True)"
      ]
    },
    {
      "cell_type": "markdown",
      "metadata": {
        "id": "7ee26d3d"
      },
      "source": [
        "## Clean Columns"
      ]
    },
    {
      "cell_type": "markdown",
      "metadata": {
        "id": "6fe85ce0"
      },
      "source": [
        "In order to get the data to a format that we can use in our analysis and models we will clean the columns one by one and fix data types."
      ]
    },
    {
      "cell_type": "code",
      "execution_count": 10,
      "metadata": {
        "id": "uD8TOHMLoE67"
      },
      "outputs": [],
      "source": [
        "def clean_model_col(df):\n",
        "    ''' Cleans the model column of a dataframe. Accepts and returns pandas dataframe.'''\n",
        "    \n",
        "    # Model names in the data are in different cases, which might cause duplicate data. \n",
        "    # We will convert them to proper case (title)\n",
        "    df['model'] = df['model'].apply(lambda x: str(x).title())\n",
        "\n",
        "    # Convert French variations of some model names to English (e.g. Mini Cooper 5 Door - Mini Cooper 5 Portes) \n",
        "    df['model'] = df['model'].apply(lambda x: x.replace(\"Portes\",\"Door\"))\n",
        "\n",
        "    # If a model name recurs in data fewer times than a threshold, remove that model from data to avoid overfitting\n",
        "    model_threshold = 3\n",
        "    valid_models_list = list(df['model'].value_counts()[df['model'].value_counts()>model_threshold].index)\n",
        "    df['model'] =  df['model'].apply(lambda x: x if x in valid_models_list else np.nan)\n",
        "\n",
        "    # Remove rows where model name is \"other/unspecified\", as those records won't be useful for our model\n",
        "    df['model'] = df['model'].replace('Other/Unspecified', np.nan)\n",
        "\n",
        "    # Remove NAs\n",
        "    df.dropna(subset=['model'],inplace=True)\n",
        "    \n",
        "    return df"
      ]
    },
    {
      "cell_type": "code",
      "execution_count": 11,
      "metadata": {
        "id": "2i4LyIK-APwa"
      },
      "outputs": [],
      "source": [
        "def clean_trim_col(df):\n",
        "    ''' Cleans the trim column of a dataframe. Accepts and returns pandas dataframe.'''\n",
        "    \n",
        "    def clean_trim_string(trim):\n",
        "        trim = str(trim)\n",
        "        \n",
        "        # Fix entries such as \"Actual trim of the car + seperator + car features\n",
        "        # Example: \"T6 AWD | HEATED SEATS | REVERSE CAMERA | NAVIGATION \"\n",
        "        \n",
        "        # Get the text before any seperators. Convert it to titlecase for standardization\n",
        "        trim = trim.split(' ')[0].title()\n",
        "        trim = trim.split('|')[0].title()\n",
        "        trim = trim.split(',')[0].title()\n",
        "\n",
        "        # Replace any French names with English\n",
        "        trim = trim.replace('Coupé','Coupe')\n",
        "        trim = trim.replace('Hybride','Hybrid')\n",
        "        trim = trim.replace('Essentiel','Base')\n",
        "        trim = trim.replace('4Matic&#174;','4Matic')\n",
        "\n",
        "        # Remove any special characters\n",
        "        trim = trim.replace('!','')\n",
        "        trim = trim.replace('*','')\n",
        "        trim = trim.replace('/','')\n",
        "\n",
        "        # Now we should have a clean trim \n",
        "        # There are some names that are entered into the trim field. But they are not actual trims (e.g. Low kilometers, certified). \n",
        "        # Replace these trim values with nan\n",
        "        invalid_trims = [\"Nan\",\"-\",\"|\",\"Low\",\"No\",\"W\",\"*\",\"New\",\"Familiale\",\"Manuelle\",\"Certified\",\"Delivered\",\"Excellent\",\"Automatique\",\"Apple\",\"Local\",\"Camera\",\"Awd\",\"Nouvel\",\"Backup\",\"Unknown\",\"Pano\",\"Panoramic\",\"Remote\",\"Recent\",\"Incoming\",'Modèle', 'Bmw', 'Nav', 'Fwd', 'Commodité', 'Just','5Dr','4Dr','2Dr','Ensemble','Vdpurlen','4X4','4Wd','2Wd','Édition','Cuir','Navi','Toit','Only','One','Auto','Power','As','AC','Rwd','Traction','Auto']\n",
        "        if trim in invalid_trims:\n",
        "            trim = 'nan'\n",
        "\n",
        "        invalid_words = [\"owner\",\"heated\",\"certified\",\"navigation\",\"sold\",\"vendu\",\"manual\",\"manuel\",\"accident\",\"loaded\",\"clean\",\"mint\",\"garantie\",\"sunroof\",\"nouvel\",\"gps\",\"leather\",\"garantie\",\"réservé\",\"reserve\",\"jamais\",\"local\",\"excellent\",\"rare\",\"bluetooth\",\"full\"]\n",
        "        for word in invalid_words:\n",
        "            if word in trim.lower():\n",
        "                trim = 'nan'\n",
        "\n",
        "        # Another pattern that we see in data is that some users entered the model year of the car as trim. \n",
        "        # Replace those with nan\n",
        "        try:\n",
        "            numeric_trim = int(trim)\n",
        "            if numeric_trim > 2000 and numeric_trim <2025:\n",
        "                trim = 'nan'\n",
        "        except:\n",
        "            pass\n",
        "\n",
        "        if trim == \"\":\n",
        "            trim = 'nan'\n",
        "\n",
        "        return trim\n",
        "\n",
        "    df['trim'] = df['trim'].apply(lambda x: clean_trim_string(x))\n",
        "\n",
        "    # As the same trim names can be found in different makes and this can reduce the performance of ML algorithms, we combine the trim name with the manufacturer name \n",
        "    df['trim'] = df.apply(lambda row: row['model'] + \"-\" + row['trim'] ,axis=1)\n",
        "\n",
        "    # Fix some errorenous entries\n",
        "    df['trim'] = df['trim'].apply(lambda x: \"nan\" if \"-nan\" in x else x)\n",
        "\n",
        "    # We will only use trim values that recur in data at least \"n\" times to avoid overfitting. \n",
        "    # n is specified by the threshold variable\n",
        "    trim_treshold = 5\n",
        "    popular_trims = df['trim'].value_counts()[df['trim'].value_counts()>trim_treshold].index\n",
        "    df['trim'] =  df['trim'].apply(lambda x: x if x in popular_trims else 'nan')\n",
        "\n",
        "    # Replace np.nan trims with string 'nan'\n",
        "    df['trim'].fillna('nan', inplace = True)\n",
        "    \n",
        "    return df"
      ]
    },
    {
      "cell_type": "code",
      "execution_count": 12,
      "metadata": {
        "id": "b75a945d"
      },
      "outputs": [],
      "source": [
        "def clean_transmission_col(df):\n",
        "    ''' Cleans the transmission column of a dataframe. Accepts and returns pandas dataframe.'''\n",
        "    \n",
        "    # Convert transmission column to a binary column for manual transmission\n",
        "    # Value of 1 indicates that the car has manual transmission\n",
        "    df['transmission_manual'] = df['transmission'].apply(lambda x: 1 if x == \"Manual\" else 0)\n",
        "    df.drop('transmission',axis=1,inplace=True)\n",
        "    \n",
        "    return df"
      ]
    },
    {
      "cell_type": "code",
      "execution_count": 13,
      "metadata": {
        "id": "adb40cf6"
      },
      "outputs": [],
      "source": [
        "def clean_drivetrain_col(df):\n",
        "    ''' Cleans the drivetrain column of a dataframe. Accepts and returns pandas dataframe.'''\n",
        "    \n",
        "    # Map various values to standardized values of AWD, FWD or RWD\n",
        "    drivetrain_mapping = {\"4x4\": \"AWD\",\"4X4\":\"AWD\", \"4WD\":\"AWD\", \"2WD\":\"FWD\",\"Not Available\":\"AWD\"}\n",
        "    df['drivetrain'] = df['drivetrain'].replace(drivetrain_mapping)\n",
        "    df['drivetrain'].fillna('AWD',inplace=True)\n",
        "    \n",
        "    return df"
      ]
    },
    {
      "cell_type": "code",
      "execution_count": 14,
      "metadata": {
        "id": "d92ec138"
      },
      "outputs": [],
      "source": [
        "def clean_bodytype_col(df):\n",
        "    ''' Cleans the bodytype column of a dataframe. Accepts and returns pandas dataframe.'''\n",
        "    \n",
        "    # Map various values to one of the following standardized values: \n",
        "    # truck, station wagon, minivan, convertible, sedan, hatchback\n",
        "    df['bodytype'] = df['bodytype'].apply(lambda x: \"truck\" if (\"truck\" in str(x)) else x)\n",
        "    df['bodytype'] = df['bodytype'].apply(lambda x: \"truck\" if (\"cab \" in str(x)) else x)\n",
        "    df['bodytype'] = df['bodytype'].apply(lambda x: \"truck\" if (\" cab\" in str(x)) else x)\n",
        "    df['bodytype'] = df['bodytype'].apply(lambda x: \"truck\" if (\"super crew\" in str(x)) else x)\n",
        "    df['bodytype'] = df['bodytype'].apply(lambda x: \"station wagon\" if (\"wagon\" in str(x)) else x)\n",
        "    df['bodytype'] = df['bodytype'].apply(lambda x: \"minivan\" if (\"van\" in str(x)) else x)\n",
        "    df['bodytype'] = df['bodytype'].apply(lambda x: \"convertible\" if (\"cabriolet\" in str(x)) else x)\n",
        "    df['bodytype'] = df['bodytype'].apply(lambda x: \"convertible\" if (\"roadster\" in str(x)) else x)\n",
        "    df['bodytype'] = df['bodytype'].apply(lambda x: \"hatchback\" if (\"compact\" in str(x)) else x)\n",
        "    df['bodytype'] = df['bodytype'].apply(lambda x: \"sedan\" if (\"cutaway\" in str(x)) else x)\n",
        "    \n",
        "    return df"
      ]
    },
    {
      "cell_type": "code",
      "execution_count": 15,
      "metadata": {
        "id": "adf25f8d"
      },
      "outputs": [],
      "source": [
        "def clean_odometer_col(df):\n",
        "    ''' Cleans the odometer column of a dataframe. Accepts and returns pandas dataframe.'''\n",
        "    \n",
        "    def clean_odometer_value(odometer_value):\n",
        "        ''' Takes an odometer string. Cleans it of any characters and returns the integer value of odometer'''\n",
        "        odometer_str = str(odometer_value)\n",
        "        odometer_str = odometer_str.replace(\" KM\",\"\")\n",
        "        odometer_str = odometer_str.replace(\",\",\"\")\n",
        "\n",
        "        try:\n",
        "            odometer_int = int(odometer_str)\n",
        "        except:\n",
        "            odometer_int = np.nan\n",
        "\n",
        "        return odometer_int\n",
        "\n",
        "    df['odometer'] = df['odometer'].apply(lambda x: clean_odometer_value(x))\n",
        "\n",
        "\n",
        "    # We will consider listings of cars that are 'older than 2 years old' AND 'have less than 1000 kilometers' as outliers\n",
        "    # Remove those from data\n",
        "    df['odometer_invalid'] = 0\n",
        "    df.loc[(df['year']<=2020) & (df['odometer']<1000),'odometer_invalid']= 1\n",
        "    df = df[df['odometer_invalid']== 0]\n",
        "    df.drop('odometer_invalid',axis=1,inplace=True)\n",
        "    \n",
        "    return df"
      ]
    },
    {
      "cell_type": "code",
      "execution_count": 16,
      "metadata": {
        "id": "18e7b09d"
      },
      "outputs": [],
      "source": [
        "def clean_price_col(df):\n",
        "    \n",
        "    \n",
        "    # Drop any rows which have nan as price. Since price is our target column, they won't add any value.\n",
        "    df.dropna(subset=['price'],inplace=True)\n",
        "    \n",
        "    # Clean the price value and convert from string to integer\n",
        "    df['price'] = df['price'].apply(lambda x: str(x).replace(\",\",\"\"))\n",
        "    df['price'] = df['price'].apply(lambda x: int(x))\n",
        "    \n",
        "    return df"
      ]
    },
    {
      "cell_type": "code",
      "execution_count": 17,
      "metadata": {
        "colab": {
          "base_uri": "https://localhost:8080/"
        },
        "id": "2657e0fe",
        "outputId": "0210261e-3485-4df0-b79c-08ab29a7bb92"
      },
      "outputs": [
        {
          "output_type": "stream",
          "name": "stdout",
          "text": [
            "<class 'pandas.core.frame.DataFrame'>\n",
            "Int64Index: 54761 entries, 1399 to 67868\n",
            "Data columns (total 10 columns):\n",
            " #   Column        Non-Null Count  Dtype \n",
            "---  ------        --------------  ----- \n",
            " 0   make          54761 non-null  object\n",
            " 1   model         54761 non-null  object\n",
            " 2   odometer      54557 non-null  object\n",
            " 3   price         54759 non-null  object\n",
            " 4   bodytype      54023 non-null  object\n",
            " 5   trim          52575 non-null  object\n",
            " 6   year          54761 non-null  int64 \n",
            " 7   drivetrain    53346 non-null  object\n",
            " 8   transmission  53191 non-null  object\n",
            " 9   province      54680 non-null  object\n",
            "dtypes: int64(1), object(9)\n",
            "memory usage: 4.6+ MB\n"
          ]
        }
      ],
      "source": [
        "df.info()"
      ]
    },
    {
      "cell_type": "code",
      "execution_count": 18,
      "metadata": {
        "id": "OJsO8kJjoAc6"
      },
      "outputs": [],
      "source": [
        "# Apply the cleaning functions to the dataframe\n",
        "for func in [clean_model_col, clean_trim_col, clean_transmission_col, clean_drivetrain_col,clean_bodytype_col, \n",
        "             clean_odometer_col, clean_price_col]:\n",
        "    df = func(df)\n",
        "\n",
        "# Filter out unreasonable values for price, year and odometer\n",
        "df = df[df['price']<250000]\n",
        "df = df[df['year']<=2022]\n",
        "df = df[df['odometer']<=290000]\n",
        "\n",
        "# Convert the datatype of numerical columns from object to int\n",
        "df = df.astype({\"odometer\": int,\"price\":int,'transmission_manual':int,'year':int})\n",
        "\n",
        "# Drop any NA values from df\n",
        "df.dropna(inplace=True)\n",
        "\n",
        "# Drop duplicates\n",
        "df.drop_duplicates(inplace=True)"
      ]
    },
    {
      "cell_type": "code",
      "execution_count": 19,
      "metadata": {
        "colab": {
          "base_uri": "https://localhost:8080/",
          "height": 424
        },
        "id": "997q85Sq5U3g",
        "outputId": "4e48515d-a01d-4d09-a025-20dec209a99f"
      },
      "outputs": [
        {
          "output_type": "execute_result",
          "data": {
            "text/plain": [
              "        make model  odometer  price bodytype           trim  year drivetrain  \\\n",
              "1399    Audi    S5    145396  30999    coupe            nan  2016        AWD   \n",
              "1400    Audi    Q3     20443  33499      suv         Q3-2.0  2018        AWD   \n",
              "1401    Audi    A4    108716  14495    sedan     A4-Premium  2013        AWD   \n",
              "1407    Audi    S6    213077  20890    sedan            nan  2013        AWD   \n",
              "1412    Audi    A4    148477  13989    sedan     A4-Premium  2013        AWD   \n",
              "...      ...   ...       ...    ...      ...            ...   ...        ...   \n",
              "67864  Volvo  Xc60     31678  65990      suv            nan  2020        AWD   \n",
              "67865  Volvo  Xc60     43124  45999      suv        Xc60-T6  2019        AWD   \n",
              "67866  Volvo  Xc60     27371  52900      suv        Xc60-T6  2020        AWD   \n",
              "67867  Volvo  Xc40     40377  39551      suv  Xc40-Momentum  2019        AWD   \n",
              "67868  Volvo  Xc90     15723  75242      suv        Xc90-T6  2021        AWD   \n",
              "\n",
              "      province  transmission_manual  \n",
              "1399    quebec                    0  \n",
              "1400    quebec                    0  \n",
              "1401    quebec                    0  \n",
              "1407    quebec                    0  \n",
              "1412    quebec                    1  \n",
              "...        ...                  ...  \n",
              "67864  ontario                    0  \n",
              "67865  ontario                    0  \n",
              "67866  ontario                    0  \n",
              "67867  ontario                    0  \n",
              "67868  ontario                    0  \n",
              "\n",
              "[52790 rows x 10 columns]"
            ],
            "text/html": [
              "\n",
              "  <div id=\"df-428793c4-48bf-4d20-850b-2134e7741732\">\n",
              "    <div class=\"colab-df-container\">\n",
              "      <div>\n",
              "<style scoped>\n",
              "    .dataframe tbody tr th:only-of-type {\n",
              "        vertical-align: middle;\n",
              "    }\n",
              "\n",
              "    .dataframe tbody tr th {\n",
              "        vertical-align: top;\n",
              "    }\n",
              "\n",
              "    .dataframe thead th {\n",
              "        text-align: right;\n",
              "    }\n",
              "</style>\n",
              "<table border=\"1\" class=\"dataframe\">\n",
              "  <thead>\n",
              "    <tr style=\"text-align: right;\">\n",
              "      <th></th>\n",
              "      <th>make</th>\n",
              "      <th>model</th>\n",
              "      <th>odometer</th>\n",
              "      <th>price</th>\n",
              "      <th>bodytype</th>\n",
              "      <th>trim</th>\n",
              "      <th>year</th>\n",
              "      <th>drivetrain</th>\n",
              "      <th>province</th>\n",
              "      <th>transmission_manual</th>\n",
              "    </tr>\n",
              "  </thead>\n",
              "  <tbody>\n",
              "    <tr>\n",
              "      <th>1399</th>\n",
              "      <td>Audi</td>\n",
              "      <td>S5</td>\n",
              "      <td>145396</td>\n",
              "      <td>30999</td>\n",
              "      <td>coupe</td>\n",
              "      <td>nan</td>\n",
              "      <td>2016</td>\n",
              "      <td>AWD</td>\n",
              "      <td>quebec</td>\n",
              "      <td>0</td>\n",
              "    </tr>\n",
              "    <tr>\n",
              "      <th>1400</th>\n",
              "      <td>Audi</td>\n",
              "      <td>Q3</td>\n",
              "      <td>20443</td>\n",
              "      <td>33499</td>\n",
              "      <td>suv</td>\n",
              "      <td>Q3-2.0</td>\n",
              "      <td>2018</td>\n",
              "      <td>AWD</td>\n",
              "      <td>quebec</td>\n",
              "      <td>0</td>\n",
              "    </tr>\n",
              "    <tr>\n",
              "      <th>1401</th>\n",
              "      <td>Audi</td>\n",
              "      <td>A4</td>\n",
              "      <td>108716</td>\n",
              "      <td>14495</td>\n",
              "      <td>sedan</td>\n",
              "      <td>A4-Premium</td>\n",
              "      <td>2013</td>\n",
              "      <td>AWD</td>\n",
              "      <td>quebec</td>\n",
              "      <td>0</td>\n",
              "    </tr>\n",
              "    <tr>\n",
              "      <th>1407</th>\n",
              "      <td>Audi</td>\n",
              "      <td>S6</td>\n",
              "      <td>213077</td>\n",
              "      <td>20890</td>\n",
              "      <td>sedan</td>\n",
              "      <td>nan</td>\n",
              "      <td>2013</td>\n",
              "      <td>AWD</td>\n",
              "      <td>quebec</td>\n",
              "      <td>0</td>\n",
              "    </tr>\n",
              "    <tr>\n",
              "      <th>1412</th>\n",
              "      <td>Audi</td>\n",
              "      <td>A4</td>\n",
              "      <td>148477</td>\n",
              "      <td>13989</td>\n",
              "      <td>sedan</td>\n",
              "      <td>A4-Premium</td>\n",
              "      <td>2013</td>\n",
              "      <td>AWD</td>\n",
              "      <td>quebec</td>\n",
              "      <td>1</td>\n",
              "    </tr>\n",
              "    <tr>\n",
              "      <th>...</th>\n",
              "      <td>...</td>\n",
              "      <td>...</td>\n",
              "      <td>...</td>\n",
              "      <td>...</td>\n",
              "      <td>...</td>\n",
              "      <td>...</td>\n",
              "      <td>...</td>\n",
              "      <td>...</td>\n",
              "      <td>...</td>\n",
              "      <td>...</td>\n",
              "    </tr>\n",
              "    <tr>\n",
              "      <th>67864</th>\n",
              "      <td>Volvo</td>\n",
              "      <td>Xc60</td>\n",
              "      <td>31678</td>\n",
              "      <td>65990</td>\n",
              "      <td>suv</td>\n",
              "      <td>nan</td>\n",
              "      <td>2020</td>\n",
              "      <td>AWD</td>\n",
              "      <td>ontario</td>\n",
              "      <td>0</td>\n",
              "    </tr>\n",
              "    <tr>\n",
              "      <th>67865</th>\n",
              "      <td>Volvo</td>\n",
              "      <td>Xc60</td>\n",
              "      <td>43124</td>\n",
              "      <td>45999</td>\n",
              "      <td>suv</td>\n",
              "      <td>Xc60-T6</td>\n",
              "      <td>2019</td>\n",
              "      <td>AWD</td>\n",
              "      <td>ontario</td>\n",
              "      <td>0</td>\n",
              "    </tr>\n",
              "    <tr>\n",
              "      <th>67866</th>\n",
              "      <td>Volvo</td>\n",
              "      <td>Xc60</td>\n",
              "      <td>27371</td>\n",
              "      <td>52900</td>\n",
              "      <td>suv</td>\n",
              "      <td>Xc60-T6</td>\n",
              "      <td>2020</td>\n",
              "      <td>AWD</td>\n",
              "      <td>ontario</td>\n",
              "      <td>0</td>\n",
              "    </tr>\n",
              "    <tr>\n",
              "      <th>67867</th>\n",
              "      <td>Volvo</td>\n",
              "      <td>Xc40</td>\n",
              "      <td>40377</td>\n",
              "      <td>39551</td>\n",
              "      <td>suv</td>\n",
              "      <td>Xc40-Momentum</td>\n",
              "      <td>2019</td>\n",
              "      <td>AWD</td>\n",
              "      <td>ontario</td>\n",
              "      <td>0</td>\n",
              "    </tr>\n",
              "    <tr>\n",
              "      <th>67868</th>\n",
              "      <td>Volvo</td>\n",
              "      <td>Xc90</td>\n",
              "      <td>15723</td>\n",
              "      <td>75242</td>\n",
              "      <td>suv</td>\n",
              "      <td>Xc90-T6</td>\n",
              "      <td>2021</td>\n",
              "      <td>AWD</td>\n",
              "      <td>ontario</td>\n",
              "      <td>0</td>\n",
              "    </tr>\n",
              "  </tbody>\n",
              "</table>\n",
              "<p>52790 rows × 10 columns</p>\n",
              "</div>\n",
              "      <button class=\"colab-df-convert\" onclick=\"convertToInteractive('df-428793c4-48bf-4d20-850b-2134e7741732')\"\n",
              "              title=\"Convert this dataframe to an interactive table.\"\n",
              "              style=\"display:none;\">\n",
              "        \n",
              "  <svg xmlns=\"http://www.w3.org/2000/svg\" height=\"24px\"viewBox=\"0 0 24 24\"\n",
              "       width=\"24px\">\n",
              "    <path d=\"M0 0h24v24H0V0z\" fill=\"none\"/>\n",
              "    <path d=\"M18.56 5.44l.94 2.06.94-2.06 2.06-.94-2.06-.94-.94-2.06-.94 2.06-2.06.94zm-11 1L8.5 8.5l.94-2.06 2.06-.94-2.06-.94L8.5 2.5l-.94 2.06-2.06.94zm10 10l.94 2.06.94-2.06 2.06-.94-2.06-.94-.94-2.06-.94 2.06-2.06.94z\"/><path d=\"M17.41 7.96l-1.37-1.37c-.4-.4-.92-.59-1.43-.59-.52 0-1.04.2-1.43.59L10.3 9.45l-7.72 7.72c-.78.78-.78 2.05 0 2.83L4 21.41c.39.39.9.59 1.41.59.51 0 1.02-.2 1.41-.59l7.78-7.78 2.81-2.81c.8-.78.8-2.07 0-2.86zM5.41 20L4 18.59l7.72-7.72 1.47 1.35L5.41 20z\"/>\n",
              "  </svg>\n",
              "      </button>\n",
              "      \n",
              "  <style>\n",
              "    .colab-df-container {\n",
              "      display:flex;\n",
              "      flex-wrap:wrap;\n",
              "      gap: 12px;\n",
              "    }\n",
              "\n",
              "    .colab-df-convert {\n",
              "      background-color: #E8F0FE;\n",
              "      border: none;\n",
              "      border-radius: 50%;\n",
              "      cursor: pointer;\n",
              "      display: none;\n",
              "      fill: #1967D2;\n",
              "      height: 32px;\n",
              "      padding: 0 0 0 0;\n",
              "      width: 32px;\n",
              "    }\n",
              "\n",
              "    .colab-df-convert:hover {\n",
              "      background-color: #E2EBFA;\n",
              "      box-shadow: 0px 1px 2px rgba(60, 64, 67, 0.3), 0px 1px 3px 1px rgba(60, 64, 67, 0.15);\n",
              "      fill: #174EA6;\n",
              "    }\n",
              "\n",
              "    [theme=dark] .colab-df-convert {\n",
              "      background-color: #3B4455;\n",
              "      fill: #D2E3FC;\n",
              "    }\n",
              "\n",
              "    [theme=dark] .colab-df-convert:hover {\n",
              "      background-color: #434B5C;\n",
              "      box-shadow: 0px 1px 3px 1px rgba(0, 0, 0, 0.15);\n",
              "      filter: drop-shadow(0px 1px 2px rgba(0, 0, 0, 0.3));\n",
              "      fill: #FFFFFF;\n",
              "    }\n",
              "  </style>\n",
              "\n",
              "      <script>\n",
              "        const buttonEl =\n",
              "          document.querySelector('#df-428793c4-48bf-4d20-850b-2134e7741732 button.colab-df-convert');\n",
              "        buttonEl.style.display =\n",
              "          google.colab.kernel.accessAllowed ? 'block' : 'none';\n",
              "\n",
              "        async function convertToInteractive(key) {\n",
              "          const element = document.querySelector('#df-428793c4-48bf-4d20-850b-2134e7741732');\n",
              "          const dataTable =\n",
              "            await google.colab.kernel.invokeFunction('convertToInteractive',\n",
              "                                                     [key], {});\n",
              "          if (!dataTable) return;\n",
              "\n",
              "          const docLinkHtml = 'Like what you see? Visit the ' +\n",
              "            '<a target=\"_blank\" href=https://colab.research.google.com/notebooks/data_table.ipynb>data table notebook</a>'\n",
              "            + ' to learn more about interactive tables.';\n",
              "          element.innerHTML = '';\n",
              "          dataTable['output_type'] = 'display_data';\n",
              "          await google.colab.output.renderOutput(dataTable, element);\n",
              "          const docLink = document.createElement('div');\n",
              "          docLink.innerHTML = docLinkHtml;\n",
              "          element.appendChild(docLink);\n",
              "        }\n",
              "      </script>\n",
              "    </div>\n",
              "  </div>\n",
              "  "
            ]
          },
          "metadata": {},
          "execution_count": 19
        }
      ],
      "source": [
        "df"
      ]
    },
    {
      "cell_type": "markdown",
      "metadata": {
        "id": "f35fd5dd"
      },
      "source": [
        "# EDA"
      ]
    },
    {
      "cell_type": "code",
      "execution_count": 20,
      "metadata": {
        "id": "d9850175"
      },
      "outputs": [],
      "source": [
        "import matplotlib.pyplot as plt\n",
        "import seaborn as sns"
      ]
    },
    {
      "cell_type": "markdown",
      "metadata": {
        "id": "aa9422bb"
      },
      "source": [
        "### Examine the clean data"
      ]
    },
    {
      "cell_type": "code",
      "execution_count": 21,
      "metadata": {
        "colab": {
          "base_uri": "https://localhost:8080/",
          "height": 363
        },
        "id": "307d14ec",
        "outputId": "87876e1f-d375-43bb-d780-6e80e5a3c247"
      },
      "outputs": [
        {
          "output_type": "execute_result",
          "data": {
            "text/plain": [
              "      make model  odometer  price bodytype        trim  year drivetrain  \\\n",
              "1399  Audi    S5    145396  30999    coupe         nan  2016        AWD   \n",
              "1400  Audi    Q3     20443  33499      suv      Q3-2.0  2018        AWD   \n",
              "1401  Audi    A4    108716  14495    sedan  A4-Premium  2013        AWD   \n",
              "1407  Audi    S6    213077  20890    sedan         nan  2013        AWD   \n",
              "1412  Audi    A4    148477  13989    sedan  A4-Premium  2013        AWD   \n",
              "1419  Audi    A5     64220  41000    coupe      A5-2.0  2018        AWD   \n",
              "1423  Audi    A5     58257  29611    coupe     A5-2.0T  2016        AWD   \n",
              "1431  Audi    Q5    134575  25000      suv     Q5-2.0T  2016        AWD   \n",
              "1437  Audi    Q7    116964  41800      suv     Q7-3.0T  2017        AWD   \n",
              "1438  Audi    A6     53075  35800    sedan         nan  2017        AWD   \n",
              "\n",
              "     province  transmission_manual  \n",
              "1399   quebec                    0  \n",
              "1400   quebec                    0  \n",
              "1401   quebec                    0  \n",
              "1407   quebec                    0  \n",
              "1412   quebec                    1  \n",
              "1419  ontario                    0  \n",
              "1423  ontario                    0  \n",
              "1431  ontario                    0  \n",
              "1437  ontario                    0  \n",
              "1438  ontario                    0  "
            ],
            "text/html": [
              "\n",
              "  <div id=\"df-9adcfa67-07a4-4ca4-b8c1-66f06802340d\">\n",
              "    <div class=\"colab-df-container\">\n",
              "      <div>\n",
              "<style scoped>\n",
              "    .dataframe tbody tr th:only-of-type {\n",
              "        vertical-align: middle;\n",
              "    }\n",
              "\n",
              "    .dataframe tbody tr th {\n",
              "        vertical-align: top;\n",
              "    }\n",
              "\n",
              "    .dataframe thead th {\n",
              "        text-align: right;\n",
              "    }\n",
              "</style>\n",
              "<table border=\"1\" class=\"dataframe\">\n",
              "  <thead>\n",
              "    <tr style=\"text-align: right;\">\n",
              "      <th></th>\n",
              "      <th>make</th>\n",
              "      <th>model</th>\n",
              "      <th>odometer</th>\n",
              "      <th>price</th>\n",
              "      <th>bodytype</th>\n",
              "      <th>trim</th>\n",
              "      <th>year</th>\n",
              "      <th>drivetrain</th>\n",
              "      <th>province</th>\n",
              "      <th>transmission_manual</th>\n",
              "    </tr>\n",
              "  </thead>\n",
              "  <tbody>\n",
              "    <tr>\n",
              "      <th>1399</th>\n",
              "      <td>Audi</td>\n",
              "      <td>S5</td>\n",
              "      <td>145396</td>\n",
              "      <td>30999</td>\n",
              "      <td>coupe</td>\n",
              "      <td>nan</td>\n",
              "      <td>2016</td>\n",
              "      <td>AWD</td>\n",
              "      <td>quebec</td>\n",
              "      <td>0</td>\n",
              "    </tr>\n",
              "    <tr>\n",
              "      <th>1400</th>\n",
              "      <td>Audi</td>\n",
              "      <td>Q3</td>\n",
              "      <td>20443</td>\n",
              "      <td>33499</td>\n",
              "      <td>suv</td>\n",
              "      <td>Q3-2.0</td>\n",
              "      <td>2018</td>\n",
              "      <td>AWD</td>\n",
              "      <td>quebec</td>\n",
              "      <td>0</td>\n",
              "    </tr>\n",
              "    <tr>\n",
              "      <th>1401</th>\n",
              "      <td>Audi</td>\n",
              "      <td>A4</td>\n",
              "      <td>108716</td>\n",
              "      <td>14495</td>\n",
              "      <td>sedan</td>\n",
              "      <td>A4-Premium</td>\n",
              "      <td>2013</td>\n",
              "      <td>AWD</td>\n",
              "      <td>quebec</td>\n",
              "      <td>0</td>\n",
              "    </tr>\n",
              "    <tr>\n",
              "      <th>1407</th>\n",
              "      <td>Audi</td>\n",
              "      <td>S6</td>\n",
              "      <td>213077</td>\n",
              "      <td>20890</td>\n",
              "      <td>sedan</td>\n",
              "      <td>nan</td>\n",
              "      <td>2013</td>\n",
              "      <td>AWD</td>\n",
              "      <td>quebec</td>\n",
              "      <td>0</td>\n",
              "    </tr>\n",
              "    <tr>\n",
              "      <th>1412</th>\n",
              "      <td>Audi</td>\n",
              "      <td>A4</td>\n",
              "      <td>148477</td>\n",
              "      <td>13989</td>\n",
              "      <td>sedan</td>\n",
              "      <td>A4-Premium</td>\n",
              "      <td>2013</td>\n",
              "      <td>AWD</td>\n",
              "      <td>quebec</td>\n",
              "      <td>1</td>\n",
              "    </tr>\n",
              "    <tr>\n",
              "      <th>1419</th>\n",
              "      <td>Audi</td>\n",
              "      <td>A5</td>\n",
              "      <td>64220</td>\n",
              "      <td>41000</td>\n",
              "      <td>coupe</td>\n",
              "      <td>A5-2.0</td>\n",
              "      <td>2018</td>\n",
              "      <td>AWD</td>\n",
              "      <td>ontario</td>\n",
              "      <td>0</td>\n",
              "    </tr>\n",
              "    <tr>\n",
              "      <th>1423</th>\n",
              "      <td>Audi</td>\n",
              "      <td>A5</td>\n",
              "      <td>58257</td>\n",
              "      <td>29611</td>\n",
              "      <td>coupe</td>\n",
              "      <td>A5-2.0T</td>\n",
              "      <td>2016</td>\n",
              "      <td>AWD</td>\n",
              "      <td>ontario</td>\n",
              "      <td>0</td>\n",
              "    </tr>\n",
              "    <tr>\n",
              "      <th>1431</th>\n",
              "      <td>Audi</td>\n",
              "      <td>Q5</td>\n",
              "      <td>134575</td>\n",
              "      <td>25000</td>\n",
              "      <td>suv</td>\n",
              "      <td>Q5-2.0T</td>\n",
              "      <td>2016</td>\n",
              "      <td>AWD</td>\n",
              "      <td>ontario</td>\n",
              "      <td>0</td>\n",
              "    </tr>\n",
              "    <tr>\n",
              "      <th>1437</th>\n",
              "      <td>Audi</td>\n",
              "      <td>Q7</td>\n",
              "      <td>116964</td>\n",
              "      <td>41800</td>\n",
              "      <td>suv</td>\n",
              "      <td>Q7-3.0T</td>\n",
              "      <td>2017</td>\n",
              "      <td>AWD</td>\n",
              "      <td>ontario</td>\n",
              "      <td>0</td>\n",
              "    </tr>\n",
              "    <tr>\n",
              "      <th>1438</th>\n",
              "      <td>Audi</td>\n",
              "      <td>A6</td>\n",
              "      <td>53075</td>\n",
              "      <td>35800</td>\n",
              "      <td>sedan</td>\n",
              "      <td>nan</td>\n",
              "      <td>2017</td>\n",
              "      <td>AWD</td>\n",
              "      <td>ontario</td>\n",
              "      <td>0</td>\n",
              "    </tr>\n",
              "  </tbody>\n",
              "</table>\n",
              "</div>\n",
              "      <button class=\"colab-df-convert\" onclick=\"convertToInteractive('df-9adcfa67-07a4-4ca4-b8c1-66f06802340d')\"\n",
              "              title=\"Convert this dataframe to an interactive table.\"\n",
              "              style=\"display:none;\">\n",
              "        \n",
              "  <svg xmlns=\"http://www.w3.org/2000/svg\" height=\"24px\"viewBox=\"0 0 24 24\"\n",
              "       width=\"24px\">\n",
              "    <path d=\"M0 0h24v24H0V0z\" fill=\"none\"/>\n",
              "    <path d=\"M18.56 5.44l.94 2.06.94-2.06 2.06-.94-2.06-.94-.94-2.06-.94 2.06-2.06.94zm-11 1L8.5 8.5l.94-2.06 2.06-.94-2.06-.94L8.5 2.5l-.94 2.06-2.06.94zm10 10l.94 2.06.94-2.06 2.06-.94-2.06-.94-.94-2.06-.94 2.06-2.06.94z\"/><path d=\"M17.41 7.96l-1.37-1.37c-.4-.4-.92-.59-1.43-.59-.52 0-1.04.2-1.43.59L10.3 9.45l-7.72 7.72c-.78.78-.78 2.05 0 2.83L4 21.41c.39.39.9.59 1.41.59.51 0 1.02-.2 1.41-.59l7.78-7.78 2.81-2.81c.8-.78.8-2.07 0-2.86zM5.41 20L4 18.59l7.72-7.72 1.47 1.35L5.41 20z\"/>\n",
              "  </svg>\n",
              "      </button>\n",
              "      \n",
              "  <style>\n",
              "    .colab-df-container {\n",
              "      display:flex;\n",
              "      flex-wrap:wrap;\n",
              "      gap: 12px;\n",
              "    }\n",
              "\n",
              "    .colab-df-convert {\n",
              "      background-color: #E8F0FE;\n",
              "      border: none;\n",
              "      border-radius: 50%;\n",
              "      cursor: pointer;\n",
              "      display: none;\n",
              "      fill: #1967D2;\n",
              "      height: 32px;\n",
              "      padding: 0 0 0 0;\n",
              "      width: 32px;\n",
              "    }\n",
              "\n",
              "    .colab-df-convert:hover {\n",
              "      background-color: #E2EBFA;\n",
              "      box-shadow: 0px 1px 2px rgba(60, 64, 67, 0.3), 0px 1px 3px 1px rgba(60, 64, 67, 0.15);\n",
              "      fill: #174EA6;\n",
              "    }\n",
              "\n",
              "    [theme=dark] .colab-df-convert {\n",
              "      background-color: #3B4455;\n",
              "      fill: #D2E3FC;\n",
              "    }\n",
              "\n",
              "    [theme=dark] .colab-df-convert:hover {\n",
              "      background-color: #434B5C;\n",
              "      box-shadow: 0px 1px 3px 1px rgba(0, 0, 0, 0.15);\n",
              "      filter: drop-shadow(0px 1px 2px rgba(0, 0, 0, 0.3));\n",
              "      fill: #FFFFFF;\n",
              "    }\n",
              "  </style>\n",
              "\n",
              "      <script>\n",
              "        const buttonEl =\n",
              "          document.querySelector('#df-9adcfa67-07a4-4ca4-b8c1-66f06802340d button.colab-df-convert');\n",
              "        buttonEl.style.display =\n",
              "          google.colab.kernel.accessAllowed ? 'block' : 'none';\n",
              "\n",
              "        async function convertToInteractive(key) {\n",
              "          const element = document.querySelector('#df-9adcfa67-07a4-4ca4-b8c1-66f06802340d');\n",
              "          const dataTable =\n",
              "            await google.colab.kernel.invokeFunction('convertToInteractive',\n",
              "                                                     [key], {});\n",
              "          if (!dataTable) return;\n",
              "\n",
              "          const docLinkHtml = 'Like what you see? Visit the ' +\n",
              "            '<a target=\"_blank\" href=https://colab.research.google.com/notebooks/data_table.ipynb>data table notebook</a>'\n",
              "            + ' to learn more about interactive tables.';\n",
              "          element.innerHTML = '';\n",
              "          dataTable['output_type'] = 'display_data';\n",
              "          await google.colab.output.renderOutput(dataTable, element);\n",
              "          const docLink = document.createElement('div');\n",
              "          docLink.innerHTML = docLinkHtml;\n",
              "          element.appendChild(docLink);\n",
              "        }\n",
              "      </script>\n",
              "    </div>\n",
              "  </div>\n",
              "  "
            ]
          },
          "metadata": {},
          "execution_count": 21
        }
      ],
      "source": [
        "df.head(10)"
      ]
    },
    {
      "cell_type": "markdown",
      "metadata": {
        "id": "f7cd9751"
      },
      "source": [
        "### Examine length and dtypes"
      ]
    },
    {
      "cell_type": "code",
      "execution_count": 22,
      "metadata": {
        "colab": {
          "base_uri": "https://localhost:8080/"
        },
        "id": "7f09978c",
        "outputId": "6854bb01-f912-44fd-834f-8215f7b02afd"
      },
      "outputs": [
        {
          "output_type": "stream",
          "name": "stdout",
          "text": [
            "<class 'pandas.core.frame.DataFrame'>\n",
            "Int64Index: 52790 entries, 1399 to 67868\n",
            "Data columns (total 10 columns):\n",
            " #   Column               Non-Null Count  Dtype \n",
            "---  ------               --------------  ----- \n",
            " 0   make                 52790 non-null  object\n",
            " 1   model                52790 non-null  object\n",
            " 2   odometer             52790 non-null  int64 \n",
            " 3   price                52790 non-null  int64 \n",
            " 4   bodytype             52790 non-null  object\n",
            " 5   trim                 52790 non-null  object\n",
            " 6   year                 52790 non-null  int64 \n",
            " 7   drivetrain           52790 non-null  object\n",
            " 8   province             52790 non-null  object\n",
            " 9   transmission_manual  52790 non-null  int64 \n",
            "dtypes: int64(4), object(6)\n",
            "memory usage: 4.4+ MB\n"
          ]
        }
      ],
      "source": [
        "df.info()"
      ]
    },
    {
      "cell_type": "code",
      "execution_count": 23,
      "metadata": {
        "colab": {
          "base_uri": "https://localhost:8080/"
        },
        "id": "e432b46b",
        "outputId": "7ec23a1c-b2f6-424e-b9eb-f2817c8687f5"
      },
      "outputs": [
        {
          "output_type": "execute_result",
          "data": {
            "text/plain": [
              "0"
            ]
          },
          "metadata": {},
          "execution_count": 23
        }
      ],
      "source": [
        "# Check for duplicated columns\n",
        "df.duplicated().sum()"
      ]
    },
    {
      "cell_type": "markdown",
      "metadata": {
        "id": "9df0ba54"
      },
      "source": [
        "### Identify numerical and categorical variables"
      ]
    },
    {
      "cell_type": "code",
      "execution_count": 24,
      "metadata": {
        "colab": {
          "base_uri": "https://localhost:8080/"
        },
        "id": "48895df2",
        "outputId": "8dd1ac8b-4ec4-49ff-8056-d11cc54657cc"
      },
      "outputs": [
        {
          "output_type": "execute_result",
          "data": {
            "text/plain": [
              "Index(['make', 'model', 'odometer', 'price', 'bodytype', 'trim', 'year',\n",
              "       'drivetrain', 'province', 'transmission_manual'],\n",
              "      dtype='object')"
            ]
          },
          "metadata": {},
          "execution_count": 24
        }
      ],
      "source": [
        "df.columns"
      ]
    },
    {
      "cell_type": "code",
      "execution_count": 25,
      "metadata": {
        "id": "7f417382"
      },
      "outputs": [],
      "source": [
        "numeric_cols = ['odometer', 'price', 'year', 'transmission_manual']"
      ]
    },
    {
      "cell_type": "code",
      "execution_count": 26,
      "metadata": {
        "id": "a8b08acc"
      },
      "outputs": [],
      "source": [
        "categorical_cols = ['make', 'model', 'bodytype', 'trim', 'drivetrain', 'province']"
      ]
    },
    {
      "cell_type": "markdown",
      "metadata": {
        "id": "087c1e9c"
      },
      "source": [
        "### Summarize numerical and categorical variables separately"
      ]
    },
    {
      "cell_type": "code",
      "execution_count": 27,
      "metadata": {
        "colab": {
          "base_uri": "https://localhost:8080/",
          "height": 300
        },
        "id": "d4a8cc54",
        "outputId": "6094405c-59df-49bc-f1d1-319062c2443e"
      },
      "outputs": [
        {
          "output_type": "execute_result",
          "data": {
            "text/plain": [
              "            odometer          price          year  transmission_manual\n",
              "count   52790.000000   52790.000000  52790.000000         52790.000000\n",
              "mean    73793.561413   37836.812105   2017.656090             0.038435\n",
              "std     49459.643716   24950.307572      2.392192             0.192247\n",
              "min         0.000000    2000.000000   2012.000000             0.000000\n",
              "25%     36137.000000   22800.000000   2016.000000             0.000000\n",
              "50%     64397.500000   32373.500000   2018.000000             0.000000\n",
              "75%    102351.500000   45325.500000   2019.000000             0.000000\n",
              "max    290000.000000  249995.000000   2022.000000             1.000000"
            ],
            "text/html": [
              "\n",
              "  <div id=\"df-446163f4-6145-4e0c-b623-c44d20633c34\">\n",
              "    <div class=\"colab-df-container\">\n",
              "      <div>\n",
              "<style scoped>\n",
              "    .dataframe tbody tr th:only-of-type {\n",
              "        vertical-align: middle;\n",
              "    }\n",
              "\n",
              "    .dataframe tbody tr th {\n",
              "        vertical-align: top;\n",
              "    }\n",
              "\n",
              "    .dataframe thead th {\n",
              "        text-align: right;\n",
              "    }\n",
              "</style>\n",
              "<table border=\"1\" class=\"dataframe\">\n",
              "  <thead>\n",
              "    <tr style=\"text-align: right;\">\n",
              "      <th></th>\n",
              "      <th>odometer</th>\n",
              "      <th>price</th>\n",
              "      <th>year</th>\n",
              "      <th>transmission_manual</th>\n",
              "    </tr>\n",
              "  </thead>\n",
              "  <tbody>\n",
              "    <tr>\n",
              "      <th>count</th>\n",
              "      <td>52790.000000</td>\n",
              "      <td>52790.000000</td>\n",
              "      <td>52790.000000</td>\n",
              "      <td>52790.000000</td>\n",
              "    </tr>\n",
              "    <tr>\n",
              "      <th>mean</th>\n",
              "      <td>73793.561413</td>\n",
              "      <td>37836.812105</td>\n",
              "      <td>2017.656090</td>\n",
              "      <td>0.038435</td>\n",
              "    </tr>\n",
              "    <tr>\n",
              "      <th>std</th>\n",
              "      <td>49459.643716</td>\n",
              "      <td>24950.307572</td>\n",
              "      <td>2.392192</td>\n",
              "      <td>0.192247</td>\n",
              "    </tr>\n",
              "    <tr>\n",
              "      <th>min</th>\n",
              "      <td>0.000000</td>\n",
              "      <td>2000.000000</td>\n",
              "      <td>2012.000000</td>\n",
              "      <td>0.000000</td>\n",
              "    </tr>\n",
              "    <tr>\n",
              "      <th>25%</th>\n",
              "      <td>36137.000000</td>\n",
              "      <td>22800.000000</td>\n",
              "      <td>2016.000000</td>\n",
              "      <td>0.000000</td>\n",
              "    </tr>\n",
              "    <tr>\n",
              "      <th>50%</th>\n",
              "      <td>64397.500000</td>\n",
              "      <td>32373.500000</td>\n",
              "      <td>2018.000000</td>\n",
              "      <td>0.000000</td>\n",
              "    </tr>\n",
              "    <tr>\n",
              "      <th>75%</th>\n",
              "      <td>102351.500000</td>\n",
              "      <td>45325.500000</td>\n",
              "      <td>2019.000000</td>\n",
              "      <td>0.000000</td>\n",
              "    </tr>\n",
              "    <tr>\n",
              "      <th>max</th>\n",
              "      <td>290000.000000</td>\n",
              "      <td>249995.000000</td>\n",
              "      <td>2022.000000</td>\n",
              "      <td>1.000000</td>\n",
              "    </tr>\n",
              "  </tbody>\n",
              "</table>\n",
              "</div>\n",
              "      <button class=\"colab-df-convert\" onclick=\"convertToInteractive('df-446163f4-6145-4e0c-b623-c44d20633c34')\"\n",
              "              title=\"Convert this dataframe to an interactive table.\"\n",
              "              style=\"display:none;\">\n",
              "        \n",
              "  <svg xmlns=\"http://www.w3.org/2000/svg\" height=\"24px\"viewBox=\"0 0 24 24\"\n",
              "       width=\"24px\">\n",
              "    <path d=\"M0 0h24v24H0V0z\" fill=\"none\"/>\n",
              "    <path d=\"M18.56 5.44l.94 2.06.94-2.06 2.06-.94-2.06-.94-.94-2.06-.94 2.06-2.06.94zm-11 1L8.5 8.5l.94-2.06 2.06-.94-2.06-.94L8.5 2.5l-.94 2.06-2.06.94zm10 10l.94 2.06.94-2.06 2.06-.94-2.06-.94-.94-2.06-.94 2.06-2.06.94z\"/><path d=\"M17.41 7.96l-1.37-1.37c-.4-.4-.92-.59-1.43-.59-.52 0-1.04.2-1.43.59L10.3 9.45l-7.72 7.72c-.78.78-.78 2.05 0 2.83L4 21.41c.39.39.9.59 1.41.59.51 0 1.02-.2 1.41-.59l7.78-7.78 2.81-2.81c.8-.78.8-2.07 0-2.86zM5.41 20L4 18.59l7.72-7.72 1.47 1.35L5.41 20z\"/>\n",
              "  </svg>\n",
              "      </button>\n",
              "      \n",
              "  <style>\n",
              "    .colab-df-container {\n",
              "      display:flex;\n",
              "      flex-wrap:wrap;\n",
              "      gap: 12px;\n",
              "    }\n",
              "\n",
              "    .colab-df-convert {\n",
              "      background-color: #E8F0FE;\n",
              "      border: none;\n",
              "      border-radius: 50%;\n",
              "      cursor: pointer;\n",
              "      display: none;\n",
              "      fill: #1967D2;\n",
              "      height: 32px;\n",
              "      padding: 0 0 0 0;\n",
              "      width: 32px;\n",
              "    }\n",
              "\n",
              "    .colab-df-convert:hover {\n",
              "      background-color: #E2EBFA;\n",
              "      box-shadow: 0px 1px 2px rgba(60, 64, 67, 0.3), 0px 1px 3px 1px rgba(60, 64, 67, 0.15);\n",
              "      fill: #174EA6;\n",
              "    }\n",
              "\n",
              "    [theme=dark] .colab-df-convert {\n",
              "      background-color: #3B4455;\n",
              "      fill: #D2E3FC;\n",
              "    }\n",
              "\n",
              "    [theme=dark] .colab-df-convert:hover {\n",
              "      background-color: #434B5C;\n",
              "      box-shadow: 0px 1px 3px 1px rgba(0, 0, 0, 0.15);\n",
              "      filter: drop-shadow(0px 1px 2px rgba(0, 0, 0, 0.3));\n",
              "      fill: #FFFFFF;\n",
              "    }\n",
              "  </style>\n",
              "\n",
              "      <script>\n",
              "        const buttonEl =\n",
              "          document.querySelector('#df-446163f4-6145-4e0c-b623-c44d20633c34 button.colab-df-convert');\n",
              "        buttonEl.style.display =\n",
              "          google.colab.kernel.accessAllowed ? 'block' : 'none';\n",
              "\n",
              "        async function convertToInteractive(key) {\n",
              "          const element = document.querySelector('#df-446163f4-6145-4e0c-b623-c44d20633c34');\n",
              "          const dataTable =\n",
              "            await google.colab.kernel.invokeFunction('convertToInteractive',\n",
              "                                                     [key], {});\n",
              "          if (!dataTable) return;\n",
              "\n",
              "          const docLinkHtml = 'Like what you see? Visit the ' +\n",
              "            '<a target=\"_blank\" href=https://colab.research.google.com/notebooks/data_table.ipynb>data table notebook</a>'\n",
              "            + ' to learn more about interactive tables.';\n",
              "          element.innerHTML = '';\n",
              "          dataTable['output_type'] = 'display_data';\n",
              "          await google.colab.output.renderOutput(dataTable, element);\n",
              "          const docLink = document.createElement('div');\n",
              "          docLink.innerHTML = docLinkHtml;\n",
              "          element.appendChild(docLink);\n",
              "        }\n",
              "      </script>\n",
              "    </div>\n",
              "  </div>\n",
              "  "
            ]
          },
          "metadata": {},
          "execution_count": 27
        }
      ],
      "source": [
        "df.describe(include = [np.number])"
      ]
    },
    {
      "cell_type": "code",
      "execution_count": 28,
      "metadata": {
        "colab": {
          "base_uri": "https://localhost:8080/",
          "height": 175
        },
        "id": "ef889d9d",
        "outputId": "fad54a10-1006-47af-badb-28a7fcf91ea7"
      },
      "outputs": [
        {
          "output_type": "execute_result",
          "data": {
            "text/plain": [
              "         make           model bodytype   trim drivetrain province\n",
              "count   52790           52790    52790  52790      52790    52790\n",
              "unique     27             491        8   1171          3        2\n",
              "top     Honda  Silverado 1500      suv    nan        AWD  ontario\n",
              "freq     2646            2047    25185  17857      37025    29534"
            ],
            "text/html": [
              "\n",
              "  <div id=\"df-8abf65dd-3536-4667-92d0-77f40e69c721\">\n",
              "    <div class=\"colab-df-container\">\n",
              "      <div>\n",
              "<style scoped>\n",
              "    .dataframe tbody tr th:only-of-type {\n",
              "        vertical-align: middle;\n",
              "    }\n",
              "\n",
              "    .dataframe tbody tr th {\n",
              "        vertical-align: top;\n",
              "    }\n",
              "\n",
              "    .dataframe thead th {\n",
              "        text-align: right;\n",
              "    }\n",
              "</style>\n",
              "<table border=\"1\" class=\"dataframe\">\n",
              "  <thead>\n",
              "    <tr style=\"text-align: right;\">\n",
              "      <th></th>\n",
              "      <th>make</th>\n",
              "      <th>model</th>\n",
              "      <th>bodytype</th>\n",
              "      <th>trim</th>\n",
              "      <th>drivetrain</th>\n",
              "      <th>province</th>\n",
              "    </tr>\n",
              "  </thead>\n",
              "  <tbody>\n",
              "    <tr>\n",
              "      <th>count</th>\n",
              "      <td>52790</td>\n",
              "      <td>52790</td>\n",
              "      <td>52790</td>\n",
              "      <td>52790</td>\n",
              "      <td>52790</td>\n",
              "      <td>52790</td>\n",
              "    </tr>\n",
              "    <tr>\n",
              "      <th>unique</th>\n",
              "      <td>27</td>\n",
              "      <td>491</td>\n",
              "      <td>8</td>\n",
              "      <td>1171</td>\n",
              "      <td>3</td>\n",
              "      <td>2</td>\n",
              "    </tr>\n",
              "    <tr>\n",
              "      <th>top</th>\n",
              "      <td>Honda</td>\n",
              "      <td>Silverado 1500</td>\n",
              "      <td>suv</td>\n",
              "      <td>nan</td>\n",
              "      <td>AWD</td>\n",
              "      <td>ontario</td>\n",
              "    </tr>\n",
              "    <tr>\n",
              "      <th>freq</th>\n",
              "      <td>2646</td>\n",
              "      <td>2047</td>\n",
              "      <td>25185</td>\n",
              "      <td>17857</td>\n",
              "      <td>37025</td>\n",
              "      <td>29534</td>\n",
              "    </tr>\n",
              "  </tbody>\n",
              "</table>\n",
              "</div>\n",
              "      <button class=\"colab-df-convert\" onclick=\"convertToInteractive('df-8abf65dd-3536-4667-92d0-77f40e69c721')\"\n",
              "              title=\"Convert this dataframe to an interactive table.\"\n",
              "              style=\"display:none;\">\n",
              "        \n",
              "  <svg xmlns=\"http://www.w3.org/2000/svg\" height=\"24px\"viewBox=\"0 0 24 24\"\n",
              "       width=\"24px\">\n",
              "    <path d=\"M0 0h24v24H0V0z\" fill=\"none\"/>\n",
              "    <path d=\"M18.56 5.44l.94 2.06.94-2.06 2.06-.94-2.06-.94-.94-2.06-.94 2.06-2.06.94zm-11 1L8.5 8.5l.94-2.06 2.06-.94-2.06-.94L8.5 2.5l-.94 2.06-2.06.94zm10 10l.94 2.06.94-2.06 2.06-.94-2.06-.94-.94-2.06-.94 2.06-2.06.94z\"/><path d=\"M17.41 7.96l-1.37-1.37c-.4-.4-.92-.59-1.43-.59-.52 0-1.04.2-1.43.59L10.3 9.45l-7.72 7.72c-.78.78-.78 2.05 0 2.83L4 21.41c.39.39.9.59 1.41.59.51 0 1.02-.2 1.41-.59l7.78-7.78 2.81-2.81c.8-.78.8-2.07 0-2.86zM5.41 20L4 18.59l7.72-7.72 1.47 1.35L5.41 20z\"/>\n",
              "  </svg>\n",
              "      </button>\n",
              "      \n",
              "  <style>\n",
              "    .colab-df-container {\n",
              "      display:flex;\n",
              "      flex-wrap:wrap;\n",
              "      gap: 12px;\n",
              "    }\n",
              "\n",
              "    .colab-df-convert {\n",
              "      background-color: #E8F0FE;\n",
              "      border: none;\n",
              "      border-radius: 50%;\n",
              "      cursor: pointer;\n",
              "      display: none;\n",
              "      fill: #1967D2;\n",
              "      height: 32px;\n",
              "      padding: 0 0 0 0;\n",
              "      width: 32px;\n",
              "    }\n",
              "\n",
              "    .colab-df-convert:hover {\n",
              "      background-color: #E2EBFA;\n",
              "      box-shadow: 0px 1px 2px rgba(60, 64, 67, 0.3), 0px 1px 3px 1px rgba(60, 64, 67, 0.15);\n",
              "      fill: #174EA6;\n",
              "    }\n",
              "\n",
              "    [theme=dark] .colab-df-convert {\n",
              "      background-color: #3B4455;\n",
              "      fill: #D2E3FC;\n",
              "    }\n",
              "\n",
              "    [theme=dark] .colab-df-convert:hover {\n",
              "      background-color: #434B5C;\n",
              "      box-shadow: 0px 1px 3px 1px rgba(0, 0, 0, 0.15);\n",
              "      filter: drop-shadow(0px 1px 2px rgba(0, 0, 0, 0.3));\n",
              "      fill: #FFFFFF;\n",
              "    }\n",
              "  </style>\n",
              "\n",
              "      <script>\n",
              "        const buttonEl =\n",
              "          document.querySelector('#df-8abf65dd-3536-4667-92d0-77f40e69c721 button.colab-df-convert');\n",
              "        buttonEl.style.display =\n",
              "          google.colab.kernel.accessAllowed ? 'block' : 'none';\n",
              "\n",
              "        async function convertToInteractive(key) {\n",
              "          const element = document.querySelector('#df-8abf65dd-3536-4667-92d0-77f40e69c721');\n",
              "          const dataTable =\n",
              "            await google.colab.kernel.invokeFunction('convertToInteractive',\n",
              "                                                     [key], {});\n",
              "          if (!dataTable) return;\n",
              "\n",
              "          const docLinkHtml = 'Like what you see? Visit the ' +\n",
              "            '<a target=\"_blank\" href=https://colab.research.google.com/notebooks/data_table.ipynb>data table notebook</a>'\n",
              "            + ' to learn more about interactive tables.';\n",
              "          element.innerHTML = '';\n",
              "          dataTable['output_type'] = 'display_data';\n",
              "          await google.colab.output.renderOutput(dataTable, element);\n",
              "          const docLink = document.createElement('div');\n",
              "          docLink.innerHTML = docLinkHtml;\n",
              "          element.appendChild(docLink);\n",
              "        }\n",
              "      </script>\n",
              "    </div>\n",
              "  </div>\n",
              "  "
            ]
          },
          "metadata": {},
          "execution_count": 28
        }
      ],
      "source": [
        "df.describe(include = ['O'])"
      ]
    },
    {
      "cell_type": "markdown",
      "metadata": {
        "id": "8e7d787f"
      },
      "source": [
        "### Visualize target variable (price)"
      ]
    },
    {
      "cell_type": "code",
      "execution_count": 29,
      "metadata": {
        "colab": {
          "base_uri": "https://localhost:8080/",
          "height": 399
        },
        "id": "894044ee",
        "outputId": "430b5525-c83a-417e-e895-a8838f106b96"
      },
      "outputs": [
        {
          "output_type": "display_data",
          "data": {
            "text/plain": [
              "<Figure size 1008x432 with 2 Axes>"
            ],
            "image/png": "[encoded data removed]"
          },
          "metadata": {
            "needs_background": "light"
          }
        }
      ],
      "source": [
        "plt.figure(figsize = (14, 6))\n",
        "plt.subplot(1,2,1)\n",
        "sns.boxplot(df.price)\n",
        "plt.subplot(1,2,2)\n",
        "sns.distplot(df.price, bins=20)\n",
        "plt.show()"
      ]
    },
    {
      "cell_type": "markdown",
      "metadata": {
        "id": "a29dbce7"
      },
      "source": [
        "### Use IQR to identify potential outliers"
      ]
    },
    {
      "cell_type": "code",
      "execution_count": 30,
      "metadata": {
        "colab": {
          "base_uri": "https://localhost:8080/"
        },
        "id": "3e83fee2",
        "outputId": "534ab494-e26d-41e1-ce41-db9ce2c96eb5"
      },
      "outputs": [
        {
          "output_type": "stream",
          "name": "stdout",
          "text": [
            "count     52790.000000\n",
            "mean      37836.812105\n",
            "std       24950.307572\n",
            "min        2000.000000\n",
            "25%       22800.000000\n",
            "50%       32373.500000\n",
            "75%       45325.500000\n",
            "max      249995.000000\n",
            "Name: price, dtype: float64\n",
            "The upper and lower bounds for suspected outliers are 79113.75 and -10988.25.\n"
          ]
        }
      ],
      "source": [
        "stat = df.price.describe()\n",
        "print(stat)\n",
        "IQR = stat['75%'] - stat['25%']\n",
        "upper = stat['75%'] + 1.5 * IQR\n",
        "lower = stat['25%'] - 1.5 * IQR\n",
        "print('The upper and lower bounds for suspected outliers are {} and {}.'.format(upper, lower))"
      ]
    },
    {
      "cell_type": "code",
      "execution_count": 31,
      "metadata": {
        "colab": {
          "base_uri": "https://localhost:8080/"
        },
        "id": "735859e8",
        "outputId": "78d27c44-3a44-4a04-8434-aad8b4313c7b"
      },
      "outputs": [
        {
          "output_type": "execute_result",
          "data": {
            "text/plain": [
              "911                   286\n",
              "Cayenne               191\n",
              "Escalade              137\n",
              "Model Y               131\n",
              "Corvette              100\n",
              "                     ... \n",
              "Ct5                     1\n",
              "E-Series Cutaway        1\n",
              "Silverado 3500          1\n",
              "Silverado 1500 Ltd      1\n",
              "Tt                      1\n",
              "Name: model, Length: 143, dtype: int64"
            ]
          },
          "metadata": {},
          "execution_count": 31
        }
      ],
      "source": [
        "#check potential outlier above upper bound\n",
        "df.loc[df.price > 79078, 'model'].value_counts()"
      ]
    },
    {
      "cell_type": "markdown",
      "metadata": {
        "id": "08a2ae42"
      },
      "source": [
        "The high-priced potential outliers all are expensive car models. We determine these entries to be legitimate and will not remove them."
      ]
    },
    {
      "cell_type": "code",
      "execution_count": 32,
      "metadata": {
        "id": "fdfde350"
      },
      "outputs": [],
      "source": [
        "def plot_feature(df, col):\n",
        "    '''\n",
        "    Make plot for each features\n",
        "    left, the distribution of samples on the feature\n",
        "    right, the dependance of price on the feature\n",
        "    '''\n",
        "    plt.figure(figsize = (14, 6))\n",
        "    plt.subplot(1, 2, 1)\n",
        "    if df[col].dtype == 'int64' or df[col].dtype == 'int32':\n",
        "        df[col].value_counts().sort_index().plot()\n",
        "    else:\n",
        "        #change the categorical variable to category type and order their level by the mean price\n",
        "        #in each category\n",
        "        mean = df.groupby(col)['price'].mean()\n",
        "        df[col] = df[col].astype('category')\n",
        "        levels = mean.sort_values().index.tolist()\n",
        "        df[col].cat.reorder_categories(levels, inplace=True)\n",
        "        df[col].value_counts().plot()\n",
        "    plt.xticks(rotation=45)\n",
        "    plt.xlabel(col)\n",
        "    plt.ylabel('Counts')\n",
        "    plt.subplot(1, 2, 2)\n",
        "    \n",
        "    if df[col].dtype == 'int64' or df[col].dtype == 'int32':\n",
        "        #plot the mean price for each category and fill between the (mean - std, mean + std)\n",
        "        mean = df.groupby(col)['price'].mean()\n",
        "        std = df.groupby(col)['price'].std()\n",
        "        mean.plot()\n",
        "        plt.fill_between(range(len(std.index)), mean.values-std.values, mean.values + std.values, \\\n",
        "                         alpha = 0.1)\n",
        "    else:\n",
        "        sns.boxplot(x = col, y = 'price', data=df)\n",
        "    \n",
        "    plt.xticks(rotation=45)\n",
        "    plt.ylabel('Price')\n",
        "    plt.show()"
      ]
    },
    {
      "cell_type": "markdown",
      "metadata": {
        "id": "7ec21b2d"
      },
      "source": [
        "**As expected, luxury brands like Porsche have a higher price, and cheaper brands such as Hyundai, Mitsubishi are on the lower end**"
      ]
    },
    {
      "cell_type": "code",
      "execution_count": 33,
      "metadata": {
        "colab": {
          "base_uri": "https://localhost:8080/",
          "height": 439
        },
        "id": "ed852201",
        "outputId": "50a0065e-614e-4674-ef68-0cd12d0fada0"
      },
      "outputs": [
        {
          "output_type": "display_data",
          "data": {
            "text/plain": [
              "<Figure size 1008x432 with 2 Axes>"
            ],
            "image/png": "[encoded data removed]"
          },
          "metadata": {
            "needs_background": "light"
          }
        }
      ],
      "source": [
        "plot_feature(df, 'make')"
      ]
    },
    {
      "cell_type": "markdown",
      "metadata": {
        "id": "f50a5a69"
      },
      "source": [
        "#### Majority of the listings are for SUVs. Convertible and coupe cars are the most expensive, whereas, hatchback and sedan are the least expensive"
      ]
    },
    {
      "cell_type": "code",
      "execution_count": 34,
      "metadata": {
        "colab": {
          "base_uri": "https://localhost:8080/",
          "height": 435
        },
        "id": "070b81a1",
        "outputId": "8ed7e2d8-4b30-475d-ef51-9cc33e95fa41"
      },
      "outputs": [
        {
          "output_type": "display_data",
          "data": {
            "text/plain": [
              "<Figure size 1008x432 with 2 Axes>"
            ],
            "image/png": "[encoded data removed]"
          },
          "metadata": {
            "needs_background": "light"
          }
        }
      ],
      "source": [
        "plot_feature(df, 'bodytype')"
      ]
    },
    {
      "cell_type": "markdown",
      "metadata": {
        "id": "cf821337"
      },
      "source": [
        "#### Rear-Wheel Drive cars are the most expensive; Forward-Wheel Drive cars are the least expensive"
      ]
    },
    {
      "cell_type": "code",
      "execution_count": 35,
      "metadata": {
        "colab": {
          "base_uri": "https://localhost:8080/",
          "height": 402
        },
        "id": "42682674",
        "outputId": "5ebda140-aa66-4ab4-ae8d-c7b1f4b3684b"
      },
      "outputs": [
        {
          "output_type": "display_data",
          "data": {
            "text/plain": [
              "<Figure size 1008x432 with 2 Axes>"
            ],
            "image/png": "[encoded data removed]"
          },
          "metadata": {
            "needs_background": "light"
          }
        }
      ],
      "source": [
        "plot_feature(df, 'drivetrain')"
      ]
    },
    {
      "cell_type": "markdown",
      "metadata": {
        "id": "e2f03644"
      },
      "source": [
        "#### While we can't be certain just from this graph, prices in Quebec seem to be slightly cheaper than Ontario"
      ]
    },
    {
      "cell_type": "code",
      "execution_count": 36,
      "metadata": {
        "colab": {
          "base_uri": "https://localhost:8080/",
          "height": 411
        },
        "id": "de9a0f33",
        "outputId": "8e0ecf54-6cb3-40a2-ac2b-92121b34818b"
      },
      "outputs": [
        {
          "output_type": "display_data",
          "data": {
            "text/plain": [
              "<Figure size 1008x432 with 2 Axes>"
            ],
            "image/png": "[encoded data removed]"
          },
          "metadata": {
            "needs_background": "light"
          }
        }
      ],
      "source": [
        "plot_feature(df, 'province')"
      ]
    },
    {
      "cell_type": "markdown",
      "metadata": {
        "id": "d0f97fbd"
      },
      "source": [
        "**There is a clear negative correlation between mileage and price. Cars with higher mileage sell for a lower price**"
      ]
    },
    {
      "cell_type": "code",
      "execution_count": 37,
      "metadata": {
        "scrolled": false,
        "colab": {
          "base_uri": "https://localhost:8080/",
          "height": 412
        },
        "id": "5d9b9cfd",
        "outputId": "bb241991-3677-4282-bb58-d1fe2fd696fa"
      },
      "outputs": [
        {
          "output_type": "display_data",
          "data": {
            "text/plain": [
              "<Figure size 1008x432 with 2 Axes>"
            ],
            "image/png": "[encoded data removed]"
          },
          "metadata": {
            "needs_background": "light"
          }
        }
      ],
      "source": [
        "plot_feature(df, 'odometer')"
      ]
    },
    {
      "cell_type": "markdown",
      "metadata": {
        "id": "fed6662d"
      },
      "source": [
        "**There is a positive correlation between car year and price.**"
      ]
    },
    {
      "cell_type": "code",
      "execution_count": 38,
      "metadata": {
        "colab": {
          "base_uri": "https://localhost:8080/",
          "height": 388
        },
        "id": "5eabe0a7",
        "outputId": "b9b42a30-bc5e-42bd-d0b8-7f2d5729c5d3"
      },
      "outputs": [
        {
          "output_type": "display_data",
          "data": {
            "text/plain": [
              "<Figure size 1008x432 with 1 Axes>"
            ],
            "image/png": "[encoded data removed]"
          },
          "metadata": {
            "needs_background": "light"
          }
        }
      ],
      "source": [
        "plt.figure(figsize = (14, 6))\n",
        "sns.barplot(x=\"year\", y=\"price\", data=df)\n",
        "plt.show()"
      ]
    },
    {
      "cell_type": "code",
      "execution_count": 39,
      "metadata": {
        "colab": {
          "base_uri": "https://localhost:8080/"
        },
        "id": "b28efb8b",
        "outputId": "7cb013e4-fa3d-41c7-b681-a0c99c36e0e6"
      },
      "outputs": [
        {
          "output_type": "stream",
          "name": "stdout",
          "text": [
            "<class 'pandas.core.frame.DataFrame'>\n",
            "Int64Index: 52790 entries, 1399 to 67868\n",
            "Data columns (total 10 columns):\n",
            " #   Column               Non-Null Count  Dtype   \n",
            "---  ------               --------------  -----   \n",
            " 0   make                 52790 non-null  category\n",
            " 1   model                52790 non-null  object  \n",
            " 2   odometer             52790 non-null  int64   \n",
            " 3   price                52790 non-null  int64   \n",
            " 4   bodytype             52790 non-null  category\n",
            " 5   trim                 52790 non-null  object  \n",
            " 6   year                 52790 non-null  int64   \n",
            " 7   drivetrain           52790 non-null  category\n",
            " 8   province             52790 non-null  category\n",
            " 9   transmission_manual  52790 non-null  int64   \n",
            "dtypes: category(4), int64(4), object(2)\n",
            "memory usage: 5.0+ MB\n"
          ]
        }
      ],
      "source": [
        "df.info()"
      ]
    },
    {
      "cell_type": "code",
      "execution_count": 40,
      "metadata": {
        "id": "77d62ec0"
      },
      "outputs": [],
      "source": [
        "def encode_label(df, col):\n",
        "    #encode the categories using average price for each category to replace label\n",
        "    cat_dict ={}\n",
        "    cats = df[col].cat.categories.tolist()\n",
        "    for cat in cats:\n",
        "        cat_dict[cat] = df[df[col] == cat]['price'].mean()   \n",
        "    df[col] = df[col].map(cat_dict)\n",
        "    \n",
        "# Create a temporary dataframe since we will be changing the datatypes and applying encoding\n",
        "temp_df = df.copy()\n",
        "    \n",
        "# Loop through categorical columns and target encode them\n",
        "for col in categorical_cols:\n",
        "    # Transform to category\n",
        "    temp_df[col] = temp_df[col].astype('category')\n",
        "    encode_label(temp_df, col)\n",
        "    temp_df[col] = temp_df[col].astype('int32')"
      ]
    },
    {
      "cell_type": "code",
      "execution_count": 41,
      "metadata": {
        "colab": {
          "base_uri": "https://localhost:8080/",
          "height": 669
        },
        "id": "3967fd30",
        "outputId": "38f07888-287c-464c-f2b7-cf8b7c9dee00"
      },
      "outputs": [
        {
          "output_type": "display_data",
          "data": {
            "text/plain": [
              "<Figure size 864x720 with 2 Axes>"
            ],
            "image/png": "[encoded data removed]"
          },
          "metadata": {
            "needs_background": "light"
          }
        }
      ],
      "source": [
        "# Correlations between selected features and response\n",
        "fig = plt.figure(figsize=(12, 10))\n",
        "features = ['make', 'model', 'odometer', 'bodytype', 'trim', 'year', 'drivetrain', 'province', 'transmission_manual']\n",
        "sns.heatmap(temp_df[features + ['price']].corr(), cmap='Blues', annot=True)\n",
        "plt.xticks(rotation=45)\n",
        "plt.show()"
      ]
    },
    {
      "cell_type": "markdown",
      "metadata": {
        "id": "0e7354c7"
      },
      "source": [
        "We see that model is most strongly correlated with price, followed by trim, make, year and odometer<br><br>\n",
        "Among the features, we see that the following feature pairs have a strong degree of correlation:\n",
        "- odometer and year\n",
        "- make and model \n",
        "- model and trim\n",
        "\n"
      ]
    },
    {
      "cell_type": "code",
      "execution_count": 42,
      "metadata": {
        "id": "82019826"
      },
      "outputs": [],
      "source": [
        "# Delete temporary dataframe we had created, to free memory\n",
        "del temp_df\n",
        "\n",
        "# Convert category columns back into object\n",
        "for col in ['make', 'model', 'bodytype', 'trim','drivetrain','province']:\n",
        "    df[col] = df[col].astype('object')"
      ]
    },
    {
      "cell_type": "code",
      "execution_count": 43,
      "metadata": {
        "colab": {
          "base_uri": "https://localhost:8080/"
        },
        "id": "daf73af3",
        "outputId": "731e5f1d-4034-4b89-8af2-367bcd35c007"
      },
      "outputs": [
        {
          "output_type": "stream",
          "name": "stdout",
          "text": [
            "<class 'pandas.core.frame.DataFrame'>\n",
            "Int64Index: 52790 entries, 1399 to 67868\n",
            "Data columns (total 10 columns):\n",
            " #   Column               Non-Null Count  Dtype \n",
            "---  ------               --------------  ----- \n",
            " 0   make                 52790 non-null  object\n",
            " 1   model                52790 non-null  object\n",
            " 2   odometer             52790 non-null  int64 \n",
            " 3   price                52790 non-null  int64 \n",
            " 4   bodytype             52790 non-null  object\n",
            " 5   trim                 52790 non-null  object\n",
            " 6   year                 52790 non-null  int64 \n",
            " 7   drivetrain           52790 non-null  object\n",
            " 8   province             52790 non-null  object\n",
            " 9   transmission_manual  52790 non-null  int64 \n",
            "dtypes: int64(4), object(6)\n",
            "memory usage: 6.4+ MB\n"
          ]
        }
      ],
      "source": [
        "df.info()"
      ]
    },
    {
      "cell_type": "code",
      "execution_count": 44,
      "metadata": {
        "colab": {
          "base_uri": "https://localhost:8080/",
          "height": 424
        },
        "id": "fbba9eed",
        "outputId": "88b1ab22-1541-4bf7-8f1c-841f417dfaa2"
      },
      "outputs": [
        {
          "output_type": "execute_result",
          "data": {
            "text/plain": [
              "        make model  odometer  price bodytype           trim  year drivetrain  \\\n",
              "1399    Audi    S5    145396  30999    coupe            nan  2016        AWD   \n",
              "1400    Audi    Q3     20443  33499      suv         Q3-2.0  2018        AWD   \n",
              "1401    Audi    A4    108716  14495    sedan     A4-Premium  2013        AWD   \n",
              "1407    Audi    S6    213077  20890    sedan            nan  2013        AWD   \n",
              "1412    Audi    A4    148477  13989    sedan     A4-Premium  2013        AWD   \n",
              "...      ...   ...       ...    ...      ...            ...   ...        ...   \n",
              "67864  Volvo  Xc60     31678  65990      suv            nan  2020        AWD   \n",
              "67865  Volvo  Xc60     43124  45999      suv        Xc60-T6  2019        AWD   \n",
              "67866  Volvo  Xc60     27371  52900      suv        Xc60-T6  2020        AWD   \n",
              "67867  Volvo  Xc40     40377  39551      suv  Xc40-Momentum  2019        AWD   \n",
              "67868  Volvo  Xc90     15723  75242      suv        Xc90-T6  2021        AWD   \n",
              "\n",
              "      province  transmission_manual  \n",
              "1399    quebec                    0  \n",
              "1400    quebec                    0  \n",
              "1401    quebec                    0  \n",
              "1407    quebec                    0  \n",
              "1412    quebec                    1  \n",
              "...        ...                  ...  \n",
              "67864  ontario                    0  \n",
              "67865  ontario                    0  \n",
              "67866  ontario                    0  \n",
              "67867  ontario                    0  \n",
              "67868  ontario                    0  \n",
              "\n",
              "[52790 rows x 10 columns]"
            ],
            "text/html": [
              "\n",
              "  <div id=\"df-dfc6cad7-82c3-4b58-9c05-4ab961df4088\">\n",
              "    <div class=\"colab-df-container\">\n",
              "      <div>\n",
              "<style scoped>\n",
              "    .dataframe tbody tr th:only-of-type {\n",
              "        vertical-align: middle;\n",
              "    }\n",
              "\n",
              "    .dataframe tbody tr th {\n",
              "        vertical-align: top;\n",
              "    }\n",
              "\n",
              "    .dataframe thead th {\n",
              "        text-align: right;\n",
              "    }\n",
              "</style>\n",
              "<table border=\"1\" class=\"dataframe\">\n",
              "  <thead>\n",
              "    <tr style=\"text-align: right;\">\n",
              "      <th></th>\n",
              "      <th>make</th>\n",
              "      <th>model</th>\n",
              "      <th>odometer</th>\n",
              "      <th>price</th>\n",
              "      <th>bodytype</th>\n",
              "      <th>trim</th>\n",
              "      <th>year</th>\n",
              "      <th>drivetrain</th>\n",
              "      <th>province</th>\n",
              "      <th>transmission_manual</th>\n",
              "    </tr>\n",
              "  </thead>\n",
              "  <tbody>\n",
              "    <tr>\n",
              "      <th>1399</th>\n",
              "      <td>Audi</td>\n",
              "      <td>S5</td>\n",
              "      <td>145396</td>\n",
              "      <td>30999</td>\n",
              "      <td>coupe</td>\n",
              "      <td>nan</td>\n",
              "      <td>2016</td>\n",
              "      <td>AWD</td>\n",
              "      <td>quebec</td>\n",
              "      <td>0</td>\n",
              "    </tr>\n",
              "    <tr>\n",
              "      <th>1400</th>\n",
              "      <td>Audi</td>\n",
              "      <td>Q3</td>\n",
              "      <td>20443</td>\n",
              "      <td>33499</td>\n",
              "      <td>suv</td>\n",
              "      <td>Q3-2.0</td>\n",
              "      <td>2018</td>\n",
              "      <td>AWD</td>\n",
              "      <td>quebec</td>\n",
              "      <td>0</td>\n",
              "    </tr>\n",
              "    <tr>\n",
              "      <th>1401</th>\n",
              "      <td>Audi</td>\n",
              "      <td>A4</td>\n",
              "      <td>108716</td>\n",
              "      <td>14495</td>\n",
              "      <td>sedan</td>\n",
              "      <td>A4-Premium</td>\n",
              "      <td>2013</td>\n",
              "      <td>AWD</td>\n",
              "      <td>quebec</td>\n",
              "      <td>0</td>\n",
              "    </tr>\n",
              "    <tr>\n",
              "      <th>1407</th>\n",
              "      <td>Audi</td>\n",
              "      <td>S6</td>\n",
              "      <td>213077</td>\n",
              "      <td>20890</td>\n",
              "      <td>sedan</td>\n",
              "      <td>nan</td>\n",
              "      <td>2013</td>\n",
              "      <td>AWD</td>\n",
              "      <td>quebec</td>\n",
              "      <td>0</td>\n",
              "    </tr>\n",
              "    <tr>\n",
              "      <th>1412</th>\n",
              "      <td>Audi</td>\n",
              "      <td>A4</td>\n",
              "      <td>148477</td>\n",
              "      <td>13989</td>\n",
              "      <td>sedan</td>\n",
              "      <td>A4-Premium</td>\n",
              "      <td>2013</td>\n",
              "      <td>AWD</td>\n",
              "      <td>quebec</td>\n",
              "      <td>1</td>\n",
              "    </tr>\n",
              "    <tr>\n",
              "      <th>...</th>\n",
              "      <td>...</td>\n",
              "      <td>...</td>\n",
              "      <td>...</td>\n",
              "      <td>...</td>\n",
              "      <td>...</td>\n",
              "      <td>...</td>\n",
              "      <td>...</td>\n",
              "      <td>...</td>\n",
              "      <td>...</td>\n",
              "      <td>...</td>\n",
              "    </tr>\n",
              "    <tr>\n",
              "      <th>67864</th>\n",
              "      <td>Volvo</td>\n",
              "      <td>Xc60</td>\n",
              "      <td>31678</td>\n",
              "      <td>65990</td>\n",
              "      <td>suv</td>\n",
              "      <td>nan</td>\n",
              "      <td>2020</td>\n",
              "      <td>AWD</td>\n",
              "      <td>ontario</td>\n",
              "      <td>0</td>\n",
              "    </tr>\n",
              "    <tr>\n",
              "      <th>67865</th>\n",
              "      <td>Volvo</td>\n",
              "      <td>Xc60</td>\n",
              "      <td>43124</td>\n",
              "      <td>45999</td>\n",
              "      <td>suv</td>\n",
              "      <td>Xc60-T6</td>\n",
              "      <td>2019</td>\n",
              "      <td>AWD</td>\n",
              "      <td>ontario</td>\n",
              "      <td>0</td>\n",
              "    </tr>\n",
              "    <tr>\n",
              "      <th>67866</th>\n",
              "      <td>Volvo</td>\n",
              "      <td>Xc60</td>\n",
              "      <td>27371</td>\n",
              "      <td>52900</td>\n",
              "      <td>suv</td>\n",
              "      <td>Xc60-T6</td>\n",
              "      <td>2020</td>\n",
              "      <td>AWD</td>\n",
              "      <td>ontario</td>\n",
              "      <td>0</td>\n",
              "    </tr>\n",
              "    <tr>\n",
              "      <th>67867</th>\n",
              "      <td>Volvo</td>\n",
              "      <td>Xc40</td>\n",
              "      <td>40377</td>\n",
              "      <td>39551</td>\n",
              "      <td>suv</td>\n",
              "      <td>Xc40-Momentum</td>\n",
              "      <td>2019</td>\n",
              "      <td>AWD</td>\n",
              "      <td>ontario</td>\n",
              "      <td>0</td>\n",
              "    </tr>\n",
              "    <tr>\n",
              "      <th>67868</th>\n",
              "      <td>Volvo</td>\n",
              "      <td>Xc90</td>\n",
              "      <td>15723</td>\n",
              "      <td>75242</td>\n",
              "      <td>suv</td>\n",
              "      <td>Xc90-T6</td>\n",
              "      <td>2021</td>\n",
              "      <td>AWD</td>\n",
              "      <td>ontario</td>\n",
              "      <td>0</td>\n",
              "    </tr>\n",
              "  </tbody>\n",
              "</table>\n",
              "<p>52790 rows × 10 columns</p>\n",
              "</div>\n",
              "      <button class=\"colab-df-convert\" onclick=\"convertToInteractive('df-dfc6cad7-82c3-4b58-9c05-4ab961df4088')\"\n",
              "              title=\"Convert this dataframe to an interactive table.\"\n",
              "              style=\"display:none;\">\n",
              "        \n",
              "  <svg xmlns=\"http://www.w3.org/2000/svg\" height=\"24px\"viewBox=\"0 0 24 24\"\n",
              "       width=\"24px\">\n",
              "    <path d=\"M0 0h24v24H0V0z\" fill=\"none\"/>\n",
              "    <path d=\"M18.56 5.44l.94 2.06.94-2.06 2.06-.94-2.06-.94-.94-2.06-.94 2.06-2.06.94zm-11 1L8.5 8.5l.94-2.06 2.06-.94-2.06-.94L8.5 2.5l-.94 2.06-2.06.94zm10 10l.94 2.06.94-2.06 2.06-.94-2.06-.94-.94-2.06-.94 2.06-2.06.94z\"/><path d=\"M17.41 7.96l-1.37-1.37c-.4-.4-.92-.59-1.43-.59-.52 0-1.04.2-1.43.59L10.3 9.45l-7.72 7.72c-.78.78-.78 2.05 0 2.83L4 21.41c.39.39.9.59 1.41.59.51 0 1.02-.2 1.41-.59l7.78-7.78 2.81-2.81c.8-.78.8-2.07 0-2.86zM5.41 20L4 18.59l7.72-7.72 1.47 1.35L5.41 20z\"/>\n",
              "  </svg>\n",
              "      </button>\n",
              "      \n",
              "  <style>\n",
              "    .colab-df-container {\n",
              "      display:flex;\n",
              "      flex-wrap:wrap;\n",
              "      gap: 12px;\n",
              "    }\n",
              "\n",
              "    .colab-df-convert {\n",
              "      background-color: #E8F0FE;\n",
              "      border: none;\n",
              "      border-radius: 50%;\n",
              "      cursor: pointer;\n",
              "      display: none;\n",
              "      fill: #1967D2;\n",
              "      height: 32px;\n",
              "      padding: 0 0 0 0;\n",
              "      width: 32px;\n",
              "    }\n",
              "\n",
              "    .colab-df-convert:hover {\n",
              "      background-color: #E2EBFA;\n",
              "      box-shadow: 0px 1px 2px rgba(60, 64, 67, 0.3), 0px 1px 3px 1px rgba(60, 64, 67, 0.15);\n",
              "      fill: #174EA6;\n",
              "    }\n",
              "\n",
              "    [theme=dark] .colab-df-convert {\n",
              "      background-color: #3B4455;\n",
              "      fill: #D2E3FC;\n",
              "    }\n",
              "\n",
              "    [theme=dark] .colab-df-convert:hover {\n",
              "      background-color: #434B5C;\n",
              "      box-shadow: 0px 1px 3px 1px rgba(0, 0, 0, 0.15);\n",
              "      filter: drop-shadow(0px 1px 2px rgba(0, 0, 0, 0.3));\n",
              "      fill: #FFFFFF;\n",
              "    }\n",
              "  </style>\n",
              "\n",
              "      <script>\n",
              "        const buttonEl =\n",
              "          document.querySelector('#df-dfc6cad7-82c3-4b58-9c05-4ab961df4088 button.colab-df-convert');\n",
              "        buttonEl.style.display =\n",
              "          google.colab.kernel.accessAllowed ? 'block' : 'none';\n",
              "\n",
              "        async function convertToInteractive(key) {\n",
              "          const element = document.querySelector('#df-dfc6cad7-82c3-4b58-9c05-4ab961df4088');\n",
              "          const dataTable =\n",
              "            await google.colab.kernel.invokeFunction('convertToInteractive',\n",
              "                                                     [key], {});\n",
              "          if (!dataTable) return;\n",
              "\n",
              "          const docLinkHtml = 'Like what you see? Visit the ' +\n",
              "            '<a target=\"_blank\" href=https://colab.research.google.com/notebooks/data_table.ipynb>data table notebook</a>'\n",
              "            + ' to learn more about interactive tables.';\n",
              "          element.innerHTML = '';\n",
              "          dataTable['output_type'] = 'display_data';\n",
              "          await google.colab.output.renderOutput(dataTable, element);\n",
              "          const docLink = document.createElement('div');\n",
              "          docLink.innerHTML = docLinkHtml;\n",
              "          element.appendChild(docLink);\n",
              "        }\n",
              "      </script>\n",
              "    </div>\n",
              "  </div>\n",
              "  "
            ]
          },
          "metadata": {},
          "execution_count": 44
        }
      ],
      "source": [
        "df"
      ]
    },
    {
      "cell_type": "markdown",
      "metadata": {
        "id": "08083818"
      },
      "source": [
        "# Outlier treatment"
      ]
    },
    {
      "cell_type": "markdown",
      "metadata": {
        "id": "dc2a8320"
      },
      "source": [
        "Since our data consists of listings that were published by dealers, data is not very clean. There are cars which are overpriced, and there are low-priced cars which have been in accidents. These can cause affect our model's performance. Therefore we need to treat these outliers.<br><br>"
      ]
    },
    {
      "cell_type": "code",
      "execution_count": 45,
      "metadata": {
        "id": "e0a76f27"
      },
      "outputs": [],
      "source": [
        "import math\n",
        "import statistics\n",
        "import plotly.express as px\n",
        "from sklearn.preprocessing import PolynomialFeatures"
      ]
    },
    {
      "cell_type": "markdown",
      "metadata": {
        "id": "3c0e7e8e"
      },
      "source": [
        "We can see these outliers by plotting a model's listings with price on y-axis and year on x-axis."
      ]
    },
    {
      "cell_type": "code",
      "execution_count": 46,
      "metadata": {
        "colab": {
          "base_uri": "https://localhost:8080/",
          "height": 542
        },
        "id": "ad9ebe7c",
        "outputId": "c192b3d0-202f-4a32-ee23-f9ace1bf0dfc"
      },
      "outputs": [
        {
          "output_type": "display_data",
          "data": {
            "text/html": [
              "<html>\n",
              "<head><meta charset=\"utf-8\" /></head>\n",
              "<body>\n",
              "    <div>            <script src=\"https://cdnjs.cloudflare.com/ajax/libs/mathjax/2.7.5/MathJax.js?config=TeX-AMS-MML_SVG\"></script><script type=\"text/javascript\">if (window.MathJax) {MathJax.Hub.Config({SVG: {font: \"STIX-Web\"}});}</script>                <script type=\"text/javascript\">window.PlotlyConfig = {MathJaxConfig: 'local'};</script>\n",
              "        <script src=\"https://cdn.plot.ly/plotly-2.8.3.min.js\"></script>                <div id=\"7ebc418b-8e32-4f97-a3d0-1c0ce6a5837d\" class=\"plotly-graph-div\" style=\"height:525px; width:100%;\"></div>            <script type=\"text/javascript\">                                    window.PLOTLYENV=window.PLOTLYENV || {};                                    if (document.getElementById(\"7ebc418b-8e32-4f97-a3d0-1c0ce6a5837d\")) {                    Plotly.newPlot(                        \"7ebc418b-8e32-4f97-a3d0-1c0ce6a5837d\",                        [{\"hovertemplate\":\"trim=Cherokee-North<br>year=%{x}<br>price=%{y}<extra></extra>\",\"legendgroup\":\"Cherokee-North\",\"marker\":{\"color\":\"#636efa\",\"symbol\":\"circle\"},\"mode\":\"markers\",\"name\":\"Cherokee-North\",\"orientation\":\"v\",\"showlegend\":true,\"x\":[2018,2015,2018,2018,2017,2019,2015,2016,2015,2017,2019,2015,2018,2015,2019,2015,2017,2015,2015,2016,2018,2014,2015,2019,2016,2016,2016,2018,2018,2019,2016,2015,2015,2017,2018,2019,2014,2016,2014,2014,2019,2016,2019,2016,2016,2018,2015,2015,2015,2016,2017,2018,2017,2015,2016,2016,2016,2014,2015,2014,2019,2017,2014,2015,2015,2015,2015,2015,2015,2016,2016,2019,2015,2016,2016,2019,2015,2017,2015,2019,2018,2017,2014,2016,2015,2018,2019,2017,2016,2014,2019,2019,2014,2016,2015,2017,2015,2014,2014,2016,2019,2018,2018,2018,2019,2019,2015,2016,2018,2019,2017,2015,2016,2018,2016,2019,2016,2017,2019,2014,2019],\"xaxis\":\"x\",\"y\":[29000,19995,27950,25498,26950,31995,24998,23999,18486,26998,29997,23495,22990,17295,31999,18995,26989,21999,17498,17998,28995,19597,16995,31995,21999,21444,25999,29832,25990,32997,20987,20995,19998,28950,27995,28890,14978,21590,15995,15995,26450,22999,32975,22488,21500,24995,14909,22650,18888,21998,28888,31995,26888,20995,21998,21988,25995,16800,19798,14995,30988,25995,18995,21467,18977,14990,19999,15980,23888,23988,25995,33504,21999,14995,24835,36900,18888,24995,21885,29800,27698,24995,18670,23999,20995,29998,30995,26995,24998,21385,31490,29504,20995,24996,17999,28595,17795,9850,14995,20495,28989,28995,25980,26998,34990,29498,21995,19975,26994,32695,24950,15995,14490,26998,23988,29990,24998,23991,31894,14999,23998],\"yaxis\":\"y\",\"type\":\"scatter\"},{\"hovertemplate\":\"trim=Cherokee-Trailhawk<br>year=%{x}<br>price=%{y}<extra></extra>\",\"legendgroup\":\"Cherokee-Trailhawk\",\"marker\":{\"color\":\"#EF553B\",\"symbol\":\"circle\"},\"mode\":\"markers\",\"name\":\"Cherokee-Trailhawk\",\"orientation\":\"v\",\"showlegend\":true,\"x\":[2018,2016,2019,2015,2019,2017,2015,2017,2018,2021,2017,2016,2019,2018,2018,2018,2018,2016,2017,2017,2020,2019,2017,2019,2019,2022,2019,2018,2020,2019,2017,2019,2018,2017,2017,2015,2017,2020,2019,2019,2019,2019,2019,2018,2017,2015,2015,2019,2016,2021,2019,2018,2015,2021,2019,2017,2015,2017,2016,2020,2020,2018,2015,2019,2017,2019,2019,2019,2015,2019,2015,2019,2014,2019,2019,2014,2019,2019,2016,2016,2017,2017,2017,2021,2019,2017,2016,2020,2019,2019,2021,2021,2016,2021,2017,2015,2016,2019,2019,2022,2017,2015,2015,2019,2016,2016,2019,2016,2019,2016,2019,2021,2019,2018,2019,2018,2020,2017,2015,2018,2019,2022,2019,2019,2018,2018,2016,2019,2018,2017,2019,2018,2021,2017,2020,2016,2019,2018,2017,2019,2019,2020,2014,2021,2018,2019,2020,2022,2021,2018,2016,2015,2019,2016,2019,2016,2017,2020,2019,2019,2019,2019,2019,2017,2016,2021,2021,2015,2019,2016,2021,2019,2019,2017,2016,2016,2014,2019,2016,2021,2019,2018,2020,2014,2019,2015,2016,2021,2019,2017,2017,2016],\"xaxis\":\"x\",\"y\":[34995,28995,33486,18790,37993,26998,25858,31987,36949,44888,30885,24995,33500,33999,33890,33985,33800,27900,28880,26495,39985,36777,29994,29995,33995,47905,28988,35986,35898,37000,28665,34950,24951,31000,29990,21870,29995,46999,41999,37800,32999,34495,33585,34995,29997,23986,23988,35395,23331,44885,36987,34988,24999,42995,34999,36888,22988,27995,21982,42777,36987,30995,21985,36995,28995,38832,36988,33990,27999,37783,23934,34800,14995,35995,33999,18988,37999,37898,30995,23594,28495,22989,28995,43888,35495,28985,29000,38998,35650,34943,45395,23995,26999,43990,31900,20988,25977,37475,36980,47935,27900,24995,20888,33950,26590,26999,37995,23980,36495,20495,36995,44487,39995,33900,37888,30500,39775,29899,21039,32888,31994,50380,37595,34490,30994,30555,26998,40999,31488,24977,35995,35950,44080,29498,41495,24749,35987,33988,26941,36500,34888,38880,19800,42950,29989,33775,39995,48995,43999,32698,24989,23995,37995,22995,35888,26788,28988,31498,36990,32295,34909,39995,36999,31995,24350,42894,43495,24990,38995,24499,44995,35495,36880,27777,24987,26807,17988,34499,15995,46995,33498,32995,40995,17988,34999,21995,20989,45900,34777,29495,24988,24495],\"yaxis\":\"y\",\"type\":\"scatter\"},{\"hovertemplate\":\"trim=nan<br>year=%{x}<br>price=%{y}<extra></extra>\",\"legendgroup\":\"nan\",\"marker\":{\"color\":\"#00cc96\",\"symbol\":\"circle\"},\"mode\":\"markers\",\"name\":\"nan\",\"orientation\":\"v\",\"showlegend\":true,\"x\":[2017,2016,2015,2014,2019,2015,2015,2015,2015,2019,2017,2017,2016,2014,2015,2017,2017,2016,2014,2020,2017,2019,2016,2021,2019,2016,2016,2015,2018,2016,2019,2017,2016,2016,2014,2014,2017,2017,2015,2021,2019,2014,2016,2019,2014,2015,2021,2017,2019,2019,2014,2017,2016,2016,2019,2018,2015,2015,2015,2016,2020,2015,2016,2016,2020,2014,2019,2018,2014,2014,2016,2018,2016,2017,2020,2014,2021,2018,2021,2016,2017,2014,2015,2015,2014,2018,2021,2017,2015,2016,2019,2017,2016,2021,2019,2017,2018,2015,2016,2019,2015,2015,2016,2017,2016,2016,2018,2016,2020,2014,2017,2016,2015,2015,2017,2016,2017,2015,2015,2016,2017,2015,2015,2015,2019,2017,2014,2019,2015,2016,2018,2015,2015,2021,2019,2017,2015,2017,2017,2017,2017,2019,2016,2016,2015],\"xaxis\":\"x\",\"y\":[24987,25950,19495,20900,36995,20977,18999,22999,19995,37995,28995,20995,20999,17995,18984,23995,28990,29999,11995,40900,29988,30990,17488,41989,29608,26499,28900,22989,33495,14888,28995,24988,28995,17995,15951,13888,21885,25988,19995,39488,32991,19995,12455,25998,17787,17950,43999,26862,31595,29775,19995,24990,39995,27984,35790,25499,25000,26000,19900,17758,16995,19700,26777,29999,37995,19995,31999,32995,12885,19795,27999,32500,27867,25995,40847,15979,39995,28443,42950,18495,29999,14500,18890,15900,13997,33999,44995,28998,22995,24992,29995,23995,19990,42880,39995,28495,31991,15990,23988,28500,27995,19998,20995,32976,18999,21999,32988,12490,39899,15995,24995,24990,20999,6695,24990,21999,28987,22588,20485,20995,24495,18985,17995,19999,36408,27999,12995,32287,18777,19999,25495,18988,19495,42900,24995,26999,20995,26995,28995,24995,20999,33984,27590,16989,20995],\"yaxis\":\"y\",\"type\":\"scatter\"},{\"hovertemplate\":\"trim=Cherokee-Sport<br>year=%{x}<br>price=%{y}<extra></extra>\",\"legendgroup\":\"Cherokee-Sport\",\"marker\":{\"color\":\"#ab63fa\",\"symbol\":\"circle\"},\"mode\":\"markers\",\"name\":\"Cherokee-Sport\",\"orientation\":\"v\",\"showlegend\":true,\"x\":[2019,2016,2016,2014,2016,2017,2017,2016,2016,2019,2019,2015,2016,2016,2018,2019,2016,2014,2016,2016,2014,2016,2020,2017,2016,2019,2015,2020,2018,2016,2016,2017,2016,2016,2018,2018,2017,2016,2015,2019,2017,2014,2016,2016,2017,2015,2018,2019,2017,2021,2018,2018,2015,2017,2019,2019,2016,2015,2016],\"xaxis\":\"x\",\"y\":[26989,18999,19988,11989,22998,21997,20888,20990,19945,27498,28995,17998,19999,22860,27888,29995,21999,17990,19998,16900,19898,21990,33479,24999,18800,28990,20995,36498,29200,19888,19745,26705,24995,21999,25988,28998,25875,22990,17977,27990,23995,18500,25999,22397,24995,19999,30988,34989,22995,34888,25995,25900,18995,22998,29950,29498,18995,18991,19405],\"yaxis\":\"y\",\"type\":\"scatter\"},{\"hovertemplate\":\"trim=Cherokee-Altitude<br>year=%{x}<br>price=%{y}<extra></extra>\",\"legendgroup\":\"Cherokee-Altitude\",\"marker\":{\"color\":\"#FFA15A\",\"symbol\":\"circle\"},\"mode\":\"markers\",\"name\":\"Cherokee-Altitude\",\"orientation\":\"v\",\"showlegend\":true,\"x\":[2016,2019,2019,2016,2018,2020,2018,2018,2021,2019,2016,2018],\"xaxis\":\"x\",\"y\":[21900,33999,33590,20494,27998,37990,26999,24990,44900,27894,17950,28999],\"yaxis\":\"y\",\"type\":\"scatter\"},{\"hovertemplate\":\"trim=Cherokee-Limited<br>year=%{x}<br>price=%{y}<extra></extra>\",\"legendgroup\":\"Cherokee-Limited\",\"marker\":{\"color\":\"#19d3f3\",\"symbol\":\"circle\"},\"mode\":\"markers\",\"name\":\"Cherokee-Limited\",\"orientation\":\"v\",\"showlegend\":true,\"x\":[2019,2015,2019,2021,2016,2019,2015,2016,2014,2015,2017,2019,2022,2015,2015,2019,2020,2016,2020,2017,2016,2016,2018,2018,2014,2016,2016,2015,2016,2019,2016,2016,2019,2019,2019,2017,2019,2015,2016,2015,2016,2019,2016,2018,2017,2019,2018,2019,2014,2018,2014,2015,2019,2019,2016,2017,2016,2019,2019,2016,2015,2017,2019,2016,2019,2018,2016,2019,2017,2020,2019,2014,2017,2019,2017,2015,2015,2016,2015,2019],\"xaxis\":\"x\",\"y\":[35994,19994,38995,42975,22995,35399,21995,24499,17995,19587,27999,34987,52240,21095,18984,31990,39886,31990,39999,27433,27779,24995,30900,27999,19995,29999,29995,23893,24998,38995,23850,24988,32148,37175,34725,26988,35995,19977,24500,11809,25898,34935,28917,26789,29504,37951,26988,32998,14990,24989,18975,23995,29999,36900,24888,28995,24994,38999,36988,23995,22994,24450,36987,23991,37494,26995,24978,37980,27500,39898,34989,17888,25900,35898,22995,25763,17890,24655,20999,35500],\"yaxis\":\"y\",\"type\":\"scatter\"},{\"hovertemplate\":\"trim=Cherokee-High<br>year=%{x}<br>price=%{y}<extra></extra>\",\"legendgroup\":\"Cherokee-High\",\"marker\":{\"color\":\"#FF6692\",\"symbol\":\"circle\"},\"mode\":\"markers\",\"name\":\"Cherokee-High\",\"orientation\":\"v\",\"showlegend\":true,\"x\":[2017,2017,2018,2021,2019,2017],\"xaxis\":\"x\",\"y\":[30497,26997,29998,39995,34468,24993],\"yaxis\":\"y\",\"type\":\"scatter\"},{\"hovertemplate\":\"trim=Cherokee-Overland<br>year=%{x}<br>price=%{y}<extra></extra>\",\"legendgroup\":\"Cherokee-Overland\",\"marker\":{\"color\":\"#B6E880\",\"symbol\":\"circle\"},\"mode\":\"markers\",\"name\":\"Cherokee-Overland\",\"orientation\":\"v\",\"showlegend\":true,\"x\":[2019,2017,2018,2019,2016,2018],\"xaxis\":\"x\",\"y\":[38950,29909,29900,32895,20494,32489],\"yaxis\":\"y\",\"type\":\"scatter\"},{\"hovertemplate\":\"trim=Cherokee-4<br>year=%{x}<br>price=%{y}<extra></extra>\",\"legendgroup\":\"Cherokee-4\",\"marker\":{\"color\":\"#FF97FF\",\"symbol\":\"circle\"},\"mode\":\"markers\",\"name\":\"Cherokee-4\",\"orientation\":\"v\",\"showlegend\":true,\"x\":[2015,2014,2017,2015,2016,2017],\"xaxis\":\"x\",\"y\":[23500,18495,25995,11995,18995,24495],\"yaxis\":\"y\",\"type\":\"scatter\"}],                        {\"template\":{\"data\":{\"bar\":[{\"error_x\":{\"color\":\"#2a3f5f\"},\"error_y\":{\"color\":\"#2a3f5f\"},\"marker\":{\"line\":{\"color\":\"#E5ECF6\",\"width\":0.5},\"pattern\":{\"fillmode\":\"overlay\",\"size\":10,\"solidity\":0.2}},\"type\":\"bar\"}],\"barpolar\":[{\"marker\":{\"line\":{\"color\":\"#E5ECF6\",\"width\":0.5},\"pattern\":{\"fillmode\":\"overlay\",\"size\":10,\"solidity\":0.2}},\"type\":\"barpolar\"}],\"carpet\":[{\"aaxis\":{\"endlinecolor\":\"#2a3f5f\",\"gridcolor\":\"white\",\"linecolor\":\"white\",\"minorgridcolor\":\"white\",\"startlinecolor\":\"#2a3f5f\"},\"baxis\":{\"endlinecolor\":\"#2a3f5f\",\"gridcolor\":\"white\",\"linecolor\":\"white\",\"minorgridcolor\":\"white\",\"startlinecolor\":\"#2a3f5f\"},\"type\":\"carpet\"}],\"choropleth\":[{\"colorbar\":{\"outlinewidth\":0,\"ticks\":\"\"},\"type\":\"choropleth\"}],\"contour\":[{\"colorbar\":{\"outlinewidth\":0,\"ticks\":\"\"},\"colorscale\":[[0.0,\"#0d0887\"],[0.1111111111111111,\"#46039f\"],[0.2222222222222222,\"#7201a8\"],[0.3333333333333333,\"#9c179e\"],[0.4444444444444444,\"#bd3786\"],[0.5555555555555556,\"#d8576b\"],[0.6666666666666666,\"#ed7953\"],[0.7777777777777778,\"#fb9f3a\"],[0.8888888888888888,\"#fdca26\"],[1.0,\"#f0f921\"]],\"type\":\"contour\"}],\"contourcarpet\":[{\"colorbar\":{\"outlinewidth\":0,\"ticks\":\"\"},\"type\":\"contourcarpet\"}],\"heatmap\":[{\"colorbar\":{\"outlinewidth\":0,\"ticks\":\"\"},\"colorscale\":[[0.0,\"#0d0887\"],[0.1111111111111111,\"#46039f\"],[0.2222222222222222,\"#7201a8\"],[0.3333333333333333,\"#9c179e\"],[0.4444444444444444,\"#bd3786\"],[0.5555555555555556,\"#d8576b\"],[0.6666666666666666,\"#ed7953\"],[0.7777777777777778,\"#fb9f3a\"],[0.8888888888888888,\"#fdca26\"],[1.0,\"#f0f921\"]],\"type\":\"heatmap\"}],\"heatmapgl\":[{\"colorbar\":{\"outlinewidth\":0,\"ticks\":\"\"},\"colorscale\":[[0.0,\"#0d0887\"],[0.1111111111111111,\"#46039f\"],[0.2222222222222222,\"#7201a8\"],[0.3333333333333333,\"#9c179e\"],[0.4444444444444444,\"#bd3786\"],[0.5555555555555556,\"#d8576b\"],[0.6666666666666666,\"#ed7953\"],[0.7777777777777778,\"#fb9f3a\"],[0.8888888888888888,\"#fdca26\"],[1.0,\"#f0f921\"]],\"type\":\"heatmapgl\"}],\"histogram\":[{\"marker\":{\"pattern\":{\"fillmode\":\"overlay\",\"size\":10,\"solidity\":0.2}},\"type\":\"histogram\"}],\"histogram2d\":[{\"colorbar\":{\"outlinewidth\":0,\"ticks\":\"\"},\"colorscale\":[[0.0,\"#0d0887\"],[0.1111111111111111,\"#46039f\"],[0.2222222222222222,\"#7201a8\"],[0.3333333333333333,\"#9c179e\"],[0.4444444444444444,\"#bd3786\"],[0.5555555555555556,\"#d8576b\"],[0.6666666666666666,\"#ed7953\"],[0.7777777777777778,\"#fb9f3a\"],[0.8888888888888888,\"#fdca26\"],[1.0,\"#f0f921\"]],\"type\":\"histogram2d\"}],\"histogram2dcontour\":[{\"colorbar\":{\"outlinewidth\":0,\"ticks\":\"\"},\"colorscale\":[[0.0,\"#0d0887\"],[0.1111111111111111,\"#46039f\"],[0.2222222222222222,\"#7201a8\"],[0.3333333333333333,\"#9c179e\"],[0.4444444444444444,\"#bd3786\"],[0.5555555555555556,\"#d8576b\"],[0.6666666666666666,\"#ed7953\"],[0.7777777777777778,\"#fb9f3a\"],[0.8888888888888888,\"#fdca26\"],[1.0,\"#f0f921\"]],\"type\":\"histogram2dcontour\"}],\"mesh3d\":[{\"colorbar\":{\"outlinewidth\":0,\"ticks\":\"\"},\"type\":\"mesh3d\"}],\"parcoords\":[{\"line\":{\"colorbar\":{\"outlinewidth\":0,\"ticks\":\"\"}},\"type\":\"parcoords\"}],\"pie\":[{\"automargin\":true,\"type\":\"pie\"}],\"scatter\":[{\"marker\":{\"colorbar\":{\"outlinewidth\":0,\"ticks\":\"\"}},\"type\":\"scatter\"}],\"scatter3d\":[{\"line\":{\"colorbar\":{\"outlinewidth\":0,\"ticks\":\"\"}},\"marker\":{\"colorbar\":{\"outlinewidth\":0,\"ticks\":\"\"}},\"type\":\"scatter3d\"}],\"scattercarpet\":[{\"marker\":{\"colorbar\":{\"outlinewidth\":0,\"ticks\":\"\"}},\"type\":\"scattercarpet\"}],\"scattergeo\":[{\"marker\":{\"colorbar\":{\"outlinewidth\":0,\"ticks\":\"\"}},\"type\":\"scattergeo\"}],\"scattergl\":[{\"marker\":{\"colorbar\":{\"outlinewidth\":0,\"ticks\":\"\"}},\"type\":\"scattergl\"}],\"scattermapbox\":[{\"marker\":{\"colorbar\":{\"outlinewidth\":0,\"ticks\":\"\"}},\"type\":\"scattermapbox\"}],\"scatterpolar\":[{\"marker\":{\"colorbar\":{\"outlinewidth\":0,\"ticks\":\"\"}},\"type\":\"scatterpolar\"}],\"scatterpolargl\":[{\"marker\":{\"colorbar\":{\"outlinewidth\":0,\"ticks\":\"\"}},\"type\":\"scatterpolargl\"}],\"scatterternary\":[{\"marker\":{\"colorbar\":{\"outlinewidth\":0,\"ticks\":\"\"}},\"type\":\"scatterternary\"}],\"surface\":[{\"colorbar\":{\"outlinewidth\":0,\"ticks\":\"\"},\"colorscale\":[[0.0,\"#0d0887\"],[0.1111111111111111,\"#46039f\"],[0.2222222222222222,\"#7201a8\"],[0.3333333333333333,\"#9c179e\"],[0.4444444444444444,\"#bd3786\"],[0.5555555555555556,\"#d8576b\"],[0.6666666666666666,\"#ed7953\"],[0.7777777777777778,\"#fb9f3a\"],[0.8888888888888888,\"#fdca26\"],[1.0,\"#f0f921\"]],\"type\":\"surface\"}],\"table\":[{\"cells\":{\"fill\":{\"color\":\"#EBF0F8\"},\"line\":{\"color\":\"white\"}},\"header\":{\"fill\":{\"color\":\"#C8D4E3\"},\"line\":{\"color\":\"white\"}},\"type\":\"table\"}]},\"layout\":{\"annotationdefaults\":{\"arrowcolor\":\"#2a3f5f\",\"arrowhead\":0,\"arrowwidth\":1},\"autotypenumbers\":\"strict\",\"coloraxis\":{\"colorbar\":{\"outlinewidth\":0,\"ticks\":\"\"}},\"colorscale\":{\"diverging\":[[0,\"#8e0152\"],[0.1,\"#c51b7d\"],[0.2,\"#de77ae\"],[0.3,\"#f1b6da\"],[0.4,\"#fde0ef\"],[0.5,\"#f7f7f7\"],[0.6,\"#e6f5d0\"],[0.7,\"#b8e186\"],[0.8,\"#7fbc41\"],[0.9,\"#4d9221\"],[1,\"#276419\"]],\"sequential\":[[0.0,\"#0d0887\"],[0.1111111111111111,\"#46039f\"],[0.2222222222222222,\"#7201a8\"],[0.3333333333333333,\"#9c179e\"],[0.4444444444444444,\"#bd3786\"],[0.5555555555555556,\"#d8576b\"],[0.6666666666666666,\"#ed7953\"],[0.7777777777777778,\"#fb9f3a\"],[0.8888888888888888,\"#fdca26\"],[1.0,\"#f0f921\"]],\"sequentialminus\":[[0.0,\"#0d0887\"],[0.1111111111111111,\"#46039f\"],[0.2222222222222222,\"#7201a8\"],[0.3333333333333333,\"#9c179e\"],[0.4444444444444444,\"#bd3786\"],[0.5555555555555556,\"#d8576b\"],[0.6666666666666666,\"#ed7953\"],[0.7777777777777778,\"#fb9f3a\"],[0.8888888888888888,\"#fdca26\"],[1.0,\"#f0f921\"]]},\"colorway\":[\"#636efa\",\"#EF553B\",\"#00cc96\",\"#ab63fa\",\"#FFA15A\",\"#19d3f3\",\"#FF6692\",\"#B6E880\",\"#FF97FF\",\"#FECB52\"],\"font\":{\"color\":\"#2a3f5f\"},\"geo\":{\"bgcolor\":\"white\",\"lakecolor\":\"white\",\"landcolor\":\"#E5ECF6\",\"showlakes\":true,\"showland\":true,\"subunitcolor\":\"white\"},\"hoverlabel\":{\"align\":\"left\"},\"hovermode\":\"closest\",\"mapbox\":{\"style\":\"light\"},\"paper_bgcolor\":\"white\",\"plot_bgcolor\":\"#E5ECF6\",\"polar\":{\"angularaxis\":{\"gridcolor\":\"white\",\"linecolor\":\"white\",\"ticks\":\"\"},\"bgcolor\":\"#E5ECF6\",\"radialaxis\":{\"gridcolor\":\"white\",\"linecolor\":\"white\",\"ticks\":\"\"}},\"scene\":{\"xaxis\":{\"backgroundcolor\":\"#E5ECF6\",\"gridcolor\":\"white\",\"gridwidth\":2,\"linecolor\":\"white\",\"showbackground\":true,\"ticks\":\"\",\"zerolinecolor\":\"white\"},\"yaxis\":{\"backgroundcolor\":\"#E5ECF6\",\"gridcolor\":\"white\",\"gridwidth\":2,\"linecolor\":\"white\",\"showbackground\":true,\"ticks\":\"\",\"zerolinecolor\":\"white\"},\"zaxis\":{\"backgroundcolor\":\"#E5ECF6\",\"gridcolor\":\"white\",\"gridwidth\":2,\"linecolor\":\"white\",\"showbackground\":true,\"ticks\":\"\",\"zerolinecolor\":\"white\"}},\"shapedefaults\":{\"line\":{\"color\":\"#2a3f5f\"}},\"ternary\":{\"aaxis\":{\"gridcolor\":\"white\",\"linecolor\":\"white\",\"ticks\":\"\"},\"baxis\":{\"gridcolor\":\"white\",\"linecolor\":\"white\",\"ticks\":\"\"},\"bgcolor\":\"#E5ECF6\",\"caxis\":{\"gridcolor\":\"white\",\"linecolor\":\"white\",\"ticks\":\"\"}},\"title\":{\"x\":0.05},\"xaxis\":{\"automargin\":true,\"gridcolor\":\"white\",\"linecolor\":\"white\",\"ticks\":\"\",\"title\":{\"standoff\":15},\"zerolinecolor\":\"white\",\"zerolinewidth\":2},\"yaxis\":{\"automargin\":true,\"gridcolor\":\"white\",\"linecolor\":\"white\",\"ticks\":\"\",\"title\":{\"standoff\":15},\"zerolinecolor\":\"white\",\"zerolinewidth\":2}}},\"xaxis\":{\"anchor\":\"y\",\"domain\":[0.0,1.0],\"title\":{\"text\":\"year\"}},\"yaxis\":{\"anchor\":\"x\",\"domain\":[0.0,1.0],\"title\":{\"text\":\"price\"}},\"legend\":{\"title\":{\"text\":\"trim\"},\"tracegroupgap\":0},\"margin\":{\"t\":60}},                        {\"responsive\": true}                    ).then(function(){\n",
              "                            \n",
              "var gd = document.getElementById('7ebc418b-8e32-4f97-a3d0-1c0ce6a5837d');\n",
              "var x = new MutationObserver(function (mutations, observer) {{\n",
              "        var display = window.getComputedStyle(gd).display;\n",
              "        if (!display || display === 'none') {{\n",
              "            console.log([gd, 'removed!']);\n",
              "            Plotly.purge(gd);\n",
              "            observer.disconnect();\n",
              "        }}\n",
              "}});\n",
              "\n",
              "// Listen for the removal of the full notebook cells\n",
              "var notebookContainer = gd.closest('#notebook-container');\n",
              "if (notebookContainer) {{\n",
              "    x.observe(notebookContainer, {childList: true});\n",
              "}}\n",
              "\n",
              "// Listen for the clearing of the current output cell\n",
              "var outputEl = gd.closest('.output');\n",
              "if (outputEl) {{\n",
              "    x.observe(outputEl, {childList: true});\n",
              "}}\n",
              "\n",
              "                        })                };                            </script>        </div>\n",
              "</body>\n",
              "</html>"
            ]
          },
          "metadata": {}
        }
      ],
      "source": [
        "model_df = df[df['model']=='Cherokee']\n",
        "fig = px.scatter(data_frame=model_df, x=\"year\", y=\"price\",color='trim')#,text='odometer'\n",
        "fig.show()"
      ]
    },
    {
      "cell_type": "code",
      "execution_count": 47,
      "metadata": {
        "id": "9e07b529"
      },
      "outputs": [],
      "source": [
        "def remove_outliers(df, outlier_threshold = 0.4, min_models_count= 30):\n",
        "    ''' \n",
        "    Identifies and removes outliers from a dataframe. \n",
        "    \n",
        "    Methodology is as follows:\n",
        "    - Loops through car models which have more than n rows in the dataframe. \n",
        "    - Filters the dataframe for that model only. Builds an outlier proof regression model on the filtered data.\n",
        "    - If any data point is above or below the model's prediction, labels that data point as an outlier.\n",
        "    - Removes the rows labeled as outlier from data\n",
        "    - Returns the clean dataframe\n",
        "    '''\n",
        "    \n",
        "    models_list = list(df.model.value_counts()[df.model.value_counts() > min_models_count].index)\n",
        "\n",
        "    outliers_df = pd.DataFrame(columns=['make', 'model', 'odometer', 'price', 'bodytype', 'trim',\n",
        "        'year', 'drivetrain', 'transmission_manual', 'province', 'prediction', 'diff', 'outlier'])\n",
        "\n",
        "    for model_name in models_list:\n",
        "        model_df = df[df['model']==model_name]\n",
        "\n",
        "        # split into input and output elements\n",
        "        X = model_df[['year','odometer']]\n",
        "        #X = pd.get_dummies(X,drop_first=True)\n",
        "        y = model_df['price']\n",
        "\n",
        "        # Robustly fit linear model with RANSAC algorithm\n",
        "        from sklearn import linear_model\n",
        "        ransac = linear_model.RANSACRegressor()\n",
        "        ransac.fit(X, y)\n",
        "\n",
        "        model_df['prediction'] = ransac.predict(X)\n",
        "        model_df['diff'] = model_df['price'] / model_df['prediction'] -1\n",
        "        model_df['outlier'] = model_df['diff'].apply(lambda x: 1 if (x>outlier_threshold or x<-outlier_threshold) else 0)\n",
        "\n",
        "        outliers_df = pd.concat([outliers_df,model_df],ignore_index=True)\n",
        "\n",
        "\n",
        "    # Fix the outlier label of cars with expensive trims (we do this to correct false-positives)\n",
        "    expensive_trims = [\"Durango-Srt\", \"M340I\", \"Mustang-Shelby\", \"Camaro-2Ss\",\"Charger-Srt\", \"Challenger-Srt\", \"Challenger-Scat\", \"F-150-Raptor\", \"Sierra 1500-Denali\", \"Grand Cherokee-Srt\", \"Wrangler-Unlimited\", \"C-Class-C43\", \"C-Class-Amg\", \"Cla-Class-Amg\", \"E-Class-Amg\", \"Gla-Class-Amg\", \"Glc-Class-Amg\", \"Gle-Class-Amg\", \"3 Door-John\", \"911-Turbo\", \"911-Gt3\", \"Cayenne-Gts\", \"Cayenne-Turbo\", \"Macan-Turbo\", \"Macan-Gts\", \"Panamera-Gts\", \"Panamera-Turbo\", \"Silverado 1500-Trx\", \"Impreza-Wrx\", \"Wrx-Sti\"]\n",
        "    outliers_df['outlier'] = outliers_df.apply(lambda row: 0 if row['trim'] in expensive_trims else row['outlier'],axis=1)\n",
        "\n",
        "    # Append the data points which couldn't make it to outliers df due to being filtered out\n",
        "    remaining_models_list = list(df.model.value_counts()[df.model.value_counts() <= min_models_count].index)\n",
        "    for model_name in remaining_models_list:\n",
        "        model_df = df[df['model']==model_name]\n",
        "        outliers_df = pd.concat([outliers_df,model_df],ignore_index=True)\n",
        "\n",
        "    outliers_df['outlier'].fillna(value=0,inplace=True)\n",
        "    \n",
        "    \n",
        "    # Remove the identified outliers from data\n",
        "    outliers_df = outliers_df[outliers_df['outlier']==0]\n",
        "    outliers_df.drop(['prediction','diff','outlier'],axis=1,inplace=True)\n",
        "\n",
        "    return outliers_df\n",
        "\n",
        "df = remove_outliers(df, outlier_threshold = 0.4, min_models_count= 30)"
      ]
    },
    {
      "cell_type": "markdown",
      "metadata": {
        "id": "4d88520d"
      },
      "source": [
        "When we look at the same model's graph, we will see that the outliers are now removed from the data"
      ]
    },
    {
      "cell_type": "code",
      "execution_count": 48,
      "metadata": {
        "colab": {
          "base_uri": "https://localhost:8080/",
          "height": 542
        },
        "id": "66694e09",
        "outputId": "d879fe13-59ef-4b7a-9712-cf8838b23edd"
      },
      "outputs": [
        {
          "output_type": "display_data",
          "data": {
            "text/html": [
              "<html>\n",
              "<head><meta charset=\"utf-8\" /></head>\n",
              "<body>\n",
              "    <div>            <script src=\"https://cdnjs.cloudflare.com/ajax/libs/mathjax/2.7.5/MathJax.js?config=TeX-AMS-MML_SVG\"></script><script type=\"text/javascript\">if (window.MathJax) {MathJax.Hub.Config({SVG: {font: \"STIX-Web\"}});}</script>                <script type=\"text/javascript\">window.PlotlyConfig = {MathJaxConfig: 'local'};</script>\n",
              "        <script src=\"https://cdn.plot.ly/plotly-2.8.3.min.js\"></script>                <div id=\"6bf0eed1-eaea-4f79-94a9-8a20e940f9c4\" class=\"plotly-graph-div\" style=\"height:525px; width:100%;\"></div>            <script type=\"text/javascript\">                                    window.PLOTLYENV=window.PLOTLYENV || {};                                    if (document.getElementById(\"6bf0eed1-eaea-4f79-94a9-8a20e940f9c4\")) {                    Plotly.newPlot(                        \"6bf0eed1-eaea-4f79-94a9-8a20e940f9c4\",                        [{\"hovertemplate\":\"trim=Cherokee-North<br>year=%{x}<br>price=%{y}<extra></extra>\",\"legendgroup\":\"Cherokee-North\",\"marker\":{\"color\":\"#636efa\",\"symbol\":\"circle\"},\"mode\":\"markers\",\"name\":\"Cherokee-North\",\"orientation\":\"v\",\"showlegend\":true,\"x\":[2018,2015,2018,2018,2017,2019,2015,2016,2015,2017,2019,2015,2018,2015,2019,2015,2017,2015,2015,2016,2018,2014,2015,2019,2016,2016,2016,2018,2018,2019,2016,2015,2015,2017,2018,2019,2014,2016,2014,2014,2019,2016,2019,2016,2016,2018,2015,2015,2015,2016,2017,2018,2017,2015,2016,2016,2016,2014,2015,2014,2019,2017,2014,2015,2015,2015,2015,2015,2015,2016,2016,2019,2015,2016,2016,2019,2015,2017,2015,2019,2018,2017,2014,2016,2015,2018,2019,2017,2016,2014,2019,2019,2014,2016,2015,2017,2015,2014,2014,2016,2019,2018,2018,2018,2019,2019,2015,2016,2018,2019,2017,2015,2016,2018,2016,2019,2016,2017,2019,2014,2019],\"xaxis\":\"x\",\"y\":[29000,19995,27950,25498,26950,31995,24998,23999,18486,26998,29997,23495,22990,17295,31999,18995,26989,21999,17498,17998,28995,19597,16995,31995,21999,21444,25999,29832,25990,32997,20987,20995,19998,28950,27995,28890,14978,21590,15995,15995,26450,22999,32975,22488,21500,24995,14909,22650,18888,21998,28888,31995,26888,20995,21998,21988,25995,16800,19798,14995,30988,25995,18995,21467,18977,14990,19999,15980,23888,23988,25995,33504,21999,14995,24835,36900,18888,24995,21885,29800,27698,24995,18670,23999,20995,29998,30995,26995,24998,21385,31490,29504,20995,24996,17999,28595,17795,9850,14995,20495,28989,28995,25980,26998,34990,29498,21995,19975,26994,32695,24950,15995,14490,26998,23988,29990,24998,23991,31894,14999,23998],\"yaxis\":\"y\",\"type\":\"scatter\"},{\"hovertemplate\":\"trim=Cherokee-Trailhawk<br>year=%{x}<br>price=%{y}<extra></extra>\",\"legendgroup\":\"Cherokee-Trailhawk\",\"marker\":{\"color\":\"#EF553B\",\"symbol\":\"circle\"},\"mode\":\"markers\",\"name\":\"Cherokee-Trailhawk\",\"orientation\":\"v\",\"showlegend\":true,\"x\":[2018,2016,2019,2015,2019,2017,2015,2017,2018,2021,2017,2016,2019,2018,2018,2018,2018,2016,2017,2017,2020,2019,2017,2019,2019,2022,2019,2018,2020,2019,2017,2019,2018,2017,2017,2015,2017,2020,2019,2019,2019,2019,2019,2018,2017,2015,2015,2019,2016,2021,2019,2018,2015,2021,2019,2017,2015,2017,2016,2020,2020,2018,2015,2019,2017,2019,2019,2019,2015,2019,2015,2019,2014,2019,2019,2014,2019,2019,2016,2016,2017,2017,2017,2021,2019,2017,2016,2020,2019,2019,2021,2016,2021,2017,2015,2016,2019,2019,2022,2017,2015,2015,2019,2016,2016,2019,2016,2019,2016,2019,2021,2019,2018,2019,2018,2020,2017,2015,2018,2019,2022,2019,2019,2018,2018,2016,2019,2018,2017,2019,2018,2021,2017,2020,2016,2019,2018,2017,2019,2019,2020,2014,2021,2018,2019,2020,2022,2021,2018,2016,2015,2019,2016,2019,2016,2017,2020,2019,2019,2019,2019,2019,2017,2016,2021,2021,2015,2019,2016,2021,2019,2019,2017,2016,2016,2014,2019,2016,2021,2019,2018,2020,2014,2019,2015,2016,2021,2019,2017,2017,2016],\"xaxis\":\"x\",\"y\":[34995,28995,33486,18790,37993,26998,25858,31987,36949,44888,30885,24995,33500,33999,33890,33985,33800,27900,28880,26495,39985,36777,29994,29995,33995,47905,28988,35986,35898,37000,28665,34950,24951,31000,29990,21870,29995,46999,41999,37800,32999,34495,33585,34995,29997,23986,23988,35395,23331,44885,36987,34988,24999,42995,34999,36888,22988,27995,21982,42777,36987,30995,21985,36995,28995,38832,36988,33990,27999,37783,23934,34800,14995,35995,33999,18988,37999,37898,30995,23594,28495,22989,28995,43888,35495,28985,29000,38998,35650,34943,45395,26999,43990,31900,20988,25977,37475,36980,47935,27900,24995,20888,33950,26590,26999,37995,23980,36495,20495,36995,44487,39995,33900,37888,30500,39775,29899,21039,32888,31994,50380,37595,34490,30994,30555,26998,40999,31488,24977,35995,35950,44080,29498,41495,24749,35987,33988,26941,36500,34888,38880,19800,42950,29989,33775,39995,48995,43999,32698,24989,23995,37995,22995,35888,26788,28988,31498,36990,32295,34909,39995,36999,31995,24350,42894,43495,24990,38995,24499,44995,35495,36880,27777,24987,26807,17988,34499,15995,46995,33498,32995,40995,17988,34999,21995,20989,45900,34777,29495,24988,24495],\"yaxis\":\"y\",\"type\":\"scatter\"},{\"hovertemplate\":\"trim=nan<br>year=%{x}<br>price=%{y}<extra></extra>\",\"legendgroup\":\"nan\",\"marker\":{\"color\":\"#00cc96\",\"symbol\":\"circle\"},\"mode\":\"markers\",\"name\":\"nan\",\"orientation\":\"v\",\"showlegend\":true,\"x\":[2017,2016,2015,2014,2019,2015,2015,2015,2015,2019,2017,2017,2016,2014,2015,2017,2017,2016,2014,2020,2017,2019,2016,2021,2019,2016,2016,2015,2018,2016,2019,2017,2016,2016,2014,2014,2017,2017,2015,2021,2019,2014,2016,2019,2014,2015,2021,2017,2019,2019,2014,2017,2016,2019,2018,2015,2015,2015,2016,2015,2016,2016,2020,2014,2019,2018,2014,2014,2016,2018,2016,2017,2020,2014,2021,2018,2021,2016,2017,2014,2015,2015,2014,2018,2021,2017,2015,2016,2019,2017,2016,2021,2019,2017,2018,2015,2016,2019,2015,2015,2016,2017,2016,2016,2018,2016,2020,2014,2017,2016,2015,2017,2016,2017,2015,2015,2016,2017,2015,2015,2015,2019,2017,2014,2019,2015,2016,2018,2015,2015,2021,2019,2017,2015,2017,2017,2017,2017,2019,2016,2016,2015],\"xaxis\":\"x\",\"y\":[24987,25950,19495,20900,36995,20977,18999,22999,19995,37995,28995,20995,20999,17995,18984,23995,28990,29999,11995,40900,29988,30990,17488,41989,29608,26499,28900,22989,33495,14888,28995,24988,28995,17995,15951,13888,21885,25988,19995,39488,32991,19995,12455,25998,17787,17950,43999,26862,31595,29775,19995,24990,27984,35790,25499,25000,26000,19900,17758,19700,26777,29999,37995,19995,31999,32995,12885,19795,27999,32500,27867,25995,40847,15979,39995,28443,42950,18495,29999,14500,18890,15900,13997,33999,44995,28998,22995,24992,29995,23995,19990,42880,39995,28495,31991,15990,23988,28500,27995,19998,20995,32976,18999,21999,32988,12490,39899,15995,24995,24990,20999,24990,21999,28987,22588,20485,20995,24495,18985,17995,19999,36408,27999,12995,32287,18777,19999,25495,18988,19495,42900,24995,26999,20995,26995,28995,24995,20999,33984,27590,16989,20995],\"yaxis\":\"y\",\"type\":\"scatter\"},{\"hovertemplate\":\"trim=Cherokee-Sport<br>year=%{x}<br>price=%{y}<extra></extra>\",\"legendgroup\":\"Cherokee-Sport\",\"marker\":{\"color\":\"#ab63fa\",\"symbol\":\"circle\"},\"mode\":\"markers\",\"name\":\"Cherokee-Sport\",\"orientation\":\"v\",\"showlegend\":true,\"x\":[2019,2016,2016,2014,2016,2017,2017,2016,2016,2019,2019,2015,2016,2016,2018,2019,2016,2014,2016,2016,2014,2016,2020,2017,2016,2019,2015,2020,2018,2016,2016,2017,2016,2016,2018,2018,2017,2016,2015,2019,2017,2014,2016,2016,2017,2015,2018,2019,2017,2021,2018,2018,2015,2017,2019,2019,2016,2015,2016],\"xaxis\":\"x\",\"y\":[26989,18999,19988,11989,22998,21997,20888,20990,19945,27498,28995,17998,19999,22860,27888,29995,21999,17990,19998,16900,19898,21990,33479,24999,18800,28990,20995,36498,29200,19888,19745,26705,24995,21999,25988,28998,25875,22990,17977,27990,23995,18500,25999,22397,24995,19999,30988,34989,22995,34888,25995,25900,18995,22998,29950,29498,18995,18991,19405],\"yaxis\":\"y\",\"type\":\"scatter\"},{\"hovertemplate\":\"trim=Cherokee-Altitude<br>year=%{x}<br>price=%{y}<extra></extra>\",\"legendgroup\":\"Cherokee-Altitude\",\"marker\":{\"color\":\"#FFA15A\",\"symbol\":\"circle\"},\"mode\":\"markers\",\"name\":\"Cherokee-Altitude\",\"orientation\":\"v\",\"showlegend\":true,\"x\":[2016,2019,2019,2016,2018,2020,2018,2018,2021,2019,2016,2018],\"xaxis\":\"x\",\"y\":[21900,33999,33590,20494,27998,37990,26999,24990,44900,27894,17950,28999],\"yaxis\":\"y\",\"type\":\"scatter\"},{\"hovertemplate\":\"trim=Cherokee-Limited<br>year=%{x}<br>price=%{y}<extra></extra>\",\"legendgroup\":\"Cherokee-Limited\",\"marker\":{\"color\":\"#19d3f3\",\"symbol\":\"circle\"},\"mode\":\"markers\",\"name\":\"Cherokee-Limited\",\"orientation\":\"v\",\"showlegend\":true,\"x\":[2019,2015,2019,2021,2016,2019,2015,2016,2014,2015,2017,2019,2022,2015,2015,2019,2020,2016,2020,2017,2016,2016,2018,2018,2014,2016,2016,2015,2016,2019,2016,2016,2019,2019,2019,2017,2019,2015,2016,2015,2016,2019,2016,2018,2017,2019,2018,2019,2014,2018,2014,2015,2019,2019,2016,2017,2016,2019,2019,2016,2015,2017,2019,2016,2019,2018,2016,2019,2017,2020,2019,2014,2017,2019,2017,2015,2015,2016,2015,2019],\"xaxis\":\"x\",\"y\":[35994,19994,38995,42975,22995,35399,21995,24499,17995,19587,27999,34987,52240,21095,18984,31990,39886,31990,39999,27433,27779,24995,30900,27999,19995,29999,29995,23893,24998,38995,23850,24988,32148,37175,34725,26988,35995,19977,24500,11809,25898,34935,28917,26789,29504,37951,26988,32998,14990,24989,18975,23995,29999,36900,24888,28995,24994,38999,36988,23995,22994,24450,36987,23991,37494,26995,24978,37980,27500,39898,34989,17888,25900,35898,22995,25763,17890,24655,20999,35500],\"yaxis\":\"y\",\"type\":\"scatter\"},{\"hovertemplate\":\"trim=Cherokee-High<br>year=%{x}<br>price=%{y}<extra></extra>\",\"legendgroup\":\"Cherokee-High\",\"marker\":{\"color\":\"#FF6692\",\"symbol\":\"circle\"},\"mode\":\"markers\",\"name\":\"Cherokee-High\",\"orientation\":\"v\",\"showlegend\":true,\"x\":[2017,2017,2018,2021,2019,2017],\"xaxis\":\"x\",\"y\":[30497,26997,29998,39995,34468,24993],\"yaxis\":\"y\",\"type\":\"scatter\"},{\"hovertemplate\":\"trim=Cherokee-Overland<br>year=%{x}<br>price=%{y}<extra></extra>\",\"legendgroup\":\"Cherokee-Overland\",\"marker\":{\"color\":\"#B6E880\",\"symbol\":\"circle\"},\"mode\":\"markers\",\"name\":\"Cherokee-Overland\",\"orientation\":\"v\",\"showlegend\":true,\"x\":[2019,2017,2018,2019,2016,2018],\"xaxis\":\"x\",\"y\":[38950,29909,29900,32895,20494,32489],\"yaxis\":\"y\",\"type\":\"scatter\"},{\"hovertemplate\":\"trim=Cherokee-4<br>year=%{x}<br>price=%{y}<extra></extra>\",\"legendgroup\":\"Cherokee-4\",\"marker\":{\"color\":\"#FF97FF\",\"symbol\":\"circle\"},\"mode\":\"markers\",\"name\":\"Cherokee-4\",\"orientation\":\"v\",\"showlegend\":true,\"x\":[2015,2014,2017,2015,2016,2017],\"xaxis\":\"x\",\"y\":[23500,18495,25995,11995,18995,24495],\"yaxis\":\"y\",\"type\":\"scatter\"}],                        {\"template\":{\"data\":{\"bar\":[{\"error_x\":{\"color\":\"#2a3f5f\"},\"error_y\":{\"color\":\"#2a3f5f\"},\"marker\":{\"line\":{\"color\":\"#E5ECF6\",\"width\":0.5},\"pattern\":{\"fillmode\":\"overlay\",\"size\":10,\"solidity\":0.2}},\"type\":\"bar\"}],\"barpolar\":[{\"marker\":{\"line\":{\"color\":\"#E5ECF6\",\"width\":0.5},\"pattern\":{\"fillmode\":\"overlay\",\"size\":10,\"solidity\":0.2}},\"type\":\"barpolar\"}],\"carpet\":[{\"aaxis\":{\"endlinecolor\":\"#2a3f5f\",\"gridcolor\":\"white\",\"linecolor\":\"white\",\"minorgridcolor\":\"white\",\"startlinecolor\":\"#2a3f5f\"},\"baxis\":{\"endlinecolor\":\"#2a3f5f\",\"gridcolor\":\"white\",\"linecolor\":\"white\",\"minorgridcolor\":\"white\",\"startlinecolor\":\"#2a3f5f\"},\"type\":\"carpet\"}],\"choropleth\":[{\"colorbar\":{\"outlinewidth\":0,\"ticks\":\"\"},\"type\":\"choropleth\"}],\"contour\":[{\"colorbar\":{\"outlinewidth\":0,\"ticks\":\"\"},\"colorscale\":[[0.0,\"#0d0887\"],[0.1111111111111111,\"#46039f\"],[0.2222222222222222,\"#7201a8\"],[0.3333333333333333,\"#9c179e\"],[0.4444444444444444,\"#bd3786\"],[0.5555555555555556,\"#d8576b\"],[0.6666666666666666,\"#ed7953\"],[0.7777777777777778,\"#fb9f3a\"],[0.8888888888888888,\"#fdca26\"],[1.0,\"#f0f921\"]],\"type\":\"contour\"}],\"contourcarpet\":[{\"colorbar\":{\"outlinewidth\":0,\"ticks\":\"\"},\"type\":\"contourcarpet\"}],\"heatmap\":[{\"colorbar\":{\"outlinewidth\":0,\"ticks\":\"\"},\"colorscale\":[[0.0,\"#0d0887\"],[0.1111111111111111,\"#46039f\"],[0.2222222222222222,\"#7201a8\"],[0.3333333333333333,\"#9c179e\"],[0.4444444444444444,\"#bd3786\"],[0.5555555555555556,\"#d8576b\"],[0.6666666666666666,\"#ed7953\"],[0.7777777777777778,\"#fb9f3a\"],[0.8888888888888888,\"#fdca26\"],[1.0,\"#f0f921\"]],\"type\":\"heatmap\"}],\"heatmapgl\":[{\"colorbar\":{\"outlinewidth\":0,\"ticks\":\"\"},\"colorscale\":[[0.0,\"#0d0887\"],[0.1111111111111111,\"#46039f\"],[0.2222222222222222,\"#7201a8\"],[0.3333333333333333,\"#9c179e\"],[0.4444444444444444,\"#bd3786\"],[0.5555555555555556,\"#d8576b\"],[0.6666666666666666,\"#ed7953\"],[0.7777777777777778,\"#fb9f3a\"],[0.8888888888888888,\"#fdca26\"],[1.0,\"#f0f921\"]],\"type\":\"heatmapgl\"}],\"histogram\":[{\"marker\":{\"pattern\":{\"fillmode\":\"overlay\",\"size\":10,\"solidity\":0.2}},\"type\":\"histogram\"}],\"histogram2d\":[{\"colorbar\":{\"outlinewidth\":0,\"ticks\":\"\"},\"colorscale\":[[0.0,\"#0d0887\"],[0.1111111111111111,\"#46039f\"],[0.2222222222222222,\"#7201a8\"],[0.3333333333333333,\"#9c179e\"],[0.4444444444444444,\"#bd3786\"],[0.5555555555555556,\"#d8576b\"],[0.6666666666666666,\"#ed7953\"],[0.7777777777777778,\"#fb9f3a\"],[0.8888888888888888,\"#fdca26\"],[1.0,\"#f0f921\"]],\"type\":\"histogram2d\"}],\"histogram2dcontour\":[{\"colorbar\":{\"outlinewidth\":0,\"ticks\":\"\"},\"colorscale\":[[0.0,\"#0d0887\"],[0.1111111111111111,\"#46039f\"],[0.2222222222222222,\"#7201a8\"],[0.3333333333333333,\"#9c179e\"],[0.4444444444444444,\"#bd3786\"],[0.5555555555555556,\"#d8576b\"],[0.6666666666666666,\"#ed7953\"],[0.7777777777777778,\"#fb9f3a\"],[0.8888888888888888,\"#fdca26\"],[1.0,\"#f0f921\"]],\"type\":\"histogram2dcontour\"}],\"mesh3d\":[{\"colorbar\":{\"outlinewidth\":0,\"ticks\":\"\"},\"type\":\"mesh3d\"}],\"parcoords\":[{\"line\":{\"colorbar\":{\"outlinewidth\":0,\"ticks\":\"\"}},\"type\":\"parcoords\"}],\"pie\":[{\"automargin\":true,\"type\":\"pie\"}],\"scatter\":[{\"marker\":{\"colorbar\":{\"outlinewidth\":0,\"ticks\":\"\"}},\"type\":\"scatter\"}],\"scatter3d\":[{\"line\":{\"colorbar\":{\"outlinewidth\":0,\"ticks\":\"\"}},\"marker\":{\"colorbar\":{\"outlinewidth\":0,\"ticks\":\"\"}},\"type\":\"scatter3d\"}],\"scattercarpet\":[{\"marker\":{\"colorbar\":{\"outlinewidth\":0,\"ticks\":\"\"}},\"type\":\"scattercarpet\"}],\"scattergeo\":[{\"marker\":{\"colorbar\":{\"outlinewidth\":0,\"ticks\":\"\"}},\"type\":\"scattergeo\"}],\"scattergl\":[{\"marker\":{\"colorbar\":{\"outlinewidth\":0,\"ticks\":\"\"}},\"type\":\"scattergl\"}],\"scattermapbox\":[{\"marker\":{\"colorbar\":{\"outlinewidth\":0,\"ticks\":\"\"}},\"type\":\"scattermapbox\"}],\"scatterpolar\":[{\"marker\":{\"colorbar\":{\"outlinewidth\":0,\"ticks\":\"\"}},\"type\":\"scatterpolar\"}],\"scatterpolargl\":[{\"marker\":{\"colorbar\":{\"outlinewidth\":0,\"ticks\":\"\"}},\"type\":\"scatterpolargl\"}],\"scatterternary\":[{\"marker\":{\"colorbar\":{\"outlinewidth\":0,\"ticks\":\"\"}},\"type\":\"scatterternary\"}],\"surface\":[{\"colorbar\":{\"outlinewidth\":0,\"ticks\":\"\"},\"colorscale\":[[0.0,\"#0d0887\"],[0.1111111111111111,\"#46039f\"],[0.2222222222222222,\"#7201a8\"],[0.3333333333333333,\"#9c179e\"],[0.4444444444444444,\"#bd3786\"],[0.5555555555555556,\"#d8576b\"],[0.6666666666666666,\"#ed7953\"],[0.7777777777777778,\"#fb9f3a\"],[0.8888888888888888,\"#fdca26\"],[1.0,\"#f0f921\"]],\"type\":\"surface\"}],\"table\":[{\"cells\":{\"fill\":{\"color\":\"#EBF0F8\"},\"line\":{\"color\":\"white\"}},\"header\":{\"fill\":{\"color\":\"#C8D4E3\"},\"line\":{\"color\":\"white\"}},\"type\":\"table\"}]},\"layout\":{\"annotationdefaults\":{\"arrowcolor\":\"#2a3f5f\",\"arrowhead\":0,\"arrowwidth\":1},\"autotypenumbers\":\"strict\",\"coloraxis\":{\"colorbar\":{\"outlinewidth\":0,\"ticks\":\"\"}},\"colorscale\":{\"diverging\":[[0,\"#8e0152\"],[0.1,\"#c51b7d\"],[0.2,\"#de77ae\"],[0.3,\"#f1b6da\"],[0.4,\"#fde0ef\"],[0.5,\"#f7f7f7\"],[0.6,\"#e6f5d0\"],[0.7,\"#b8e186\"],[0.8,\"#7fbc41\"],[0.9,\"#4d9221\"],[1,\"#276419\"]],\"sequential\":[[0.0,\"#0d0887\"],[0.1111111111111111,\"#46039f\"],[0.2222222222222222,\"#7201a8\"],[0.3333333333333333,\"#9c179e\"],[0.4444444444444444,\"#bd3786\"],[0.5555555555555556,\"#d8576b\"],[0.6666666666666666,\"#ed7953\"],[0.7777777777777778,\"#fb9f3a\"],[0.8888888888888888,\"#fdca26\"],[1.0,\"#f0f921\"]],\"sequentialminus\":[[0.0,\"#0d0887\"],[0.1111111111111111,\"#46039f\"],[0.2222222222222222,\"#7201a8\"],[0.3333333333333333,\"#9c179e\"],[0.4444444444444444,\"#bd3786\"],[0.5555555555555556,\"#d8576b\"],[0.6666666666666666,\"#ed7953\"],[0.7777777777777778,\"#fb9f3a\"],[0.8888888888888888,\"#fdca26\"],[1.0,\"#f0f921\"]]},\"colorway\":[\"#636efa\",\"#EF553B\",\"#00cc96\",\"#ab63fa\",\"#FFA15A\",\"#19d3f3\",\"#FF6692\",\"#B6E880\",\"#FF97FF\",\"#FECB52\"],\"font\":{\"color\":\"#2a3f5f\"},\"geo\":{\"bgcolor\":\"white\",\"lakecolor\":\"white\",\"landcolor\":\"#E5ECF6\",\"showlakes\":true,\"showland\":true,\"subunitcolor\":\"white\"},\"hoverlabel\":{\"align\":\"left\"},\"hovermode\":\"closest\",\"mapbox\":{\"style\":\"light\"},\"paper_bgcolor\":\"white\",\"plot_bgcolor\":\"#E5ECF6\",\"polar\":{\"angularaxis\":{\"gridcolor\":\"white\",\"linecolor\":\"white\",\"ticks\":\"\"},\"bgcolor\":\"#E5ECF6\",\"radialaxis\":{\"gridcolor\":\"white\",\"linecolor\":\"white\",\"ticks\":\"\"}},\"scene\":{\"xaxis\":{\"backgroundcolor\":\"#E5ECF6\",\"gridcolor\":\"white\",\"gridwidth\":2,\"linecolor\":\"white\",\"showbackground\":true,\"ticks\":\"\",\"zerolinecolor\":\"white\"},\"yaxis\":{\"backgroundcolor\":\"#E5ECF6\",\"gridcolor\":\"white\",\"gridwidth\":2,\"linecolor\":\"white\",\"showbackground\":true,\"ticks\":\"\",\"zerolinecolor\":\"white\"},\"zaxis\":{\"backgroundcolor\":\"#E5ECF6\",\"gridcolor\":\"white\",\"gridwidth\":2,\"linecolor\":\"white\",\"showbackground\":true,\"ticks\":\"\",\"zerolinecolor\":\"white\"}},\"shapedefaults\":{\"line\":{\"color\":\"#2a3f5f\"}},\"ternary\":{\"aaxis\":{\"gridcolor\":\"white\",\"linecolor\":\"white\",\"ticks\":\"\"},\"baxis\":{\"gridcolor\":\"white\",\"linecolor\":\"white\",\"ticks\":\"\"},\"bgcolor\":\"#E5ECF6\",\"caxis\":{\"gridcolor\":\"white\",\"linecolor\":\"white\",\"ticks\":\"\"}},\"title\":{\"x\":0.05},\"xaxis\":{\"automargin\":true,\"gridcolor\":\"white\",\"linecolor\":\"white\",\"ticks\":\"\",\"title\":{\"standoff\":15},\"zerolinecolor\":\"white\",\"zerolinewidth\":2},\"yaxis\":{\"automargin\":true,\"gridcolor\":\"white\",\"linecolor\":\"white\",\"ticks\":\"\",\"title\":{\"standoff\":15},\"zerolinecolor\":\"white\",\"zerolinewidth\":2}}},\"xaxis\":{\"anchor\":\"y\",\"domain\":[0.0,1.0],\"title\":{\"text\":\"year\"}},\"yaxis\":{\"anchor\":\"x\",\"domain\":[0.0,1.0],\"title\":{\"text\":\"price\"}},\"legend\":{\"title\":{\"text\":\"trim\"},\"tracegroupgap\":0},\"margin\":{\"t\":60}},                        {\"responsive\": true}                    ).then(function(){\n",
              "                            \n",
              "var gd = document.getElementById('6bf0eed1-eaea-4f79-94a9-8a20e940f9c4');\n",
              "var x = new MutationObserver(function (mutations, observer) {{\n",
              "        var display = window.getComputedStyle(gd).display;\n",
              "        if (!display || display === 'none') {{\n",
              "            console.log([gd, 'removed!']);\n",
              "            Plotly.purge(gd);\n",
              "            observer.disconnect();\n",
              "        }}\n",
              "}});\n",
              "\n",
              "// Listen for the removal of the full notebook cells\n",
              "var notebookContainer = gd.closest('#notebook-container');\n",
              "if (notebookContainer) {{\n",
              "    x.observe(notebookContainer, {childList: true});\n",
              "}}\n",
              "\n",
              "// Listen for the clearing of the current output cell\n",
              "var outputEl = gd.closest('.output');\n",
              "if (outputEl) {{\n",
              "    x.observe(outputEl, {childList: true});\n",
              "}}\n",
              "\n",
              "                        })                };                            </script>        </div>\n",
              "</body>\n",
              "</html>"
            ]
          },
          "metadata": {}
        }
      ],
      "source": [
        "model_df = df[df['model']=='Cherokee']\n",
        "fig = px.scatter(data_frame=model_df, x=\"year\", y=\"price\",color='trim')#,text='odometer'\n",
        "fig.show()"
      ]
    },
    {
      "cell_type": "code",
      "execution_count": 49,
      "metadata": {
        "colab": {
          "base_uri": "https://localhost:8080/"
        },
        "id": "70ed66ef",
        "outputId": "03c218b2-606f-49a6-9ef0-e47f153a464f"
      },
      "outputs": [
        {
          "output_type": "stream",
          "name": "stdout",
          "text": [
            "<class 'pandas.core.frame.DataFrame'>\n",
            "Int64Index: 51576 entries, 0 to 52789\n",
            "Data columns (total 10 columns):\n",
            " #   Column               Non-Null Count  Dtype \n",
            "---  ------               --------------  ----- \n",
            " 0   make                 51576 non-null  object\n",
            " 1   model                51576 non-null  object\n",
            " 2   odometer             51576 non-null  object\n",
            " 3   price                51576 non-null  object\n",
            " 4   bodytype             51576 non-null  object\n",
            " 5   trim                 51576 non-null  object\n",
            " 6   year                 51576 non-null  object\n",
            " 7   drivetrain           51576 non-null  object\n",
            " 8   transmission_manual  51576 non-null  object\n",
            " 9   province             51576 non-null  object\n",
            "dtypes: object(10)\n",
            "memory usage: 4.3+ MB\n"
          ]
        }
      ],
      "source": [
        "df.info()"
      ]
    },
    {
      "cell_type": "code",
      "source": [
        "# Memory optimization on the dataframe\n",
        "def reduce_mem_usage(df):\n",
        "    \"\"\" iterate through all the columns of a dataframe and modify the data type\n",
        "        to reduce memory usage.        \n",
        "    \"\"\"\n",
        "    start_mem = df.memory_usage().sum() / 1024**2\n",
        "    print('Memory usage of dataframe is {:.2f} MB'.format(start_mem))\n",
        "    \n",
        "    for col in df.columns:\n",
        "        col_type = df[col].dtype\n",
        "        \n",
        "        if col_type != object:\n",
        "            c_min = df[col].min()\n",
        "            c_max = df[col].max()\n",
        "            if str(col_type)[:3] == 'int':\n",
        "                if c_min > np.iinfo(np.int8).min and c_max < np.iinfo(np.int8).max:\n",
        "                    df[col] = df[col].astype(np.int8)\n",
        "                elif c_min > np.iinfo(np.int16).min and c_max < np.iinfo(np.int16).max:\n",
        "                    df[col] = df[col].astype(np.int16)\n",
        "                elif c_min > np.iinfo(np.int32).min and c_max < np.iinfo(np.int32).max:\n",
        "                    df[col] = df[col].astype(np.int32)\n",
        "                elif c_min > np.iinfo(np.int64).min and c_max < np.iinfo(np.int64).max:\n",
        "                    df[col] = df[col].astype(np.int64)  \n",
        "            else:\n",
        "                if c_min > np.finfo(np.float16).min and c_max < np.finfo(np.float16).max:\n",
        "                    df[col] = df[col].astype(np.float16)\n",
        "                elif c_min > np.finfo(np.float32).min and c_max < np.finfo(np.float32).max:\n",
        "                    df[col] = df[col].astype(np.float32)\n",
        "                else:\n",
        "                    df[col] = df[col].astype(np.float64)\n",
        "\n",
        "    end_mem = df.memory_usage().sum() / 1024**2\n",
        "    print('Memory usage after optimization is: {:.2f} MB'.format(end_mem))\n",
        "    print('Decreased by {:.1f}%'.format(100 * (start_mem - end_mem) / start_mem))\n",
        "    \n",
        "    return df\n",
        "df = reduce_mem_usage(df)\n",
        "\n",
        "# Garbage collection\n",
        "gc.collect()"
      ],
      "metadata": {
        "colab": {
          "base_uri": "https://localhost:8080/"
        },
        "id": "zAgRsvJ2XOvx",
        "outputId": "879285e9-d081-4ae6-a1bb-89d76825e430"
      },
      "execution_count": 50,
      "outputs": [
        {
          "output_type": "stream",
          "name": "stdout",
          "text": [
            "Memory usage of dataframe is 4.33 MB\n",
            "Memory usage after optimization is: 4.33 MB\n",
            "Decreased by 0.0%\n"
          ]
        },
        {
          "output_type": "execute_result",
          "data": {
            "text/plain": [
              "10618"
            ]
          },
          "metadata": {},
          "execution_count": 50
        }
      ]
    },
    {
      "cell_type": "code",
      "source": [
        "df.to_csv(\"drive/MyDrive/Colab Notebooks/Autotrader Portfolio/train_clean.csv\")"
      ],
      "metadata": {
        "id": "7IjmbTscgKJE"
      },
      "execution_count": null,
      "outputs": []
    }
  ]
}