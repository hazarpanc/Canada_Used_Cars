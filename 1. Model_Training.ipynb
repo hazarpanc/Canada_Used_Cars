{
  "cells": [
    {
      "cell_type": "markdown",
      "metadata": {
        "id": "da67dc6c"
      },
      "source": [
        "# Model Training"
      ]
    },
    {
      "cell_type": "code",
      "execution_count": null,
      "metadata": {
        "colab": {
          "base_uri": "https://localhost:8080/"
        },
        "id": "HirEYDWTY_4p",
        "outputId": "ee82c890-6a62-400c-f375-35453e53b02d"
      },
      "outputs": [
        {
          "name": "stdout",
          "output_type": "stream",
          "text": [
            "Looking in indexes: https://pypi.org/simple, https://us-python.pkg.dev/colab-wheels/public/simple/\n",
            "Requirement already satisfied: optuna in /usr/local/lib/python3.7/dist-packages (2.10.1)\n",
            "Requirement already satisfied: scipy!=1.4.0 in /usr/local/lib/python3.7/dist-packages (from optuna) (1.7.3)\n",
            "Requirement already satisfied: tqdm in /usr/local/lib/python3.7/dist-packages (from optuna) (4.64.0)\n",
            "Requirement already satisfied: numpy in /usr/local/lib/python3.7/dist-packages (from optuna) (1.21.6)\n",
            "Requirement already satisfied: alembic in /usr/local/lib/python3.7/dist-packages (from optuna) (1.8.1)\n",
            "Requirement already satisfied: packaging>=20.0 in /usr/local/lib/python3.7/dist-packages (from optuna) (21.3)\n",
            "Requirement already satisfied: PyYAML in /usr/local/lib/python3.7/dist-packages (from optuna) (3.13)\n",
            "Requirement already satisfied: sqlalchemy>=1.1.0 in /usr/local/lib/python3.7/dist-packages (from optuna) (1.4.39)\n",
            "Requirement already satisfied: cliff in /usr/local/lib/python3.7/dist-packages (from optuna) (3.10.1)\n",
            "Requirement already satisfied: colorlog in /usr/local/lib/python3.7/dist-packages (from optuna) (6.6.0)\n",
            "Requirement already satisfied: cmaes>=0.8.2 in /usr/local/lib/python3.7/dist-packages (from optuna) (0.8.2)\n",
            "Requirement already satisfied: pyparsing!=3.0.5,>=2.0.2 in /usr/local/lib/python3.7/dist-packages (from packaging>=20.0->optuna) (3.0.9)\n",
            "Requirement already satisfied: importlib-metadata in /usr/local/lib/python3.7/dist-packages (from sqlalchemy>=1.1.0->optuna) (4.12.0)\n",
            "Requirement already satisfied: greenlet!=0.4.17 in /usr/local/lib/python3.7/dist-packages (from sqlalchemy>=1.1.0->optuna) (1.1.2)\n",
            "Requirement already satisfied: importlib-resources in /usr/local/lib/python3.7/dist-packages (from alembic->optuna) (5.9.0)\n",
            "Requirement already satisfied: Mako in /usr/local/lib/python3.7/dist-packages (from alembic->optuna) (1.2.1)\n",
            "Requirement already satisfied: PrettyTable>=0.7.2 in /usr/local/lib/python3.7/dist-packages (from cliff->optuna) (3.3.0)\n",
            "Requirement already satisfied: cmd2>=1.0.0 in /usr/local/lib/python3.7/dist-packages (from cliff->optuna) (2.4.2)\n",
            "Requirement already satisfied: stevedore>=2.0.1 in /usr/local/lib/python3.7/dist-packages (from cliff->optuna) (3.5.0)\n",
            "Requirement already satisfied: autopage>=0.4.0 in /usr/local/lib/python3.7/dist-packages (from cliff->optuna) (0.5.1)\n",
            "Requirement already satisfied: pbr!=2.1.0,>=2.0.0 in /usr/local/lib/python3.7/dist-packages (from cliff->optuna) (5.9.0)\n",
            "Requirement already satisfied: typing-extensions in /usr/local/lib/python3.7/dist-packages (from cmd2>=1.0.0->cliff->optuna) (4.1.1)\n",
            "Requirement already satisfied: wcwidth>=0.1.7 in /usr/local/lib/python3.7/dist-packages (from cmd2>=1.0.0->cliff->optuna) (0.2.5)\n",
            "Requirement already satisfied: attrs>=16.3.0 in /usr/local/lib/python3.7/dist-packages (from cmd2>=1.0.0->cliff->optuna) (22.1.0)\n",
            "Requirement already satisfied: pyperclip>=1.6 in /usr/local/lib/python3.7/dist-packages (from cmd2>=1.0.0->cliff->optuna) (1.8.2)\n",
            "Requirement already satisfied: zipp>=0.5 in /usr/local/lib/python3.7/dist-packages (from importlib-metadata->sqlalchemy>=1.1.0->optuna) (3.8.1)\n",
            "Requirement already satisfied: MarkupSafe>=0.9.2 in /usr/local/lib/python3.7/dist-packages (from Mako->alembic->optuna) (2.0.1)\n",
            "Looking in indexes: https://pypi.org/simple, https://us-python.pkg.dev/colab-wheels/public/simple/\n",
            "Requirement already satisfied: category_encoders in /usr/local/lib/python3.7/dist-packages (2.5.0)\n",
            "Requirement already satisfied: numpy>=1.14.0 in /usr/local/lib/python3.7/dist-packages (from category_encoders) (1.21.6)\n",
            "Requirement already satisfied: patsy>=0.5.1 in /usr/local/lib/python3.7/dist-packages (from category_encoders) (0.5.2)\n",
            "Requirement already satisfied: pandas>=1.0.5 in /usr/local/lib/python3.7/dist-packages (from category_encoders) (1.3.5)\n",
            "Requirement already satisfied: scipy>=1.0.0 in /usr/local/lib/python3.7/dist-packages (from category_encoders) (1.7.3)\n",
            "Requirement already satisfied: scikit-learn>=0.20.0 in /usr/local/lib/python3.7/dist-packages (from category_encoders) (1.0.2)\n",
            "Requirement already satisfied: statsmodels>=0.9.0 in /usr/local/lib/python3.7/dist-packages (from category_encoders) (0.10.2)\n",
            "Requirement already satisfied: python-dateutil>=2.7.3 in /usr/local/lib/python3.7/dist-packages (from pandas>=1.0.5->category_encoders) (2.8.2)\n",
            "Requirement already satisfied: pytz>=2017.3 in /usr/local/lib/python3.7/dist-packages (from pandas>=1.0.5->category_encoders) (2022.1)\n",
            "Requirement already satisfied: six in /usr/local/lib/python3.7/dist-packages (from patsy>=0.5.1->category_encoders) (1.15.0)\n",
            "Requirement already satisfied: joblib>=0.11 in /usr/local/lib/python3.7/dist-packages (from scikit-learn>=0.20.0->category_encoders) (1.1.0)\n",
            "Requirement already satisfied: threadpoolctl>=2.0.0 in /usr/local/lib/python3.7/dist-packages (from scikit-learn>=0.20.0->category_encoders) (3.1.0)\n",
            "Looking in indexes: https://pypi.org/simple, https://us-python.pkg.dev/colab-wheels/public/simple/\n",
            "Requirement already satisfied: xgboost in /usr/local/lib/python3.7/dist-packages (0.90)\n",
            "Requirement already satisfied: numpy in /usr/local/lib/python3.7/dist-packages (from xgboost) (1.21.6)\n",
            "Requirement already satisfied: scipy in /usr/local/lib/python3.7/dist-packages (from xgboost) (1.7.3)\n"
          ]
        }
      ],
      "source": [
        "!pip install optuna\n",
        "!pip install category_encoders\n",
        "!pip install xgboost"
      ]
    },
    {
      "cell_type": "code",
      "execution_count": null,
      "metadata": {
        "colab": {
          "base_uri": "https://localhost:8080/"
        },
        "id": "a6bb05f5",
        "outputId": "61f6682a-c6cb-44f7-c71b-97079185ed9b"
      },
      "outputs": [
        {
          "name": "stdout",
          "output_type": "stream",
          "text": [
            "Drive already mounted at drive; to attempt to forcibly remount, call drive.mount(\"drive\", force_remount=True).\n"
          ]
        }
      ],
      "source": [
        "import pandas as pd\n",
        "import numpy as np\n",
        "import os\n",
        "import gc\n",
        "import warnings\n",
        "import statistics\n",
        "from google.colab import drive\n",
        "from xgboost import XGBRegressor\n",
        "from category_encoders import TargetEncoder, OneHotEncoder\n",
        "from sklearn.compose import ColumnTransformer\n",
        "from sklearn.pipeline import Pipeline\n",
        "from sklearn.linear_model import LinearRegression\n",
        "from sklearn.metrics import mean_squared_error, mean_absolute_percentage_error\n",
        "from sklearn.model_selection import cross_val_score, train_test_split\n",
        "from sklearn.model_selection import GridSearchCV, RandomizedSearchCV, KFold\n",
        "import optuna\n",
        "\n",
        "warnings.filterwarnings(\"ignore\")\n",
        "\n",
        "drive.mount('drive') # , force_remount=True"
      ]
    },
    {
      "cell_type": "code",
      "execution_count": null,
      "metadata": {
        "id": "I7GyOJS_hMn5"
      },
      "outputs": [],
      "source": [
        "def import_data(file):\n",
        "    \"\"\"create a dataframe and load csv file\"\"\"\n",
        "    df = pd.read_csv(file, index_col=0)\n",
        "    return df"
      ]
    },
    {
      "cell_type": "code",
      "execution_count": null,
      "metadata": {
        "id": "oI0HLt3FhN-v"
      },
      "outputs": [],
      "source": [
        "folder = \"drive/MyDrive/Colab Notebooks/Autotrader Portfolio\"\n",
        "df = import_data(folder+\"/train_clean.csv\")"
      ]
    },
    {
      "cell_type": "code",
      "execution_count": null,
      "metadata": {
        "colab": {
          "base_uri": "https://localhost:8080/"
        },
        "id": "9325ae63",
        "outputId": "ae2c6dd3-a239-45d8-9e20-01edcb63449e"
      },
      "outputs": [
        {
          "name": "stdout",
          "output_type": "stream",
          "text": [
            "Memory usage of dataframe is 4.33 MB\n",
            "Memory usage after optimization is: 3.30 MB\n",
            "Decreased by 23.9%\n"
          ]
        }
      ],
      "source": [
        "# Define the function that will help us measure our model's performance\n",
        "def measure_model_performance(pred_validation, y_validation, model, pred_train=None, y_train=None, verbose=True):\n",
        "    \n",
        "    mape_validation = round(mean_absolute_percentage_error(y_validation, pred_validation),3)\n",
        "    rmse_validation = round(mean_squared_error(y_validation, pred_validation, squared=False),0)\n",
        "    \n",
        "    if verbose == True:\n",
        "        # Print train data metrics only if it has been defined\n",
        "        if pred_train is not None:\n",
        "            print(\"--TRAIN--\")\n",
        "            print(f\"MAPE: {round(mean_absolute_percentage_error(y_train, pred_train),3)}\")\n",
        "            print(f\"RMSE: {round(mean_squared_error(y_train, pred_train,squared=False),0)}\")\n",
        "\n",
        "        print(\"--VALIDATION--\")\n",
        "        print(f\"MAPE: {mape_validation}\")\n",
        "        print(f\"RMSE: {rmse_validation}\")\n",
        "    \n",
        "    return rmse_validation, mape_validation\n",
        "\n",
        "# Memory optimization on the dataframe\n",
        "def reduce_mem_usage(df):\n",
        "    \"\"\" iterate through all the columns of a dataframe and modify the data type\n",
        "        to reduce memory usage.        \n",
        "    \"\"\"\n",
        "    start_mem = df.memory_usage().sum() / 1024**2\n",
        "    print('Memory usage of dataframe is {:.2f} MB'.format(start_mem))\n",
        "    \n",
        "    for col in df.columns:\n",
        "        col_type = df[col].dtype\n",
        "        \n",
        "        if col_type != object:\n",
        "            c_min = df[col].min()\n",
        "            c_max = df[col].max()\n",
        "            if str(col_type)[:3] == 'int':\n",
        "                if c_min > np.iinfo(np.int8).min and c_max < np.iinfo(np.int8).max:\n",
        "                    df[col] = df[col].astype(np.int8)\n",
        "                elif c_min > np.iinfo(np.int16).min and c_max < np.iinfo(np.int16).max:\n",
        "                    df[col] = df[col].astype(np.int16)\n",
        "                elif c_min > np.iinfo(np.int32).min and c_max < np.iinfo(np.int32).max:\n",
        "                    df[col] = df[col].astype(np.int32)\n",
        "                elif c_min > np.iinfo(np.int64).min and c_max < np.iinfo(np.int64).max:\n",
        "                    df[col] = df[col].astype(np.int64)  \n",
        "            else:\n",
        "                if c_min > np.finfo(np.float16).min and c_max < np.finfo(np.float16).max:\n",
        "                    df[col] = df[col].astype(np.float16)\n",
        "                elif c_min > np.finfo(np.float32).min and c_max < np.finfo(np.float32).max:\n",
        "                    df[col] = df[col].astype(np.float32)\n",
        "                else:\n",
        "                    df[col] = df[col].astype(np.float64)\n",
        "\n",
        "    end_mem = df.memory_usage().sum() / 1024**2\n",
        "    print('Memory usage after optimization is: {:.2f} MB'.format(end_mem))\n",
        "    print('Decreased by {:.1f}%'.format(100 * (start_mem - end_mem) / start_mem))\n",
        "    \n",
        "    return df"
      ]
    },
    {
      "cell_type": "code",
      "execution_count": null,
      "metadata": {
        "colab": {
          "base_uri": "https://localhost:8080/"
        },
        "id": "zLVRIMgqgrH4",
        "outputId": "0dc5b0e4-f10e-49a8-d407-1da0fe2d7972"
      },
      "outputs": [
        {
          "name": "stdout",
          "output_type": "stream",
          "text": [
            "Memory usage of dataframe is 3.30 MB\n",
            "Memory usage after optimization is: 3.30 MB\n",
            "Decreased by 0.0%\n"
          ]
        }
      ],
      "source": [
        "# Reduce memory usage of dataframe\n",
        "df = reduce_mem_usage(df)"
      ]
    },
    {
      "cell_type": "markdown",
      "metadata": {
        "id": "99b9c3eb"
      },
      "source": [
        "## XGBoost - Base model"
      ]
    },
    {
      "cell_type": "code",
      "execution_count": null,
      "metadata": {
        "colab": {
          "base_uri": "https://localhost:8080/",
          "height": 424
        },
        "id": "135dacbc",
        "outputId": "ff6be953-7b19-44c3-8438-1f0f9c2719ad"
      },
      "outputs": [
        {
          "data": {
            "text/html": [
              "\n",
              "  <div id=\"df-af117fbe-4dbb-4c82-81f6-93364332592e\">\n",
              "    <div class=\"colab-df-container\">\n",
              "      <div>\n",
              "<style scoped>\n",
              "    .dataframe tbody tr th:only-of-type {\n",
              "        vertical-align: middle;\n",
              "    }\n",
              "\n",
              "    .dataframe tbody tr th {\n",
              "        vertical-align: top;\n",
              "    }\n",
              "\n",
              "    .dataframe thead th {\n",
              "        text-align: right;\n",
              "    }\n",
              "</style>\n",
              "<table border=\"1\" class=\"dataframe\">\n",
              "  <thead>\n",
              "    <tr style=\"text-align: right;\">\n",
              "      <th></th>\n",
              "      <th>make</th>\n",
              "      <th>model</th>\n",
              "      <th>odometer</th>\n",
              "      <th>price</th>\n",
              "      <th>bodytype</th>\n",
              "      <th>trim</th>\n",
              "      <th>year</th>\n",
              "      <th>drivetrain</th>\n",
              "      <th>transmission_manual</th>\n",
              "      <th>province</th>\n",
              "    </tr>\n",
              "  </thead>\n",
              "  <tbody>\n",
              "    <tr>\n",
              "      <th>0</th>\n",
              "      <td>Chevrolet</td>\n",
              "      <td>Silverado 1500</td>\n",
              "      <td>70103</td>\n",
              "      <td>45950</td>\n",
              "      <td>truck</td>\n",
              "      <td>NaN</td>\n",
              "      <td>2019</td>\n",
              "      <td>AWD</td>\n",
              "      <td>0</td>\n",
              "      <td>quebec</td>\n",
              "    </tr>\n",
              "    <tr>\n",
              "      <th>1</th>\n",
              "      <td>Chevrolet</td>\n",
              "      <td>Silverado 1500</td>\n",
              "      <td>74951</td>\n",
              "      <td>62200</td>\n",
              "      <td>truck</td>\n",
              "      <td>NaN</td>\n",
              "      <td>2020</td>\n",
              "      <td>AWD</td>\n",
              "      <td>0</td>\n",
              "      <td>ontario</td>\n",
              "    </tr>\n",
              "    <tr>\n",
              "      <th>2</th>\n",
              "      <td>Chevrolet</td>\n",
              "      <td>Silverado 1500</td>\n",
              "      <td>71012</td>\n",
              "      <td>32999</td>\n",
              "      <td>truck</td>\n",
              "      <td>Silverado 1500-Lt</td>\n",
              "      <td>2015</td>\n",
              "      <td>AWD</td>\n",
              "      <td>0</td>\n",
              "      <td>ontario</td>\n",
              "    </tr>\n",
              "    <tr>\n",
              "      <th>3</th>\n",
              "      <td>Chevrolet</td>\n",
              "      <td>Silverado 1500</td>\n",
              "      <td>118010</td>\n",
              "      <td>38589</td>\n",
              "      <td>truck</td>\n",
              "      <td>NaN</td>\n",
              "      <td>2018</td>\n",
              "      <td>AWD</td>\n",
              "      <td>0</td>\n",
              "      <td>ontario</td>\n",
              "    </tr>\n",
              "    <tr>\n",
              "      <th>4</th>\n",
              "      <td>Chevrolet</td>\n",
              "      <td>Silverado 1500</td>\n",
              "      <td>122000</td>\n",
              "      <td>29995</td>\n",
              "      <td>truck</td>\n",
              "      <td>Silverado 1500-2Lt</td>\n",
              "      <td>2015</td>\n",
              "      <td>AWD</td>\n",
              "      <td>0</td>\n",
              "      <td>ontario</td>\n",
              "    </tr>\n",
              "    <tr>\n",
              "      <th>...</th>\n",
              "      <td>...</td>\n",
              "      <td>...</td>\n",
              "      <td>...</td>\n",
              "      <td>...</td>\n",
              "      <td>...</td>\n",
              "      <td>...</td>\n",
              "      <td>...</td>\n",
              "      <td>...</td>\n",
              "      <td>...</td>\n",
              "      <td>...</td>\n",
              "    </tr>\n",
              "    <tr>\n",
              "      <th>52785</th>\n",
              "      <td>Chevrolet</td>\n",
              "      <td>City Express</td>\n",
              "      <td>101409</td>\n",
              "      <td>26995</td>\n",
              "      <td>minivan</td>\n",
              "      <td>NaN</td>\n",
              "      <td>2015</td>\n",
              "      <td>FWD</td>\n",
              "      <td>0</td>\n",
              "      <td>ontario</td>\n",
              "    </tr>\n",
              "    <tr>\n",
              "      <th>52786</th>\n",
              "      <td>Mercedes-Benz</td>\n",
              "      <td>Amg Gle 53</td>\n",
              "      <td>37000</td>\n",
              "      <td>99950</td>\n",
              "      <td>suv</td>\n",
              "      <td>NaN</td>\n",
              "      <td>2021</td>\n",
              "      <td>AWD</td>\n",
              "      <td>0</td>\n",
              "      <td>quebec</td>\n",
              "    </tr>\n",
              "    <tr>\n",
              "      <th>52787</th>\n",
              "      <td>Mercedes-Benz</td>\n",
              "      <td>Amg Gle 53</td>\n",
              "      <td>1781</td>\n",
              "      <td>145770</td>\n",
              "      <td>suv</td>\n",
              "      <td>NaN</td>\n",
              "      <td>2022</td>\n",
              "      <td>AWD</td>\n",
              "      <td>0</td>\n",
              "      <td>quebec</td>\n",
              "    </tr>\n",
              "    <tr>\n",
              "      <th>52788</th>\n",
              "      <td>Mercedes-Benz</td>\n",
              "      <td>E53 Amg</td>\n",
              "      <td>37258</td>\n",
              "      <td>100995</td>\n",
              "      <td>convertible</td>\n",
              "      <td>NaN</td>\n",
              "      <td>2019</td>\n",
              "      <td>AWD</td>\n",
              "      <td>0</td>\n",
              "      <td>quebec</td>\n",
              "    </tr>\n",
              "    <tr>\n",
              "      <th>52789</th>\n",
              "      <td>MINI</td>\n",
              "      <td>John Cooper Works Countryman</td>\n",
              "      <td>88000</td>\n",
              "      <td>22995</td>\n",
              "      <td>hatchback</td>\n",
              "      <td>NaN</td>\n",
              "      <td>2013</td>\n",
              "      <td>AWD</td>\n",
              "      <td>0</td>\n",
              "      <td>ontario</td>\n",
              "    </tr>\n",
              "  </tbody>\n",
              "</table>\n",
              "<p>51654 rows × 10 columns</p>\n",
              "</div>\n",
              "      <button class=\"colab-df-convert\" onclick=\"convertToInteractive('df-af117fbe-4dbb-4c82-81f6-93364332592e')\"\n",
              "              title=\"Convert this dataframe to an interactive table.\"\n",
              "              style=\"display:none;\">\n",
              "        \n",
              "  <svg xmlns=\"http://www.w3.org/2000/svg\" height=\"24px\"viewBox=\"0 0 24 24\"\n",
              "       width=\"24px\">\n",
              "    <path d=\"M0 0h24v24H0V0z\" fill=\"none\"/>\n",
              "    <path d=\"M18.56 5.44l.94 2.06.94-2.06 2.06-.94-2.06-.94-.94-2.06-.94 2.06-2.06.94zm-11 1L8.5 8.5l.94-2.06 2.06-.94-2.06-.94L8.5 2.5l-.94 2.06-2.06.94zm10 10l.94 2.06.94-2.06 2.06-.94-2.06-.94-.94-2.06-.94 2.06-2.06.94z\"/><path d=\"M17.41 7.96l-1.37-1.37c-.4-.4-.92-.59-1.43-.59-.52 0-1.04.2-1.43.59L10.3 9.45l-7.72 7.72c-.78.78-.78 2.05 0 2.83L4 21.41c.39.39.9.59 1.41.59.51 0 1.02-.2 1.41-.59l7.78-7.78 2.81-2.81c.8-.78.8-2.07 0-2.86zM5.41 20L4 18.59l7.72-7.72 1.47 1.35L5.41 20z\"/>\n",
              "  </svg>\n",
              "      </button>\n",
              "      \n",
              "  <style>\n",
              "    .colab-df-container {\n",
              "      display:flex;\n",
              "      flex-wrap:wrap;\n",
              "      gap: 12px;\n",
              "    }\n",
              "\n",
              "    .colab-df-convert {\n",
              "      background-color: #E8F0FE;\n",
              "      border: none;\n",
              "      border-radius: 50%;\n",
              "      cursor: pointer;\n",
              "      display: none;\n",
              "      fill: #1967D2;\n",
              "      height: 32px;\n",
              "      padding: 0 0 0 0;\n",
              "      width: 32px;\n",
              "    }\n",
              "\n",
              "    .colab-df-convert:hover {\n",
              "      background-color: #E2EBFA;\n",
              "      box-shadow: 0px 1px 2px rgba(60, 64, 67, 0.3), 0px 1px 3px 1px rgba(60, 64, 67, 0.15);\n",
              "      fill: #174EA6;\n",
              "    }\n",
              "\n",
              "    [theme=dark] .colab-df-convert {\n",
              "      background-color: #3B4455;\n",
              "      fill: #D2E3FC;\n",
              "    }\n",
              "\n",
              "    [theme=dark] .colab-df-convert:hover {\n",
              "      background-color: #434B5C;\n",
              "      box-shadow: 0px 1px 3px 1px rgba(0, 0, 0, 0.15);\n",
              "      filter: drop-shadow(0px 1px 2px rgba(0, 0, 0, 0.3));\n",
              "      fill: #FFFFFF;\n",
              "    }\n",
              "  </style>\n",
              "\n",
              "      <script>\n",
              "        const buttonEl =\n",
              "          document.querySelector('#df-af117fbe-4dbb-4c82-81f6-93364332592e button.colab-df-convert');\n",
              "        buttonEl.style.display =\n",
              "          google.colab.kernel.accessAllowed ? 'block' : 'none';\n",
              "\n",
              "        async function convertToInteractive(key) {\n",
              "          const element = document.querySelector('#df-af117fbe-4dbb-4c82-81f6-93364332592e');\n",
              "          const dataTable =\n",
              "            await google.colab.kernel.invokeFunction('convertToInteractive',\n",
              "                                                     [key], {});\n",
              "          if (!dataTable) return;\n",
              "\n",
              "          const docLinkHtml = 'Like what you see? Visit the ' +\n",
              "            '<a target=\"_blank\" href=https://colab.research.google.com/notebooks/data_table.ipynb>data table notebook</a>'\n",
              "            + ' to learn more about interactive tables.';\n",
              "          element.innerHTML = '';\n",
              "          dataTable['output_type'] = 'display_data';\n",
              "          await google.colab.output.renderOutput(dataTable, element);\n",
              "          const docLink = document.createElement('div');\n",
              "          docLink.innerHTML = docLinkHtml;\n",
              "          element.appendChild(docLink);\n",
              "        }\n",
              "      </script>\n",
              "    </div>\n",
              "  </div>\n",
              "  "
            ],
            "text/plain": [
              "                make                         model  odometer   price  \\\n",
              "0          Chevrolet                Silverado 1500     70103   45950   \n",
              "1          Chevrolet                Silverado 1500     74951   62200   \n",
              "2          Chevrolet                Silverado 1500     71012   32999   \n",
              "3          Chevrolet                Silverado 1500    118010   38589   \n",
              "4          Chevrolet                Silverado 1500    122000   29995   \n",
              "...              ...                           ...       ...     ...   \n",
              "52785      Chevrolet                  City Express    101409   26995   \n",
              "52786  Mercedes-Benz                    Amg Gle 53     37000   99950   \n",
              "52787  Mercedes-Benz                    Amg Gle 53      1781  145770   \n",
              "52788  Mercedes-Benz                       E53 Amg     37258  100995   \n",
              "52789           MINI  John Cooper Works Countryman     88000   22995   \n",
              "\n",
              "          bodytype                trim  year drivetrain  transmission_manual  \\\n",
              "0            truck                 NaN  2019        AWD                    0   \n",
              "1            truck                 NaN  2020        AWD                    0   \n",
              "2            truck   Silverado 1500-Lt  2015        AWD                    0   \n",
              "3            truck                 NaN  2018        AWD                    0   \n",
              "4            truck  Silverado 1500-2Lt  2015        AWD                    0   \n",
              "...            ...                 ...   ...        ...                  ...   \n",
              "52785      minivan                 NaN  2015        FWD                    0   \n",
              "52786          suv                 NaN  2021        AWD                    0   \n",
              "52787          suv                 NaN  2022        AWD                    0   \n",
              "52788  convertible                 NaN  2019        AWD                    0   \n",
              "52789    hatchback                 NaN  2013        AWD                    0   \n",
              "\n",
              "      province  \n",
              "0       quebec  \n",
              "1      ontario  \n",
              "2      ontario  \n",
              "3      ontario  \n",
              "4      ontario  \n",
              "...        ...  \n",
              "52785  ontario  \n",
              "52786   quebec  \n",
              "52787   quebec  \n",
              "52788   quebec  \n",
              "52789  ontario  \n",
              "\n",
              "[51654 rows x 10 columns]"
            ]
          },
          "execution_count": 67,
          "metadata": {},
          "output_type": "execute_result"
        }
      ],
      "source": [
        "df"
      ]
    },
    {
      "cell_type": "code",
      "execution_count": null,
      "metadata": {
        "id": "d6a6f29e"
      },
      "outputs": [],
      "source": [
        "# Prepare the features and target dataframes\n",
        "X = df.drop(['price'], axis=1)\n",
        "y = df.price\n",
        "\n",
        "# Identify categorical features\n",
        "cat_features = X.select_dtypes(include=[\"object\"]).columns.to_list()\n",
        "# Remove 3 categorical columns that will later be transformed into numerical features in the pipeline\n",
        "cat_features = [ele for ele in cat_features if ele not in {'make','model','trim'}] \n",
        "\n",
        "# Bundle preprocessing for numerical and categorical data\n",
        "preprocessor = ColumnTransformer(\n",
        "    transformers=[\n",
        "        ('target_encode', TargetEncoder(cols=['make','model','trim'],smoothing=1, min_samples_leaf=1), ['make','model','trim']),\n",
        "        ('one_hot_encode', OneHotEncoder(use_cat_names=True, handle_unknown='ignore'), cat_features),\n",
        "    ], remainder='passthrough')\n",
        "\n",
        "# Initialize the regressor\n",
        "xgb = XGBRegressor(booster='gbtree', objective='reg:squarederror', random_state=42, n_jobs=-1,\n",
        "                   learning_rate=0.15, n_estimators= 2000, tree_method = 'gpu_hist',\n",
        "                   #subsample= 0.81, min_child_weight= 16, colsample_bytree= 0.8, max_depth = 7, early_stopping_rounds=100   \n",
        "                  )\n",
        "\n",
        "# Bundle preprocessing and modeling in a pipeline\n",
        "my_pipeline = Pipeline(steps=[('preprocessor', preprocessor),\n",
        "                              ('model', xgb)\n",
        "                            ])\n",
        "\n",
        "#my_pipeline.fit(X,y)"
      ]
    },
    {
      "cell_type": "code",
      "execution_count": null,
      "metadata": {
        "colab": {
          "base_uri": "https://localhost:8080/"
        },
        "id": "h5nBZzEBaOKg",
        "outputId": "fc14fade-5347-4196-ed30-be883a70a7f7"
      },
      "outputs": [
        {
          "name": "stdout",
          "output_type": "stream",
          "text": [
            "MAPE mean: 0.077\n"
          ]
        }
      ],
      "source": [
        "# 5 Fold Cross validation\n",
        "kf = KFold(n_splits=5, shuffle=True, random_state=42)\n",
        "scores = cross_val_score(my_pipeline, X, y, scoring='neg_mean_absolute_percentage_error', cv=kf, n_jobs=-1)\n",
        "\n",
        "# Print MAPE score\n",
        "mape_scores = list(-scores)\n",
        "print(f'MAPE mean: {round(statistics.mean(mape_scores),3)}')"
      ]
    },
    {
      "cell_type": "code",
      "execution_count": null,
      "metadata": {
        "colab": {
          "base_uri": "https://localhost:8080/"
        },
        "id": "MORjP69Mghw7",
        "outputId": "6ef01344-ab47-4724-a51e-c3a9df590165"
      },
      "outputs": [
        {
          "data": {
            "text/plain": [
              "596"
            ]
          },
          "execution_count": 70,
          "metadata": {},
          "output_type": "execute_result"
        }
      ],
      "source": [
        "# Garbage collection\n",
        "gc.collect()"
      ]
    },
    {
      "cell_type": "markdown",
      "metadata": {
        "id": "f93bcec7"
      },
      "source": [
        "## XGBoost Hyperparameter tuning using Optuna library"
      ]
    },
    {
      "cell_type": "code",
      "execution_count": 102,
      "metadata": {
        "id": "9396eb6f"
      },
      "outputs": [],
      "source": [
        "def objective(trial):\n",
        "    # Prepare the features and target dataframes\n",
        "    X = df.drop(['price'], axis=1)\n",
        "    y = df.price\n",
        "\n",
        "    param_grid = {\n",
        "      \"min_samples_leaf\": trial.suggest_int(\"min_samples_leaf\", 1, 8),\n",
        "      \"smoothing\": trial.suggest_int(\"smoothing\", 1, 8),\n",
        "      \"cols\": ['make','model','trim']\n",
        "    }\n",
        "\n",
        "    # Prepare the features and target dataframes\n",
        "    X = df.drop(['price'], axis=1)\n",
        "    y = df.price\n",
        "\n",
        "    # Identify categorical features\n",
        "    cat_features = X.select_dtypes(include=[\"object\"]).columns.to_list()\n",
        "    # Remove 3 categorical columns that will later be transformed into numerical features in the pipeline\n",
        "    cat_features = [ele for ele in cat_features if ele not in {'make','model','trim'}] \n",
        "\n",
        "    # Bundle preprocessing for numerical and categorical data\n",
        "    preprocessor = ColumnTransformer(\n",
        "    transformers=[\n",
        "        ('target_encode', TargetEncoder(**param_grid), ['make','model','trim']),\n",
        "        ('one_hot_encode', OneHotEncoder(use_cat_names=True, handle_unknown='ignore'), cat_features),\n",
        "    ], remainder='passthrough')\n",
        "\n",
        "    # Initiialize the regressor\n",
        "\n",
        "    xgb_params = {\n",
        "      \"learning_rate\": trial.suggest_loguniform(\"learning_rate\", 0.1, 0.4),\n",
        "      \"n_estimators\": trial.suggest_int(\"n_estimators\", 1000, 3000),\n",
        "      \"max_depth\": trial.suggest_int(\"max_depth\", 4, 8),\n",
        "      #\"subsample\": trial.suggest_categorical(\"subsample\", [0.96, 0.98, 1]),\n",
        "      #\"colsample_bytree\": trial.suggest_categorical(\"colsample_bytree\", [0.90, 0.96, 1.0]),\n",
        "      \"min_child_weight\": trial.suggest_int(\"min_child_weight\", 1, 35),\n",
        "      #\"colsample_bylevel\": trial.suggest_float(\"colsample_bylevel\", 0.5, 1),      \n",
        "      #\"colsample_bynode\": trial.suggest_float(\"colsample_bylevel\", 0.5, 1),\n",
        "      'alpha': trial.suggest_loguniform('alpha', 0.02, 5),\n",
        "      'lambda': trial.suggest_loguniform('lambda', 0.01, 0.20),\n",
        "      \"early_stopping_rounds\": 100,\n",
        "      \"n_jobs\": -1,\n",
        "      'tree_method' : 'gpu_hist',\n",
        "      \"model__booster\": 'gbtree',\n",
        "      \"objective\" : 'reg:squarederror',\n",
        "      'random_state': 42\n",
        "    }\n",
        "    xgb = XGBRegressor(**xgb_params)\n",
        "      \n",
        "\n",
        "    # Bundle preprocessing and modeling in a pipeline\n",
        "    my_pipeline = Pipeline(steps=[('preprocessor', preprocessor),\n",
        "                                  ('model', xgb)\n",
        "                          ])\n",
        "\n",
        "\n",
        "    # 5 Fold Cross validation\n",
        "    kf = KFold(n_splits=5, shuffle=True, random_state=42)\n",
        "    scores = cross_val_score(my_pipeline, X, y, scoring='neg_mean_absolute_percentage_error', cv=kf, n_jobs=-1)\n",
        "\n",
        "    # Print MAPE scores\n",
        "    mape_scores = list(-scores)\n",
        "    score = round(statistics.mean(mape_scores),4)\n",
        "\n",
        "    return score"
      ]
    },
    {
      "cell_type": "code",
      "execution_count": null,
      "metadata": {
        "id": "7d520514"
      },
      "outputs": [],
      "source": [
        "study = optuna.create_study(direction = \"minimize\")\n",
        "study.optimize(objective, n_jobs=-1, n_trials = 200, timeout= 60*60*3) # , timeout= 60*60*2"
      ]
    },
    {
      "cell_type": "code",
      "execution_count": 104,
      "metadata": {
        "colab": {
          "base_uri": "https://localhost:8080/"
        },
        "id": "4f15af0c",
        "outputId": "9f72d97f-3477-436e-b8cb-a9db1e21c92b"
      },
      "outputs": [
        {
          "output_type": "stream",
          "name": "stdout",
          "text": [
            "Best params: {'min_samples_leaf': 1, 'smoothing': 2, 'learning_rate': 0.14177629544827303, 'n_estimators': 1760, 'max_depth': 5, 'min_child_weight': 2, 'alpha': 0.04666093503628314, 'lambda': 0.1407597525574459}\n",
            "Best Score:  0.0715\n"
          ]
        }
      ],
      "source": [
        "best_trial = study.best_trial\n",
        "print('Best params:', study.best_trial.params)\n",
        "print(\"Best Score: \", best_trial.value)"
      ]
    },
    {
      "cell_type": "code",
      "execution_count": 105,
      "metadata": {
        "colab": {
          "base_uri": "https://localhost:8080/",
          "height": 562
        },
        "id": "07e2e9f6",
        "outputId": "018eecec-1ddb-4f2d-baf7-4242198d250c"
      },
      "outputs": [
        {
          "output_type": "display_data",
          "data": {
            "text/html": [
              "<html>\n",
              "<head><meta charset=\"utf-8\" /></head>\n",
              "<body>\n",
              "    <div>            <script src=\"https://cdnjs.cloudflare.com/ajax/libs/mathjax/2.7.5/MathJax.js?config=TeX-AMS-MML_SVG\"></script><script type=\"text/javascript\">if (window.MathJax) {MathJax.Hub.Config({SVG: {font: \"STIX-Web\"}});}</script>                <script type=\"text/javascript\">window.PlotlyConfig = {MathJaxConfig: 'local'};</script>\n",
              "        <script src=\"https://cdn.plot.ly/plotly-2.8.3.min.js\"></script>                <div id=\"c4324d39-f51a-4f40-8d43-f9e8c5b4da63\" class=\"plotly-graph-div\" style=\"height:525px; width:2400px;\"></div>            <script type=\"text/javascript\">                                    window.PLOTLYENV=window.PLOTLYENV || {};                                    if (document.getElementById(\"c4324d39-f51a-4f40-8d43-f9e8c5b4da63\")) {                    Plotly.newPlot(                        \"c4324d39-f51a-4f40-8d43-f9e8c5b4da63\",                        [{\"marker\":{\"color\":[0,1,2,3,4,5,6,7,8,9,10,11,12,13,14,15,16,17,18,19,20,21,22,23,24,25,26,27,28,29,30,31,32,33,34,35,36,37,38,39,40,41,42,43,44,45,46,47,48,49,50,51,52,53,54,55,56,57,58,59,60,61,62,63,64,65,66,67,68,69,70,71,72,73,74,75,76,77,78,79,80,81,82,83,84,85,86,87,88,89,90,91,92,93,94,95,96,97,98,99,100,101,102,103,104,105,106,107,108,109,110,111],\"colorbar\":{\"title\":{\"text\":\"#Trials\"},\"x\":1.0,\"xpad\":40},\"colorscale\":[[0.0,\"rgb(247,251,255)\"],[0.125,\"rgb(222,235,247)\"],[0.25,\"rgb(198,219,239)\"],[0.375,\"rgb(158,202,225)\"],[0.5,\"rgb(107,174,214)\"],[0.625,\"rgb(66,146,198)\"],[0.75,\"rgb(33,113,181)\"],[0.875,\"rgb(8,81,156)\"],[1.0,\"rgb(8,48,107)\"]],\"line\":{\"color\":\"Grey\",\"width\":0.5},\"showscale\":true},\"mode\":\"markers\",\"showlegend\":false,\"x\":[0.0672873513707811,0.12126122656968134,0.45383500294545664,1.0283240378289282,0.2559585078603611,0.39172397760949185,0.03548795602756867,1.0191223522258714,1.11723093142048,0.051481581897002866,0.8674874491189923,4.038198375736034,2.1286126306400694,3.934428382824435,0.3164040590179462,4.188653349353741,3.6295947911995574,0.0208537742117703,0.14779348363616068,0.19024243493421403,1.765025384517946,1.8481711758484098,4.684288028011878,4.397253801444621,2.5538515109274242,0.603381134963774,0.5755860858856557,2.664369618996504,2.5881175817627664,1.4954103258606368,0.1008950107995354,1.377246316372343,3.0264970734606753,2.6622831402078795,3.13453886292241,0.6633704221032771,4.837322604558895,0.3773567760791513,0.28574531861366587,2.2618095202143165,0.0863858271962623,0.09338171517199197,0.09256136490165752,0.0517632401646998,0.06657975501746426,0.05102256527749758,0.06718479834925661,0.03512792048527939,0.029949276094599884,0.19942251318364915,0.020871472771408873,0.18743722237084087,0.030847031968332835,0.029152448167341274,0.04995772203816526,0.029373007050526485,0.026876253143624653,0.09133776716423152,0.11921181665699433,0.13580067315535813,0.12646541646646045,0.12075487278482491,0.1390891800571358,0.13162112266737877,0.12363514345273481,0.12570638258695355,0.14097629893260308,0.14759476939429833,0.22624490149009543,0.2300540154931809,0.22205632110241602,0.11226079742378497,0.16424069614628875,0.16072676682733555,0.2363832596412781,0.07627889835942123,0.16483762727478046,0.07173030664648407,0.3495470996403249,0.31315100964277964,0.44399112986093847,0.4894017161718479,0.16174880181042806,0.2722499808703377,0.1072517438213493,0.0762596809330862,0.3648397278484931,0.07731248011565174,0.06072434863684373,0.05691207629893047,0.05837759490290301,0.10728903819388186,0.04176789976050269,0.04481009576307778,0.35014116982444626,0.04041875197609404,0.041245111410447524,0.043612125365474194,0.36448635552102915,0.38638878673482785,0.7530773736252955,0.31545429157737914,0.04666093503628314,0.045000640716241755,0.34165077667928706,0.037945562198385824,0.45463339530168334,0.46148675189682037,0.3251510068847998,0.3288317030206249,0.03495825262428353,0.0350445590958246],\"y\":[0.0734,0.0737,0.0771,0.0735,0.0756,0.0732,0.0733,0.0729,0.0733,0.0732,0.0736,0.0779,0.0735,0.0727,0.0726,0.0728,0.0807,0.0731,0.0729,0.0732,0.0736,0.0739,0.073,0.073,0.0739,0.0736,0.0744,0.0746,0.0728,0.0732,0.0731,0.0731,0.0729,0.0729,0.0731,0.0735,0.0788,0.0736,0.0741,0.0729,0.0729,0.0726,0.0726,0.0728,0.0728,0.0728,0.0728,0.0729,0.0727,0.0729,0.0729,0.0728,0.0729,0.0723,0.0737,0.0744,0.0756,0.0726,0.0725,0.0719,0.0719,0.072,0.0722,0.0721,0.0719,0.072,0.0721,0.072,0.0721,0.0725,0.0721,0.0734,0.0722,0.072,0.072,0.0718,0.0722,0.0721,0.0717,0.0741,0.0721,0.0722,0.0726,0.0721,0.0717,0.0718,0.0718,0.0737,0.0718,0.072,0.0721,0.0725,0.0717,0.0718,0.0717,0.0727,0.0728,0.0717,0.0718,0.0734,0.072,0.0717,0.0715,0.0718,0.0717,0.0716,0.072,0.0721,0.0719,0.0719,0.0716,0.0719],\"type\":\"scatter\",\"xaxis\":\"x\",\"yaxis\":\"y\"},{\"marker\":{\"color\":[0,1,2,3,4,5,6,7,8,9,10,11,12,13,14,15,16,17,18,19,20,21,22,23,24,25,26,27,28,29,30,31,32,33,34,35,36,37,38,39,40,41,42,43,44,45,46,47,48,49,50,51,52,53,54,55,56,57,58,59,60,61,62,63,64,65,66,67,68,69,70,71,72,73,74,75,76,77,78,79,80,81,82,83,84,85,86,87,88,89,90,91,92,93,94,95,96,97,98,99,100,101,102,103,104,105,106,107,108,109,110,111],\"colorbar\":{\"title\":{\"text\":\"#Trials\"},\"x\":1.0,\"xpad\":40},\"colorscale\":[[0.0,\"rgb(247,251,255)\"],[0.125,\"rgb(222,235,247)\"],[0.25,\"rgb(198,219,239)\"],[0.375,\"rgb(158,202,225)\"],[0.5,\"rgb(107,174,214)\"],[0.625,\"rgb(66,146,198)\"],[0.75,\"rgb(33,113,181)\"],[0.875,\"rgb(8,81,156)\"],[1.0,\"rgb(8,48,107)\"]],\"line\":{\"color\":\"Grey\",\"width\":0.5},\"showscale\":false},\"mode\":\"markers\",\"showlegend\":false,\"x\":[0.032467233026131,0.027668660105846933,0.08040381790560973,0.08172010005026886,0.13064319323358572,0.03595531987248853,0.057384489068228836,0.014618717086264946,0.1064810388348243,0.05671353218161531,0.019079487805071193,0.010113424295017999,0.010277144884298425,0.013363464201975678,0.021892681471550157,0.019194266995418194,0.020433254699082932,0.022665667877771332,0.1973209437550612,0.0144489700709158,0.013358135712144581,0.013844516675693528,0.01789498104175245,0.026567164700224,0.023663226416989234,0.04027523268572205,0.04107393892872176,0.01653861254601809,0.016940461779640925,0.012073485560888345,0.029681826040840284,0.012097174387874587,0.017700138237298223,0.016828601062461222,0.0247287750929329,0.023992474192915957,0.03136987185393257,0.02083682722746498,0.02081759972982998,0.05392420429945892,0.05332399501875131,0.0341277647588468,0.07124880084437776,0.0285671644628997,0.08484853394179757,0.06938245135371493,0.07043094920247699,0.07731979265807126,0.0692784891640268,0.10136314815363827,0.10542489482351745,0.04718135768211648,0.04741459896686392,0.033770253840487034,0.03437323947866434,0.0383037495344839,0.03773688828124192,0.06268013261020061,0.14494226262167648,0.06280804955987179,0.17002206854995375,0.15458518197716534,0.1477876236570408,0.1698440925462549,0.16424423228447088,0.17424487812189463,0.18520665386166824,0.1894221108186128,0.18686093064394704,0.17561736379415144,0.1218440344724346,0.12662641118638654,0.12221752832406195,0.19407013610653692,0.15280043011810693,0.1629407882057325,0.15360697331602022,0.15628443186855195,0.16172072131721935,0.13461266754544696,0.19907098188944347,0.0960697460452757,0.16764529081376034,0.161644828039009,0.13886508977206835,0.1367114570739239,0.13413273998221797,0.11349932344661448,0.13671322567312405,0.14413214102663546,0.13588445976914162,0.1350183741597647,0.14121525148650954,0.11258939789304534,0.11557275551831893,0.11406661674331724,0.11538928627598609,0.08536812720971758,0.0846636248448513,0.09077198273726735,0.10671797267802634,0.10028395285452084,0.1407597525574459,0.09492328814955125,0.08641820106720408,0.09445105862127733,0.08020071452799495,0.07827553624501676,0.10261485847876821,0.09949700811785003,0.08753861706922188,0.12125180547507089],\"y\":[0.0734,0.0737,0.0771,0.0735,0.0756,0.0732,0.0733,0.0729,0.0733,0.0732,0.0736,0.0779,0.0735,0.0727,0.0726,0.0728,0.0807,0.0731,0.0729,0.0732,0.0736,0.0739,0.073,0.073,0.0739,0.0736,0.0744,0.0746,0.0728,0.0732,0.0731,0.0731,0.0729,0.0729,0.0731,0.0735,0.0788,0.0736,0.0741,0.0729,0.0729,0.0726,0.0726,0.0728,0.0728,0.0728,0.0728,0.0729,0.0727,0.0729,0.0729,0.0728,0.0729,0.0723,0.0737,0.0744,0.0756,0.0726,0.0725,0.0719,0.0719,0.072,0.0722,0.0721,0.0719,0.072,0.0721,0.072,0.0721,0.0725,0.0721,0.0734,0.0722,0.072,0.072,0.0718,0.0722,0.0721,0.0717,0.0741,0.0721,0.0722,0.0726,0.0721,0.0717,0.0718,0.0718,0.0737,0.0718,0.072,0.0721,0.0725,0.0717,0.0718,0.0717,0.0727,0.0728,0.0717,0.0718,0.0734,0.072,0.0717,0.0715,0.0718,0.0717,0.0716,0.072,0.0721,0.0719,0.0719,0.0716,0.0719],\"type\":\"scatter\",\"xaxis\":\"x2\",\"yaxis\":\"y2\"},{\"marker\":{\"color\":[0,1,2,3,4,5,6,7,8,9,10,11,12,13,14,15,16,17,18,19,20,21,22,23,24,25,26,27,28,29,30,31,32,33,34,35,36,37,38,39,40,41,42,43,44,45,46,47,48,49,50,51,52,53,54,55,56,57,58,59,60,61,62,63,64,65,66,67,68,69,70,71,72,73,74,75,76,77,78,79,80,81,82,83,84,85,86,87,88,89,90,91,92,93,94,95,96,97,98,99,100,101,102,103,104,105,106,107,108,109,110,111],\"colorbar\":{\"title\":{\"text\":\"#Trials\"},\"x\":1.0,\"xpad\":40},\"colorscale\":[[0.0,\"rgb(247,251,255)\"],[0.125,\"rgb(222,235,247)\"],[0.25,\"rgb(198,219,239)\"],[0.375,\"rgb(158,202,225)\"],[0.5,\"rgb(107,174,214)\"],[0.625,\"rgb(66,146,198)\"],[0.75,\"rgb(33,113,181)\"],[0.875,\"rgb(8,81,156)\"],[1.0,\"rgb(8,48,107)\"]],\"line\":{\"color\":\"Grey\",\"width\":0.5},\"showscale\":false},\"mode\":\"markers\",\"showlegend\":false,\"x\":[0.1370761957810362,0.30005035349058445,0.24208191948800556,0.3021157408190689,0.1524026037329421,0.10499741206288377,0.10908619228764906,0.11647493197505776,0.12553374564344028,0.11306159452867467,0.20846900626364542,0.18120340999827186,0.16123335762229346,0.10161893127057021,0.10516821805542259,0.1023693596141164,0.37734182516973286,0.13817523817322455,0.14023301837627453,0.18837535967239732,0.18259650195317145,0.21930297781574948,0.10011403920388356,0.10449315876760272,0.12358467075777768,0.12106428942293555,0.12371538523474118,0.16153595125338696,0.10052604092130546,0.10228211784825986,0.13519435832618576,0.11259605596308628,0.11397747812763385,0.13233296202738312,0.13268087594310765,0.10013699835242255,0.2782001839776996,0.15015006620159804,0.14555200026329887,0.11015872201431537,0.10826215086427127,0.1074362878798912,0.10850292263475599,0.11843033549548077,0.11869297177488833,0.11954247754884648,0.12641792556637013,0.12698995031025923,0.1276656592332381,0.10932189142849749,0.10893496415867887,0.1092740937602182,0.11640442244445409,0.10674368219628638,0.16587969501952782,0.10594481400490194,0.10629034143241219,0.12907832380764228,0.11399112773638889,0.1463487849692599,0.11453717958339664,0.15638748847279874,0.14341272142998965,0.14230082787792803,0.16891181059345298,0.15662176335238648,0.17200192500609793,0.17328901491883983,0.1703772940083884,0.1573278109736589,0.19894376758402604,0.19863860880666454,0.2029454635590184,0.17007395502612496,0.17550485353353337,0.1754519285321126,0.17983866072167498,0.18175070320643452,0.15315906372773844,0.1553032258931582,0.18859547328238835,0.18948715387544646,0.2168663555076276,0.17370030652184465,0.15024280492772482,0.14835151758400564,0.14845859116696136,0.14676141086980896,0.14912662548234945,0.150629659442713,0.14995863452997413,0.16411431136261953,0.1350337388981353,0.16161212334476752,0.13630423352130439,0.13719967384130605,0.13753241061826124,0.13891825469444372,0.14726403649996433,0.1336960454216965,0.16166392431702206,0.13087818764039774,0.14177629544827303,0.12974436864695027,0.1408326742091205,0.1306940690927863,0.14102628967150652,0.14055357600445054,0.133539139989083,0.12346810747313516,0.12184568027335516,0.15301726367035295],\"y\":[0.0734,0.0737,0.0771,0.0735,0.0756,0.0732,0.0733,0.0729,0.0733,0.0732,0.0736,0.0779,0.0735,0.0727,0.0726,0.0728,0.0807,0.0731,0.0729,0.0732,0.0736,0.0739,0.073,0.073,0.0739,0.0736,0.0744,0.0746,0.0728,0.0732,0.0731,0.0731,0.0729,0.0729,0.0731,0.0735,0.0788,0.0736,0.0741,0.0729,0.0729,0.0726,0.0726,0.0728,0.0728,0.0728,0.0728,0.0729,0.0727,0.0729,0.0729,0.0728,0.0729,0.0723,0.0737,0.0744,0.0756,0.0726,0.0725,0.0719,0.0719,0.072,0.0722,0.0721,0.0719,0.072,0.0721,0.072,0.0721,0.0725,0.0721,0.0734,0.0722,0.072,0.072,0.0718,0.0722,0.0721,0.0717,0.0741,0.0721,0.0722,0.0726,0.0721,0.0717,0.0718,0.0718,0.0737,0.0718,0.072,0.0721,0.0725,0.0717,0.0718,0.0717,0.0727,0.0728,0.0717,0.0718,0.0734,0.072,0.0717,0.0715,0.0718,0.0717,0.0716,0.072,0.0721,0.0719,0.0719,0.0716,0.0719],\"type\":\"scatter\",\"xaxis\":\"x3\",\"yaxis\":\"y3\"},{\"marker\":{\"color\":[0,1,2,3,4,5,6,7,8,9,10,11,12,13,14,15,16,17,18,19,20,21,22,23,24,25,26,27,28,29,30,31,32,33,34,35,36,37,38,39,40,41,42,43,44,45,46,47,48,49,50,51,52,53,54,55,56,57,58,59,60,61,62,63,64,65,66,67,68,69,70,71,72,73,74,75,76,77,78,79,80,81,82,83,84,85,86,87,88,89,90,91,92,93,94,95,96,97,98,99,100,101,102,103,104,105,106,107,108,109,110,111],\"colorbar\":{\"title\":{\"text\":\"#Trials\"},\"x\":1.0,\"xpad\":40},\"colorscale\":[[0.0,\"rgb(247,251,255)\"],[0.125,\"rgb(222,235,247)\"],[0.25,\"rgb(198,219,239)\"],[0.375,\"rgb(158,202,225)\"],[0.5,\"rgb(107,174,214)\"],[0.625,\"rgb(66,146,198)\"],[0.75,\"rgb(33,113,181)\"],[0.875,\"rgb(8,81,156)\"],[1.0,\"rgb(8,48,107)\"]],\"line\":{\"color\":\"Grey\",\"width\":0.5},\"showscale\":false},\"mode\":\"markers\",\"showlegend\":false,\"x\":[6,4,8,4,8,5,7,6,5,5,5,7,6,6,6,7,7,7,6,6,5,5,7,7,8,8,6,6,7,7,6,7,7,6,6,8,8,4,4,7,7,6,6,6,6,6,6,5,5,6,5,5,5,5,6,4,4,5,5,5,5,5,5,5,5,5,5,5,5,5,5,4,5,5,5,5,5,5,5,4,5,5,5,5,5,5,5,4,5,5,5,5,5,5,5,5,5,5,5,4,5,5,5,5,5,5,5,5,5,5,5,5],\"y\":[0.0734,0.0737,0.0771,0.0735,0.0756,0.0732,0.0733,0.0729,0.0733,0.0732,0.0736,0.0779,0.0735,0.0727,0.0726,0.0728,0.0807,0.0731,0.0729,0.0732,0.0736,0.0739,0.073,0.073,0.0739,0.0736,0.0744,0.0746,0.0728,0.0732,0.0731,0.0731,0.0729,0.0729,0.0731,0.0735,0.0788,0.0736,0.0741,0.0729,0.0729,0.0726,0.0726,0.0728,0.0728,0.0728,0.0728,0.0729,0.0727,0.0729,0.0729,0.0728,0.0729,0.0723,0.0737,0.0744,0.0756,0.0726,0.0725,0.0719,0.0719,0.072,0.0722,0.0721,0.0719,0.072,0.0721,0.072,0.0721,0.0725,0.0721,0.0734,0.0722,0.072,0.072,0.0718,0.0722,0.0721,0.0717,0.0741,0.0721,0.0722,0.0726,0.0721,0.0717,0.0718,0.0718,0.0737,0.0718,0.072,0.0721,0.0725,0.0717,0.0718,0.0717,0.0727,0.0728,0.0717,0.0718,0.0734,0.072,0.0717,0.0715,0.0718,0.0717,0.0716,0.072,0.0721,0.0719,0.0719,0.0716,0.0719],\"type\":\"scatter\",\"xaxis\":\"x4\",\"yaxis\":\"y4\"},{\"marker\":{\"color\":[0,1,2,3,4,5,6,7,8,9,10,11,12,13,14,15,16,17,18,19,20,21,22,23,24,25,26,27,28,29,30,31,32,33,34,35,36,37,38,39,40,41,42,43,44,45,46,47,48,49,50,51,52,53,54,55,56,57,58,59,60,61,62,63,64,65,66,67,68,69,70,71,72,73,74,75,76,77,78,79,80,81,82,83,84,85,86,87,88,89,90,91,92,93,94,95,96,97,98,99,100,101,102,103,104,105,106,107,108,109,110,111],\"colorbar\":{\"title\":{\"text\":\"#Trials\"},\"x\":1.0,\"xpad\":40},\"colorscale\":[[0.0,\"rgb(247,251,255)\"],[0.125,\"rgb(222,235,247)\"],[0.25,\"rgb(198,219,239)\"],[0.375,\"rgb(158,202,225)\"],[0.5,\"rgb(107,174,214)\"],[0.625,\"rgb(66,146,198)\"],[0.75,\"rgb(33,113,181)\"],[0.875,\"rgb(8,81,156)\"],[1.0,\"rgb(8,48,107)\"]],\"line\":{\"color\":\"Grey\",\"width\":0.5},\"showscale\":false},\"mode\":\"markers\",\"showlegend\":false,\"x\":[6,10,34,26,10,32,11,18,21,10,22,1,33,31,28,26,28,28,29,16,16,22,23,25,31,31,30,35,35,25,26,20,34,35,35,28,28,32,32,30,30,24,26,24,25,19,19,18,16,14,13,13,23,8,4,6,8,8,8,2,2,2,3,1,1,1,1,1,1,3,3,5,2,1,3,2,5,5,2,2,2,4,4,4,2,2,2,6,2,6,6,7,2,2,2,3,3,4,4,4,5,5,2,2,4,4,7,10,5,5,3,3],\"y\":[0.0734,0.0737,0.0771,0.0735,0.0756,0.0732,0.0733,0.0729,0.0733,0.0732,0.0736,0.0779,0.0735,0.0727,0.0726,0.0728,0.0807,0.0731,0.0729,0.0732,0.0736,0.0739,0.073,0.073,0.0739,0.0736,0.0744,0.0746,0.0728,0.0732,0.0731,0.0731,0.0729,0.0729,0.0731,0.0735,0.0788,0.0736,0.0741,0.0729,0.0729,0.0726,0.0726,0.0728,0.0728,0.0728,0.0728,0.0729,0.0727,0.0729,0.0729,0.0728,0.0729,0.0723,0.0737,0.0744,0.0756,0.0726,0.0725,0.0719,0.0719,0.072,0.0722,0.0721,0.0719,0.072,0.0721,0.072,0.0721,0.0725,0.0721,0.0734,0.0722,0.072,0.072,0.0718,0.0722,0.0721,0.0717,0.0741,0.0721,0.0722,0.0726,0.0721,0.0717,0.0718,0.0718,0.0737,0.0718,0.072,0.0721,0.0725,0.0717,0.0718,0.0717,0.0727,0.0728,0.0717,0.0718,0.0734,0.072,0.0717,0.0715,0.0718,0.0717,0.0716,0.072,0.0721,0.0719,0.0719,0.0716,0.0719],\"type\":\"scatter\",\"xaxis\":\"x5\",\"yaxis\":\"y5\"},{\"marker\":{\"color\":[0,1,2,3,4,5,6,7,8,9,10,11,12,13,14,15,16,17,18,19,20,21,22,23,24,25,26,27,28,29,30,31,32,33,34,35,36,37,38,39,40,41,42,43,44,45,46,47,48,49,50,51,52,53,54,55,56,57,58,59,60,61,62,63,64,65,66,67,68,69,70,71,72,73,74,75,76,77,78,79,80,81,82,83,84,85,86,87,88,89,90,91,92,93,94,95,96,97,98,99,100,101,102,103,104,105,106,107,108,109,110,111],\"colorbar\":{\"title\":{\"text\":\"#Trials\"},\"x\":1.0,\"xpad\":40},\"colorscale\":[[0.0,\"rgb(247,251,255)\"],[0.125,\"rgb(222,235,247)\"],[0.25,\"rgb(198,219,239)\"],[0.375,\"rgb(158,202,225)\"],[0.5,\"rgb(107,174,214)\"],[0.625,\"rgb(66,146,198)\"],[0.75,\"rgb(33,113,181)\"],[0.875,\"rgb(8,81,156)\"],[1.0,\"rgb(8,48,107)\"]],\"line\":{\"color\":\"Grey\",\"width\":0.5},\"showscale\":false},\"mode\":\"markers\",\"showlegend\":false,\"x\":[7,6,3,1,6,2,7,5,6,5,5,4,3,1,1,1,1,2,2,2,3,3,1,1,1,1,8,8,2,2,4,2,2,1,1,1,3,2,2,1,1,3,1,3,3,4,4,4,4,6,5,6,3,2,5,2,2,1,1,1,1,1,1,1,1,1,1,1,1,1,1,2,1,1,1,1,1,2,2,1,2,2,1,1,1,1,1,2,1,1,2,2,1,1,1,7,7,1,1,1,1,1,1,1,1,1,2,2,1,1,1,1],\"y\":[0.0734,0.0737,0.0771,0.0735,0.0756,0.0732,0.0733,0.0729,0.0733,0.0732,0.0736,0.0779,0.0735,0.0727,0.0726,0.0728,0.0807,0.0731,0.0729,0.0732,0.0736,0.0739,0.073,0.073,0.0739,0.0736,0.0744,0.0746,0.0728,0.0732,0.0731,0.0731,0.0729,0.0729,0.0731,0.0735,0.0788,0.0736,0.0741,0.0729,0.0729,0.0726,0.0726,0.0728,0.0728,0.0728,0.0728,0.0729,0.0727,0.0729,0.0729,0.0728,0.0729,0.0723,0.0737,0.0744,0.0756,0.0726,0.0725,0.0719,0.0719,0.072,0.0722,0.0721,0.0719,0.072,0.0721,0.072,0.0721,0.0725,0.0721,0.0734,0.0722,0.072,0.072,0.0718,0.0722,0.0721,0.0717,0.0741,0.0721,0.0722,0.0726,0.0721,0.0717,0.0718,0.0718,0.0737,0.0718,0.072,0.0721,0.0725,0.0717,0.0718,0.0717,0.0727,0.0728,0.0717,0.0718,0.0734,0.072,0.0717,0.0715,0.0718,0.0717,0.0716,0.072,0.0721,0.0719,0.0719,0.0716,0.0719],\"type\":\"scatter\",\"xaxis\":\"x6\",\"yaxis\":\"y6\"},{\"marker\":{\"color\":[0,1,2,3,4,5,6,7,8,9,10,11,12,13,14,15,16,17,18,19,20,21,22,23,24,25,26,27,28,29,30,31,32,33,34,35,36,37,38,39,40,41,42,43,44,45,46,47,48,49,50,51,52,53,54,55,56,57,58,59,60,61,62,63,64,65,66,67,68,69,70,71,72,73,74,75,76,77,78,79,80,81,82,83,84,85,86,87,88,89,90,91,92,93,94,95,96,97,98,99,100,101,102,103,104,105,106,107,108,109,110,111],\"colorbar\":{\"title\":{\"text\":\"#Trials\"},\"x\":1.0,\"xpad\":40},\"colorscale\":[[0.0,\"rgb(247,251,255)\"],[0.125,\"rgb(222,235,247)\"],[0.25,\"rgb(198,219,239)\"],[0.375,\"rgb(158,202,225)\"],[0.5,\"rgb(107,174,214)\"],[0.625,\"rgb(66,146,198)\"],[0.75,\"rgb(33,113,181)\"],[0.875,\"rgb(8,81,156)\"],[1.0,\"rgb(8,48,107)\"]],\"line\":{\"color\":\"Grey\",\"width\":0.5},\"showscale\":false},\"mode\":\"markers\",\"showlegend\":false,\"x\":[2123,2334,2373,2820,1709,2643,1390,2423,2278,1583,2178,2955,2891,2638,2628,2544,2626,1863,2002,1067,1059,2758,2607,2545,2505,2483,2757,2757,2992,2985,2091,2251,2686,2690,2855,2900,2370,2991,2437,2817,2800,2315,2626,2317,2319,2313,2183,2071,2172,2408,1965,2417,2225,1770,1817,1721,1423,1335,1565,1216,1524,1187,1209,1170,1170,1154,1156,1161,1140,1014,1316,1286,1278,1146,1461,1421,1444,1478,1503,1239,1097,1546,1548,1365,1632,1621,1628,1640,1520,1629,1690,1513,1620,1607,1634,1624,1618,1908,1882,1695,1903,1907,1760,1775,1783,1871,1896,1969,1961,1827,1818,1730],\"y\":[0.0734,0.0737,0.0771,0.0735,0.0756,0.0732,0.0733,0.0729,0.0733,0.0732,0.0736,0.0779,0.0735,0.0727,0.0726,0.0728,0.0807,0.0731,0.0729,0.0732,0.0736,0.0739,0.073,0.073,0.0739,0.0736,0.0744,0.0746,0.0728,0.0732,0.0731,0.0731,0.0729,0.0729,0.0731,0.0735,0.0788,0.0736,0.0741,0.0729,0.0729,0.0726,0.0726,0.0728,0.0728,0.0728,0.0728,0.0729,0.0727,0.0729,0.0729,0.0728,0.0729,0.0723,0.0737,0.0744,0.0756,0.0726,0.0725,0.0719,0.0719,0.072,0.0722,0.0721,0.0719,0.072,0.0721,0.072,0.0721,0.0725,0.0721,0.0734,0.0722,0.072,0.072,0.0718,0.0722,0.0721,0.0717,0.0741,0.0721,0.0722,0.0726,0.0721,0.0717,0.0718,0.0718,0.0737,0.0718,0.072,0.0721,0.0725,0.0717,0.0718,0.0717,0.0727,0.0728,0.0717,0.0718,0.0734,0.072,0.0717,0.0715,0.0718,0.0717,0.0716,0.072,0.0721,0.0719,0.0719,0.0716,0.0719],\"type\":\"scatter\",\"xaxis\":\"x7\",\"yaxis\":\"y7\"},{\"marker\":{\"color\":[0,1,2,3,4,5,6,7,8,9,10,11,12,13,14,15,16,17,18,19,20,21,22,23,24,25,26,27,28,29,30,31,32,33,34,35,36,37,38,39,40,41,42,43,44,45,46,47,48,49,50,51,52,53,54,55,56,57,58,59,60,61,62,63,64,65,66,67,68,69,70,71,72,73,74,75,76,77,78,79,80,81,82,83,84,85,86,87,88,89,90,91,92,93,94,95,96,97,98,99,100,101,102,103,104,105,106,107,108,109,110,111],\"colorbar\":{\"title\":{\"text\":\"#Trials\"},\"x\":1.0,\"xpad\":40},\"colorscale\":[[0.0,\"rgb(247,251,255)\"],[0.125,\"rgb(222,235,247)\"],[0.25,\"rgb(198,219,239)\"],[0.375,\"rgb(158,202,225)\"],[0.5,\"rgb(107,174,214)\"],[0.625,\"rgb(66,146,198)\"],[0.75,\"rgb(33,113,181)\"],[0.875,\"rgb(8,81,156)\"],[1.0,\"rgb(8,48,107)\"]],\"line\":{\"color\":\"Grey\",\"width\":0.5},\"showscale\":false},\"mode\":\"markers\",\"showlegend\":false,\"x\":[8,5,7,1,8,5,2,3,8,1,3,3,5,5,4,4,6,6,6,4,4,4,4,4,5,2,2,3,3,7,6,7,3,5,5,4,4,2,2,3,3,5,3,5,5,5,5,6,6,7,6,7,6,3,5,4,4,4,1,1,1,1,1,1,1,1,1,1,1,1,1,2,1,1,1,2,2,2,2,1,2,2,1,1,1,1,1,2,1,2,2,1,1,1,1,1,1,2,2,2,2,2,2,2,2,2,3,3,2,2,2,2],\"y\":[0.0734,0.0737,0.0771,0.0735,0.0756,0.0732,0.0733,0.0729,0.0733,0.0732,0.0736,0.0779,0.0735,0.0727,0.0726,0.0728,0.0807,0.0731,0.0729,0.0732,0.0736,0.0739,0.073,0.073,0.0739,0.0736,0.0744,0.0746,0.0728,0.0732,0.0731,0.0731,0.0729,0.0729,0.0731,0.0735,0.0788,0.0736,0.0741,0.0729,0.0729,0.0726,0.0726,0.0728,0.0728,0.0728,0.0728,0.0729,0.0727,0.0729,0.0729,0.0728,0.0729,0.0723,0.0737,0.0744,0.0756,0.0726,0.0725,0.0719,0.0719,0.072,0.0722,0.0721,0.0719,0.072,0.0721,0.072,0.0721,0.0725,0.0721,0.0734,0.0722,0.072,0.072,0.0718,0.0722,0.0721,0.0717,0.0741,0.0721,0.0722,0.0726,0.0721,0.0717,0.0718,0.0718,0.0737,0.0718,0.072,0.0721,0.0725,0.0717,0.0718,0.0717,0.0727,0.0728,0.0717,0.0718,0.0734,0.072,0.0717,0.0715,0.0718,0.0717,0.0716,0.072,0.0721,0.0719,0.0719,0.0716,0.0719],\"type\":\"scatter\",\"xaxis\":\"x8\",\"yaxis\":\"y8\"}],                        {\"template\":{\"data\":{\"bar\":[{\"error_x\":{\"color\":\"#2a3f5f\"},\"error_y\":{\"color\":\"#2a3f5f\"},\"marker\":{\"line\":{\"color\":\"#E5ECF6\",\"width\":0.5},\"pattern\":{\"fillmode\":\"overlay\",\"size\":10,\"solidity\":0.2}},\"type\":\"bar\"}],\"barpolar\":[{\"marker\":{\"line\":{\"color\":\"#E5ECF6\",\"width\":0.5},\"pattern\":{\"fillmode\":\"overlay\",\"size\":10,\"solidity\":0.2}},\"type\":\"barpolar\"}],\"carpet\":[{\"aaxis\":{\"endlinecolor\":\"#2a3f5f\",\"gridcolor\":\"white\",\"linecolor\":\"white\",\"minorgridcolor\":\"white\",\"startlinecolor\":\"#2a3f5f\"},\"baxis\":{\"endlinecolor\":\"#2a3f5f\",\"gridcolor\":\"white\",\"linecolor\":\"white\",\"minorgridcolor\":\"white\",\"startlinecolor\":\"#2a3f5f\"},\"type\":\"carpet\"}],\"choropleth\":[{\"colorbar\":{\"outlinewidth\":0,\"ticks\":\"\"},\"type\":\"choropleth\"}],\"contour\":[{\"colorbar\":{\"outlinewidth\":0,\"ticks\":\"\"},\"colorscale\":[[0.0,\"#0d0887\"],[0.1111111111111111,\"#46039f\"],[0.2222222222222222,\"#7201a8\"],[0.3333333333333333,\"#9c179e\"],[0.4444444444444444,\"#bd3786\"],[0.5555555555555556,\"#d8576b\"],[0.6666666666666666,\"#ed7953\"],[0.7777777777777778,\"#fb9f3a\"],[0.8888888888888888,\"#fdca26\"],[1.0,\"#f0f921\"]],\"type\":\"contour\"}],\"contourcarpet\":[{\"colorbar\":{\"outlinewidth\":0,\"ticks\":\"\"},\"type\":\"contourcarpet\"}],\"heatmap\":[{\"colorbar\":{\"outlinewidth\":0,\"ticks\":\"\"},\"colorscale\":[[0.0,\"#0d0887\"],[0.1111111111111111,\"#46039f\"],[0.2222222222222222,\"#7201a8\"],[0.3333333333333333,\"#9c179e\"],[0.4444444444444444,\"#bd3786\"],[0.5555555555555556,\"#d8576b\"],[0.6666666666666666,\"#ed7953\"],[0.7777777777777778,\"#fb9f3a\"],[0.8888888888888888,\"#fdca26\"],[1.0,\"#f0f921\"]],\"type\":\"heatmap\"}],\"heatmapgl\":[{\"colorbar\":{\"outlinewidth\":0,\"ticks\":\"\"},\"colorscale\":[[0.0,\"#0d0887\"],[0.1111111111111111,\"#46039f\"],[0.2222222222222222,\"#7201a8\"],[0.3333333333333333,\"#9c179e\"],[0.4444444444444444,\"#bd3786\"],[0.5555555555555556,\"#d8576b\"],[0.6666666666666666,\"#ed7953\"],[0.7777777777777778,\"#fb9f3a\"],[0.8888888888888888,\"#fdca26\"],[1.0,\"#f0f921\"]],\"type\":\"heatmapgl\"}],\"histogram\":[{\"marker\":{\"pattern\":{\"fillmode\":\"overlay\",\"size\":10,\"solidity\":0.2}},\"type\":\"histogram\"}],\"histogram2d\":[{\"colorbar\":{\"outlinewidth\":0,\"ticks\":\"\"},\"colorscale\":[[0.0,\"#0d0887\"],[0.1111111111111111,\"#46039f\"],[0.2222222222222222,\"#7201a8\"],[0.3333333333333333,\"#9c179e\"],[0.4444444444444444,\"#bd3786\"],[0.5555555555555556,\"#d8576b\"],[0.6666666666666666,\"#ed7953\"],[0.7777777777777778,\"#fb9f3a\"],[0.8888888888888888,\"#fdca26\"],[1.0,\"#f0f921\"]],\"type\":\"histogram2d\"}],\"histogram2dcontour\":[{\"colorbar\":{\"outlinewidth\":0,\"ticks\":\"\"},\"colorscale\":[[0.0,\"#0d0887\"],[0.1111111111111111,\"#46039f\"],[0.2222222222222222,\"#7201a8\"],[0.3333333333333333,\"#9c179e\"],[0.4444444444444444,\"#bd3786\"],[0.5555555555555556,\"#d8576b\"],[0.6666666666666666,\"#ed7953\"],[0.7777777777777778,\"#fb9f3a\"],[0.8888888888888888,\"#fdca26\"],[1.0,\"#f0f921\"]],\"type\":\"histogram2dcontour\"}],\"mesh3d\":[{\"colorbar\":{\"outlinewidth\":0,\"ticks\":\"\"},\"type\":\"mesh3d\"}],\"parcoords\":[{\"line\":{\"colorbar\":{\"outlinewidth\":0,\"ticks\":\"\"}},\"type\":\"parcoords\"}],\"pie\":[{\"automargin\":true,\"type\":\"pie\"}],\"scatter\":[{\"marker\":{\"colorbar\":{\"outlinewidth\":0,\"ticks\":\"\"}},\"type\":\"scatter\"}],\"scatter3d\":[{\"line\":{\"colorbar\":{\"outlinewidth\":0,\"ticks\":\"\"}},\"marker\":{\"colorbar\":{\"outlinewidth\":0,\"ticks\":\"\"}},\"type\":\"scatter3d\"}],\"scattercarpet\":[{\"marker\":{\"colorbar\":{\"outlinewidth\":0,\"ticks\":\"\"}},\"type\":\"scattercarpet\"}],\"scattergeo\":[{\"marker\":{\"colorbar\":{\"outlinewidth\":0,\"ticks\":\"\"}},\"type\":\"scattergeo\"}],\"scattergl\":[{\"marker\":{\"colorbar\":{\"outlinewidth\":0,\"ticks\":\"\"}},\"type\":\"scattergl\"}],\"scattermapbox\":[{\"marker\":{\"colorbar\":{\"outlinewidth\":0,\"ticks\":\"\"}},\"type\":\"scattermapbox\"}],\"scatterpolar\":[{\"marker\":{\"colorbar\":{\"outlinewidth\":0,\"ticks\":\"\"}},\"type\":\"scatterpolar\"}],\"scatterpolargl\":[{\"marker\":{\"colorbar\":{\"outlinewidth\":0,\"ticks\":\"\"}},\"type\":\"scatterpolargl\"}],\"scatterternary\":[{\"marker\":{\"colorbar\":{\"outlinewidth\":0,\"ticks\":\"\"}},\"type\":\"scatterternary\"}],\"surface\":[{\"colorbar\":{\"outlinewidth\":0,\"ticks\":\"\"},\"colorscale\":[[0.0,\"#0d0887\"],[0.1111111111111111,\"#46039f\"],[0.2222222222222222,\"#7201a8\"],[0.3333333333333333,\"#9c179e\"],[0.4444444444444444,\"#bd3786\"],[0.5555555555555556,\"#d8576b\"],[0.6666666666666666,\"#ed7953\"],[0.7777777777777778,\"#fb9f3a\"],[0.8888888888888888,\"#fdca26\"],[1.0,\"#f0f921\"]],\"type\":\"surface\"}],\"table\":[{\"cells\":{\"fill\":{\"color\":\"#EBF0F8\"},\"line\":{\"color\":\"white\"}},\"header\":{\"fill\":{\"color\":\"#C8D4E3\"},\"line\":{\"color\":\"white\"}},\"type\":\"table\"}]},\"layout\":{\"annotationdefaults\":{\"arrowcolor\":\"#2a3f5f\",\"arrowhead\":0,\"arrowwidth\":1},\"autotypenumbers\":\"strict\",\"coloraxis\":{\"colorbar\":{\"outlinewidth\":0,\"ticks\":\"\"}},\"colorscale\":{\"diverging\":[[0,\"#8e0152\"],[0.1,\"#c51b7d\"],[0.2,\"#de77ae\"],[0.3,\"#f1b6da\"],[0.4,\"#fde0ef\"],[0.5,\"#f7f7f7\"],[0.6,\"#e6f5d0\"],[0.7,\"#b8e186\"],[0.8,\"#7fbc41\"],[0.9,\"#4d9221\"],[1,\"#276419\"]],\"sequential\":[[0.0,\"#0d0887\"],[0.1111111111111111,\"#46039f\"],[0.2222222222222222,\"#7201a8\"],[0.3333333333333333,\"#9c179e\"],[0.4444444444444444,\"#bd3786\"],[0.5555555555555556,\"#d8576b\"],[0.6666666666666666,\"#ed7953\"],[0.7777777777777778,\"#fb9f3a\"],[0.8888888888888888,\"#fdca26\"],[1.0,\"#f0f921\"]],\"sequentialminus\":[[0.0,\"#0d0887\"],[0.1111111111111111,\"#46039f\"],[0.2222222222222222,\"#7201a8\"],[0.3333333333333333,\"#9c179e\"],[0.4444444444444444,\"#bd3786\"],[0.5555555555555556,\"#d8576b\"],[0.6666666666666666,\"#ed7953\"],[0.7777777777777778,\"#fb9f3a\"],[0.8888888888888888,\"#fdca26\"],[1.0,\"#f0f921\"]]},\"colorway\":[\"#636efa\",\"#EF553B\",\"#00cc96\",\"#ab63fa\",\"#FFA15A\",\"#19d3f3\",\"#FF6692\",\"#B6E880\",\"#FF97FF\",\"#FECB52\"],\"font\":{\"color\":\"#2a3f5f\"},\"geo\":{\"bgcolor\":\"white\",\"lakecolor\":\"white\",\"landcolor\":\"#E5ECF6\",\"showlakes\":true,\"showland\":true,\"subunitcolor\":\"white\"},\"hoverlabel\":{\"align\":\"left\"},\"hovermode\":\"closest\",\"mapbox\":{\"style\":\"light\"},\"paper_bgcolor\":\"white\",\"plot_bgcolor\":\"#E5ECF6\",\"polar\":{\"angularaxis\":{\"gridcolor\":\"white\",\"linecolor\":\"white\",\"ticks\":\"\"},\"bgcolor\":\"#E5ECF6\",\"radialaxis\":{\"gridcolor\":\"white\",\"linecolor\":\"white\",\"ticks\":\"\"}},\"scene\":{\"xaxis\":{\"backgroundcolor\":\"#E5ECF6\",\"gridcolor\":\"white\",\"gridwidth\":2,\"linecolor\":\"white\",\"showbackground\":true,\"ticks\":\"\",\"zerolinecolor\":\"white\"},\"yaxis\":{\"backgroundcolor\":\"#E5ECF6\",\"gridcolor\":\"white\",\"gridwidth\":2,\"linecolor\":\"white\",\"showbackground\":true,\"ticks\":\"\",\"zerolinecolor\":\"white\"},\"zaxis\":{\"backgroundcolor\":\"#E5ECF6\",\"gridcolor\":\"white\",\"gridwidth\":2,\"linecolor\":\"white\",\"showbackground\":true,\"ticks\":\"\",\"zerolinecolor\":\"white\"}},\"shapedefaults\":{\"line\":{\"color\":\"#2a3f5f\"}},\"ternary\":{\"aaxis\":{\"gridcolor\":\"white\",\"linecolor\":\"white\",\"ticks\":\"\"},\"baxis\":{\"gridcolor\":\"white\",\"linecolor\":\"white\",\"ticks\":\"\"},\"bgcolor\":\"#E5ECF6\",\"caxis\":{\"gridcolor\":\"white\",\"linecolor\":\"white\",\"ticks\":\"\"}},\"title\":{\"x\":0.05},\"xaxis\":{\"automargin\":true,\"gridcolor\":\"white\",\"linecolor\":\"white\",\"ticks\":\"\",\"title\":{\"standoff\":15},\"zerolinecolor\":\"white\",\"zerolinewidth\":2},\"yaxis\":{\"automargin\":true,\"gridcolor\":\"white\",\"linecolor\":\"white\",\"ticks\":\"\",\"title\":{\"standoff\":15},\"zerolinecolor\":\"white\",\"zerolinewidth\":2}}},\"xaxis\":{\"anchor\":\"y\",\"domain\":[0.0,0.103125],\"title\":{\"text\":\"alpha\"},\"type\":\"log\"},\"yaxis\":{\"anchor\":\"x\",\"domain\":[0.0,1.0],\"title\":{\"text\":\"Objective Value\"}},\"xaxis2\":{\"anchor\":\"y2\",\"domain\":[0.128125,0.23124999999999998],\"title\":{\"text\":\"lambda\"},\"type\":\"log\"},\"yaxis2\":{\"anchor\":\"x2\",\"domain\":[0.0,1.0],\"matches\":\"y\",\"showticklabels\":false},\"xaxis3\":{\"anchor\":\"y3\",\"domain\":[0.25625,0.359375],\"title\":{\"text\":\"learning_rate\"},\"type\":\"log\"},\"yaxis3\":{\"anchor\":\"x3\",\"domain\":[0.0,1.0],\"matches\":\"y\",\"showticklabels\":false},\"xaxis4\":{\"anchor\":\"y4\",\"domain\":[0.38437499999999997,0.48749999999999993],\"title\":{\"text\":\"max_depth\"}},\"yaxis4\":{\"anchor\":\"x4\",\"domain\":[0.0,1.0],\"matches\":\"y\",\"showticklabels\":false},\"xaxis5\":{\"anchor\":\"y5\",\"domain\":[0.5125,0.615625],\"title\":{\"text\":\"min_child_weight\"}},\"yaxis5\":{\"anchor\":\"x5\",\"domain\":[0.0,1.0],\"matches\":\"y\",\"showticklabels\":false},\"xaxis6\":{\"anchor\":\"y6\",\"domain\":[0.640625,0.74375],\"title\":{\"text\":\"min_samples_leaf\"}},\"yaxis6\":{\"anchor\":\"x6\",\"domain\":[0.0,1.0],\"matches\":\"y\",\"showticklabels\":false},\"xaxis7\":{\"anchor\":\"y7\",\"domain\":[0.76875,0.8718750000000001],\"title\":{\"text\":\"n_estimators\"}},\"yaxis7\":{\"anchor\":\"x7\",\"domain\":[0.0,1.0],\"matches\":\"y\",\"showticklabels\":false},\"xaxis8\":{\"anchor\":\"y8\",\"domain\":[0.8968750000000001,1.0],\"title\":{\"text\":\"smoothing\"}},\"yaxis8\":{\"anchor\":\"x8\",\"domain\":[0.0,1.0],\"matches\":\"y\",\"showticklabels\":false},\"title\":{\"text\":\"Slice Plot\"},\"width\":2400},                        {\"responsive\": true}                    ).then(function(){\n",
              "                            \n",
              "var gd = document.getElementById('c4324d39-f51a-4f40-8d43-f9e8c5b4da63');\n",
              "var x = new MutationObserver(function (mutations, observer) {{\n",
              "        var display = window.getComputedStyle(gd).display;\n",
              "        if (!display || display === 'none') {{\n",
              "            console.log([gd, 'removed!']);\n",
              "            Plotly.purge(gd);\n",
              "            observer.disconnect();\n",
              "        }}\n",
              "}});\n",
              "\n",
              "// Listen for the removal of the full notebook cells\n",
              "var notebookContainer = gd.closest('#notebook-container');\n",
              "if (notebookContainer) {{\n",
              "    x.observe(notebookContainer, {childList: true});\n",
              "}}\n",
              "\n",
              "// Listen for the clearing of the current output cell\n",
              "var outputEl = gd.closest('.output');\n",
              "if (outputEl) {{\n",
              "    x.observe(outputEl, {childList: true});\n",
              "}}\n",
              "\n",
              "                        })                };                            </script>        </div>\n",
              "</body>\n",
              "</html>"
            ]
          },
          "metadata": {}
        }
      ],
      "source": [
        "'''plot_slice: shows the evolution of the search. You can see where in the hyperparameter space your search\n",
        "went and which parts of the space were explored more.'''\n",
        "optuna.visualization.plot_slice(study)"
      ]
    },
    {
      "cell_type": "code",
      "execution_count": 106,
      "metadata": {
        "colab": {
          "base_uri": "https://localhost:8080/"
        },
        "id": "5d9c2830",
        "outputId": "813013f6-c56a-441b-fc28-d5fbe88bbde3"
      },
      "outputs": [
        {
          "output_type": "stream",
          "name": "stdout",
          "text": [
            "Avg. RMSE: 4813.301846128091\n",
            "Avg. MAPE: 0.07148179438813994\n"
          ]
        }
      ],
      "source": [
        "# Define the regressor with optimal hyperparameters\n",
        "param_grid = {\n",
        "  'min_samples_leaf': 1, \n",
        "  'smoothing': 2,\n",
        "  \"cols\": ['make','model','trim']\n",
        "}\n",
        "\n",
        "preprocessor = ColumnTransformer(\n",
        "transformers=[\n",
        "    ('target_encode', TargetEncoder(**param_grid), ['make','model','trim']),\n",
        "    ('one_hot_encode', OneHotEncoder(use_cat_names=True, handle_unknown='ignore'), cat_features),\n",
        "], remainder='passthrough')\n",
        "\n",
        "params = {\n",
        "  'learning_rate': 0.1417, \n",
        "  'n_estimators': 1760, \n",
        "  'max_depth': 5,\n",
        "  'min_child_weight':2,\n",
        "  'alpha':0.0466,\n",
        "  'lambda':0.14,\n",
        "  'subsample': 1, \n",
        "  'colsample_bytree': 1,\n",
        "  'tree_method' : 'gpu_hist',\n",
        "  \"model__booster\": 'gbtree',\n",
        "  \"objective\" : 'reg:squarederror',\n",
        "  'early_stopping_rounds': 100,\n",
        "  'random_state': 42\n",
        "}\n",
        "\n",
        "xgb = XGBRegressor(**params) \n",
        "\n",
        "# Bundle preprocessing and model in a pipeline\n",
        "my_pipeline = Pipeline(steps=[('preprocessor', preprocessor),\n",
        "                          ('model', xgb)\n",
        "                        ])\n",
        "my_pipeline.fit(X, y)\n",
        "\n",
        "# 5 Fold Cross validation\n",
        "from sklearn.model_selection import cross_validate\n",
        "kf = KFold(n_splits=5, shuffle=True, random_state=42)\n",
        "scoring = {'rmse': 'neg_mean_squared_error',\n",
        "           'mape': 'neg_mean_absolute_percentage_error'}\n",
        "scores = cross_validate(my_pipeline, X, y, scoring=scoring, cv=kf, n_jobs=-1)\n",
        "\n",
        "mean_rmse = np.sqrt(pd.Series(scores['test_rmse']).mean()*(-1))\n",
        "mean_mape = pd.Series(scores['test_mape']).mean()*(-1)\n",
        "\n",
        "print(f'Avg. RMSE: {mean_rmse}')\n",
        "print(f'Avg. MAPE: {mean_mape}')"
      ]
    },
    {
      "cell_type": "code",
      "execution_count": 107,
      "metadata": {
        "colab": {
          "base_uri": "https://localhost:8080/"
        },
        "id": "b146ddf7",
        "outputId": "f3f36b74-b91c-4880-b69e-d395931fced0"
      },
      "outputs": [
        {
          "output_type": "stream",
          "name": "stdout",
          "text": [
            "Prediction: 43756\n"
          ]
        }
      ],
      "source": [
        "# Get prediction on a single new data\n",
        "test_dict = pd.DataFrame({\"make\":\"Porsche\",\"model\":'Macan', \"bodytype\": \"suv\", \"odometer\":104000, \"trim\":\"nan\", \n",
        "                          \"year\":2017, \"drivetrain\":\"AWD\", \"transmission_manual\": 0, \"province\": \"ontario\"},index=[1])\n",
        "\n",
        "print(f\"Prediction: {int(my_pipeline.predict(test_dict))}\")"
      ]
    },
    {
      "cell_type": "markdown",
      "metadata": {
        "id": "defabd9f"
      },
      "source": [
        "## Model predictions on test data"
      ]
    },
    {
      "cell_type": "code",
      "execution_count": 111,
      "metadata": {
        "colab": {
          "base_uri": "https://localhost:8080/"
        },
        "id": "1d993873",
        "outputId": "f3a9bb4b-1e11-4ad4-b0c4-d0fdab9ba5c2"
      },
      "outputs": [
        {
          "output_type": "stream",
          "name": "stdout",
          "text": [
            "<class 'pandas.core.frame.DataFrame'>\n",
            "Int64Index: 4625 entries, 1 to 9475\n",
            "Data columns (total 10 columns):\n",
            " #   Column               Non-Null Count  Dtype \n",
            "---  ------               --------------  ----- \n",
            " 0   make                 4625 non-null   object\n",
            " 1   model                4625 non-null   object\n",
            " 2   odometer             4625 non-null   int64 \n",
            " 3   price                4625 non-null   int64 \n",
            " 4   bodytype             4625 non-null   object\n",
            " 5   trim                 4625 non-null   object\n",
            " 6   year                 4625 non-null   int64 \n",
            " 7   drivetrain           4625 non-null   object\n",
            " 8   province             4625 non-null   object\n",
            " 9   transmission_manual  4625 non-null   int64 \n",
            "dtypes: int64(4), object(6)\n",
            "memory usage: 397.5+ KB\n"
          ]
        }
      ],
      "source": [
        "test_df = import_data(folder+\"/test_clean.csv\").reset_index(drop=True)\n",
        "\n",
        "# Drop any NA values from df\n",
        "test_df.dropna(inplace=True)\n",
        "\n",
        "test_df.info()"
      ]
    },
    {
      "cell_type": "code",
      "execution_count": 112,
      "metadata": {
        "colab": {
          "base_uri": "https://localhost:8080/"
        },
        "id": "3d617521",
        "outputId": "1eab573d-3cc4-4b70-8e84-60744b19b62a"
      },
      "outputs": [
        {
          "output_type": "stream",
          "name": "stdout",
          "text": [
            "MAPE: 0.067\n",
            "RMSE: 3330.0\n"
          ]
        }
      ],
      "source": [
        "# Prepare the features and target dataframes\n",
        "X_test = test_df.drop(['price'], axis=1)\n",
        "y_test = test_df.price\n",
        "\n",
        "# Preprocessing of validation data, get predictions\n",
        "pred_test = my_pipeline.predict(X_test)\n",
        "\n",
        "# Print evaluation metrics\n",
        "mape_test = round(mean_absolute_percentage_error(y_test, pred_test),3)\n",
        "rmse_test = round(mean_squared_error(y_test, pred_test, squared=False),0)\n",
        "\n",
        "print(f\"MAPE: {mape_test}\")\n",
        "print(f\"RMSE: {rmse_test}\")"
      ]
    },
    {
      "cell_type": "markdown",
      "source": [
        "### Save predictions to csv file"
      ],
      "metadata": {
        "id": "iwZd93gOvg6U"
      }
    },
    {
      "cell_type": "code",
      "execution_count": null,
      "metadata": {
        "id": "32a11f9f"
      },
      "outputs": [],
      "source": [
        "test_df['predicted_price'] = pred_test\n",
        "\n",
        "filepath = \"drive/MyDrive/Colab Notebooks/Autotrader Portfolio\"\n",
        "test_df.to_csv(f\"{filepath}/pred_test.csv\")"
      ]
    }
  ],
  "metadata": {
    "accelerator": "GPU",
    "colab": {
      "collapsed_sections": [],
      "name": "Model Training.ipynb",
      "provenance": []
    },
    "gpuClass": "standard",
    "kernelspec": {
      "display_name": "Python 3",
      "name": "python3"
    },
    "language_info": {
      "name": "python"
    }
  },
  "nbformat": 4,
  "nbformat_minor": 0
}